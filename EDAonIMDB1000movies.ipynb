{
 "cells": [
  {
   "cell_type": "markdown",
   "metadata": {
    "collapsed": true
   },
   "source": [
    "# Exploratory Data Analysis on IMDb1000 movies dataset."
   ]
  },
  {
   "cell_type": "markdown",
   "metadata": {},
   "source": [
    "## Table of Contents\n",
    "\n",
    "1. [Problem Statement](#section1)<br>\n",
    "2. [Data Loading and Description](#section2)\n",
    "3. [Data Profiling](#section3)\n",
    "    - 3.1 [Understanding the Dataset](#section301)<br/>\n",
    "    - 3.2 [Pre Profiling](#section302)<br/>\n",
    "    - 3.3 [Preprocessing](#section303)<br/>\n",
    "    - 3.4 [Post Profiling](#section304)<br/>\n",
    "    - 3.5 [Final observations](#section305)\n",
    "4. [Questions](#section4)\n",
    "    - 4.1 [How has the movie industry changed over the 10 years period(2006-2016)?](#section401)<br/>\n",
    "      -4.1.1 [Is the number of movies produced increasing over the years?](#section4011)<br/>\n",
    "      -4.1.2 [Is the Revenue from movies increasing over the years?](#section4012)<br/>\n",
    "      -4.1.3 [Is the Popularity of movies increasing over the years?](#section4013)<br/>\n",
    "    - 4.2 [How does the Genre of a movie affect the outcome of the movie?](#section402)<br/>\n",
    "      -4.2.1 [Does the total number of Genres in the movie affect the revenue, popularity, critical acclaim of the movie?](#section4021)<br/>\n",
    "      -4.2.2 [Which Genre combination bring higher Revenue, higher rating and higher Metascore for a movie?](#section4022)<br/>\n",
    "    - 4.3 [How does the runtime of movies affect the outcome of the movie?](#section403)<br/>\n",
    "      -4.3.1 [Which interval of Runtime receives higher revenue,rating and metascore?](#section4031)<br/>\n",
    "    - 4.4 [what is the impact of directors on the movie?](#section404)<br/>\n",
    "      -4.4.1 [which director's movies receive higher Revenue?](#section4041)<br/>\n",
    "      -4.4.2 [which director's movies receive higher Rating](#section4042)<br/>\n",
    "      -4.4.3 [which director's movies receive higher Metascore](#section4043)<br/>\n",
    "    - 4.5 [Relationship between Revenue, Rating and Metascore of movies](#section405)<br/>\n",
    "5. [Conclusion](#section5)<br/>\n",
    "6. [Actionable Insights](#section6)<br/>"
   ]
  },
  {
   "cell_type": "markdown",
   "metadata": {},
   "source": [
    "<a id='section1'></a>\n",
    "### 1. Problem Statement\n",
    "> The purpose of the analysis is to find out the characteristics of movies that will help earn the best in terms of revenue, popularity and critical acclaim in the movie industry.\n"
   ]
  },
  {
   "cell_type": "markdown",
   "metadata": {},
   "source": [
    "<a id='section2'></a>\n",
    "### 2. Data Loading and Description\n",
    "\n",
    "> The dataset is taken from the IMDB database. It contains data of 1000 most popular movies(by IMDB rating) for the period 2006-2016.  \n",
    ">IMDB (Internet Movie Database) is an online database of information related to films, television programs, home videos and video games, and internet streams, including cast, production crew and personnel biographies, plot summaries, trivia, and fan reviews and ratings.\n",
    "\n",
    "> Users registered on this site are  invited to rate any film on a scale of 1 to 10, and the totals are converted into a weighted mean-rating that is displayed beside each title.\n",
    "\n",
    "> It also displays the Metascore of each title. Metascore is the rating given by another movie rating company called Metacritic. However, unlike IMDB, they get ratings from registered well known rating agencies and calculates a weighted average of those ratings.\n",
    "\n",
    "> Below is the data dictionary explaining the various columns of the dataset\n",
    "\n",
    "| Columns | Description     |\n",
    "|---------|-----------------|\n",
    "|   Rank  | Movie rank order|\n",
    "| Title   |The title of the film|\n",
    "|Genre    | A comma-separated list of genres used to classify the film|\n",
    "|Description|Brief one-sentence movie summary|\n",
    "|Director   |The name of the film's director|\n",
    "|Actors     |A comma-separated list of the main stars of the film|\n",
    "|Year       |The year that the film released as an integer.|\n",
    "|Runtime (Minutes)|The duration of the film in minutes.|\n",
    "|Rating|User rating for the movie 0-10|\n",
    "|Votes|Number of votes|\n",
    "|Revenue (Millions) | Movie revenue in millions|\n",
    "|Metascore|An aggregated average of critic scores. Values are between 0 and 100. Higher scores represent positive reviews.|"
   ]
  },
  {
   "cell_type": "markdown",
   "metadata": {},
   "source": [
    "### Importing packages"
   ]
  },
  {
   "cell_type": "code",
   "execution_count": 2,
   "metadata": {},
   "outputs": [
    {
     "name": "stdout",
     "output_type": "stream",
     "text": [
      "Collecting pandas_profiling\n",
      "\u001b[?25l  Downloading https://files.pythonhosted.org/packages/2c/2f/aae19e2173c10a9bb7fee5f5cad35dbe53a393960fc91abc477dcc4661e8/pandas-profiling-2.3.0.tar.gz (127kB)\n",
      "\u001b[K     |████████████████████████████████| 133kB 2.9MB/s eta 0:00:01\n",
      "\u001b[?25hRequirement already satisfied: pandas>=0.19 in /home/nbuser/anaconda3_501/lib/python3.6/site-packages (from pandas_profiling) (0.23.4)\n",
      "Requirement already satisfied: matplotlib>=1.4 in /home/nbuser/anaconda3_501/lib/python3.6/site-packages (from pandas_profiling) (3.0.0)\n",
      "Requirement already satisfied: jinja2>=2.8 in /home/nbuser/anaconda3_501/lib/python3.6/site-packages (from pandas_profiling) (2.10)\n",
      "Collecting missingno>=0.4.2 (from pandas_profiling)\n",
      "  Downloading https://files.pythonhosted.org/packages/2b/de/6e4dd6d720c49939544352155dc06a08c9f7e4271aa631a559dfbeaaf9d4/missingno-0.4.2-py3-none-any.whl\n",
      "Collecting htmlmin>=0.1.12 (from pandas_profiling)\n",
      "  Downloading https://files.pythonhosted.org/packages/b3/e7/fcd59e12169de19f0131ff2812077f964c6b960e7c09804d30a7bf2ab461/htmlmin-0.1.12.tar.gz\n",
      "Collecting phik>=0.9.8 (from pandas_profiling)\n",
      "\u001b[?25l  Downloading https://files.pythonhosted.org/packages/45/ad/24a16fa4ba612fb96a3c4bb115a5b9741483f53b66d3d3afd987f20fa227/phik-0.9.8-py3-none-any.whl (606kB)\n",
      "\u001b[K     |████████████████████████████████| 614kB 4.3MB/s eta 0:00:01\n",
      "\u001b[?25hCollecting confuse>=1.0.0 (from pandas_profiling)\n",
      "  Downloading https://files.pythonhosted.org/packages/4c/6f/90e860cba937c174d8b3775729ccc6377eb91f52ad4eeb008e7252a3646d/confuse-1.0.0.tar.gz\n",
      "Requirement already satisfied: astropy in /home/nbuser/anaconda3_501/lib/python3.6/site-packages (from pandas_profiling) (3.0.4)\n",
      "Requirement already satisfied: python-dateutil>=2.5.0 in /home/nbuser/anaconda3_501/lib/python3.6/site-packages (from pandas>=0.19->pandas_profiling) (2.8.0)\n",
      "Requirement already satisfied: pytz>=2011k in /home/nbuser/anaconda3_501/lib/python3.6/site-packages (from pandas>=0.19->pandas_profiling) (2018.7)\n",
      "Requirement already satisfied: numpy>=1.9.0 in /home/nbuser/anaconda3_501/lib/python3.6/site-packages (from pandas>=0.19->pandas_profiling) (1.16.2)\n",
      "Requirement already satisfied: cycler>=0.10 in /home/nbuser/anaconda3_501/lib/python3.6/site-packages (from matplotlib>=1.4->pandas_profiling) (0.10.0)\n",
      "Requirement already satisfied: kiwisolver>=1.0.1 in /home/nbuser/anaconda3_501/lib/python3.6/site-packages (from matplotlib>=1.4->pandas_profiling) (1.0.1)\n",
      "Requirement already satisfied: pyparsing!=2.0.4,!=2.1.2,!=2.1.6,>=2.0.1 in /home/nbuser/anaconda3_501/lib/python3.6/site-packages (from matplotlib>=1.4->pandas_profiling) (2.3.0)\n",
      "Requirement already satisfied: MarkupSafe>=0.23 in /home/nbuser/anaconda3_501/lib/python3.6/site-packages (from jinja2>=2.8->pandas_profiling) (1.1.0)\n",
      "Requirement already satisfied: seaborn in /home/nbuser/anaconda3_501/lib/python3.6/site-packages (from missingno>=0.4.2->pandas_profiling) (0.9.0)\n",
      "Requirement already satisfied: scipy in /home/nbuser/anaconda3_501/lib/python3.6/site-packages (from missingno>=0.4.2->pandas_profiling) (1.1.0)\n",
      "Requirement already satisfied: nbconvert>=5.3.1 in /home/nbuser/anaconda3_501/lib/python3.6/site-packages (from phik>=0.9.8->pandas_profiling) (5.6.0)\n",
      "Collecting pytest-pylint>=0.13.0 (from phik>=0.9.8->pandas_profiling)\n",
      "  Downloading https://files.pythonhosted.org/packages/64/dc/6f35f114844fb12e38d60c4f3d2441a55baff7043ad4e013777dff55746c/pytest_pylint-0.14.1-py3-none-any.whl\n",
      "Collecting pytest>=4.0.2 (from phik>=0.9.8->pandas_profiling)\n",
      "\u001b[?25l  Downloading https://files.pythonhosted.org/packages/2f/19/d5f71752f71451ccc5ed5f6739e9da4a235f38783fdaf3629cae41b2ca7b/pytest-5.1.2-py3-none-any.whl (224kB)\n",
      "\u001b[K     |████████████████████████████████| 225kB 29.0MB/s eta 0:00:01\n",
      "\u001b[?25hRequirement already satisfied: jupyter-client>=5.2.3 in /home/nbuser/anaconda3_501/lib/python3.6/site-packages (from phik>=0.9.8->pandas_profiling) (5.2.3)\n",
      "Requirement already satisfied: numba>=0.38.1 in /home/nbuser/anaconda3_501/lib/python3.6/site-packages (from phik>=0.9.8->pandas_profiling) (0.40.0)\n",
      "Requirement already satisfied: pyyaml in /home/nbuser/anaconda3_501/lib/python3.6/site-packages (from confuse>=1.0.0->pandas_profiling) (3.13)\n",
      "Requirement already satisfied: six>=1.5 in /home/nbuser/anaconda3_501/lib/python3.6/site-packages (from python-dateutil>=2.5.0->pandas>=0.19->pandas_profiling) (1.11.0)\n",
      "Requirement already satisfied: setuptools in /home/nbuser/anaconda3_501/lib/python3.6/site-packages (from kiwisolver>=1.0.1->matplotlib>=1.4->pandas_profiling) (41.1.0)\n",
      "Requirement already satisfied: bleach in /home/nbuser/anaconda3_501/lib/python3.6/site-packages (from nbconvert>=5.3.1->phik>=0.9.8->pandas_profiling) (1.5.0)\n",
      "Requirement already satisfied: traitlets>=4.2 in /home/nbuser/anaconda3_501/lib/python3.6/site-packages (from nbconvert>=5.3.1->phik>=0.9.8->pandas_profiling) (4.3.2)\n",
      "Requirement already satisfied: nbformat>=4.4 in /home/nbuser/anaconda3_501/lib/python3.6/site-packages (from nbconvert>=5.3.1->phik>=0.9.8->pandas_profiling) (4.4.0)\n",
      "Requirement already satisfied: defusedxml in /home/nbuser/anaconda3_501/lib/python3.6/site-packages (from nbconvert>=5.3.1->phik>=0.9.8->pandas_profiling) (0.5.0)\n",
      "Requirement already satisfied: pygments in /home/nbuser/anaconda3_501/lib/python3.6/site-packages (from nbconvert>=5.3.1->phik>=0.9.8->pandas_profiling) (2.2.0)\n",
      "Requirement already satisfied: mistune<2,>=0.8.1 in /home/nbuser/anaconda3_501/lib/python3.6/site-packages (from nbconvert>=5.3.1->phik>=0.9.8->pandas_profiling) (0.8.4)\n",
      "Requirement already satisfied: entrypoints>=0.2.2 in /home/nbuser/anaconda3_501/lib/python3.6/site-packages (from nbconvert>=5.3.1->phik>=0.9.8->pandas_profiling) (0.2.3)\n",
      "Requirement already satisfied: testpath in /home/nbuser/anaconda3_501/lib/python3.6/site-packages (from nbconvert>=5.3.1->phik>=0.9.8->pandas_profiling) (0.4.2)\n",
      "Requirement already satisfied: pandocfilters>=1.4.1 in /home/nbuser/anaconda3_501/lib/python3.6/site-packages (from nbconvert>=5.3.1->phik>=0.9.8->pandas_profiling) (1.4.2)\n",
      "Requirement already satisfied: jupyter-core in /home/nbuser/anaconda3_501/lib/python3.6/site-packages (from nbconvert>=5.3.1->phik>=0.9.8->pandas_profiling) (4.4.0)\n",
      "Requirement already satisfied: pylint>=1.4.5 in /home/nbuser/anaconda3_501/lib/python3.6/site-packages (from pytest-pylint>=0.13.0->phik>=0.9.8->pandas_profiling) (2.1.1)\n",
      "Requirement already satisfied: py>=1.5.0 in /home/nbuser/anaconda3_501/lib/python3.6/site-packages (from pytest>=4.0.2->phik>=0.9.8->pandas_profiling) (1.6.0)\n",
      "Collecting importlib-metadata>=0.12; python_version < \"3.8\" (from pytest>=4.0.2->phik>=0.9.8->pandas_profiling)\n",
      "  Downloading https://files.pythonhosted.org/packages/f6/d2/40b3fa882147719744e6aa50ac39cf7a22a913cbcba86a0371176c425a3b/importlib_metadata-0.23-py2.py3-none-any.whl\n",
      "Requirement already satisfied: more-itertools>=4.0.0 in /home/nbuser/anaconda3_501/lib/python3.6/site-packages (from pytest>=4.0.2->phik>=0.9.8->pandas_profiling) (4.3.0)\n",
      "Requirement already satisfied: atomicwrites>=1.0 in /home/nbuser/anaconda3_501/lib/python3.6/site-packages (from pytest>=4.0.2->phik>=0.9.8->pandas_profiling) (1.2.1)\n",
      "Requirement already satisfied: wcwidth in /home/nbuser/anaconda3_501/lib/python3.6/site-packages (from pytest>=4.0.2->phik>=0.9.8->pandas_profiling) (0.1.7)\n",
      "Collecting pluggy<1.0,>=0.12 (from pytest>=4.0.2->phik>=0.9.8->pandas_profiling)\n",
      "  Downloading https://files.pythonhosted.org/packages/92/c7/48439f7d5fd6bddb4c04b850bb862b42e3e2b98570040dfaf68aedd8114b/pluggy-0.13.0-py2.py3-none-any.whl\n",
      "Requirement already satisfied: packaging in /home/nbuser/anaconda3_501/lib/python3.6/site-packages (from pytest>=4.0.2->phik>=0.9.8->pandas_profiling) (18.0)\n",
      "Requirement already satisfied: attrs>=17.4.0 in /home/nbuser/anaconda3_501/lib/python3.6/site-packages (from pytest>=4.0.2->phik>=0.9.8->pandas_profiling) (18.2.0)\n",
      "Requirement already satisfied: pyzmq>=13 in /home/nbuser/anaconda3_501/lib/python3.6/site-packages (from jupyter-client>=5.2.3->phik>=0.9.8->pandas_profiling) (17.1.2)\n",
      "Requirement already satisfied: tornado>=4.1 in /home/nbuser/anaconda3_501/lib/python3.6/site-packages (from jupyter-client>=5.2.3->phik>=0.9.8->pandas_profiling) (4.5.3)\n",
      "Requirement already satisfied: llvmlite>=0.25.0dev0 in /home/nbuser/anaconda3_501/lib/python3.6/site-packages (from numba>=0.38.1->phik>=0.9.8->pandas_profiling) (0.25.0)\n",
      "Requirement already satisfied: html5lib!=0.9999,!=0.99999,<0.99999999,>=0.999 in /home/nbuser/anaconda3_501/lib/python3.6/site-packages (from bleach->nbconvert>=5.3.1->phik>=0.9.8->pandas_profiling) (0.9999999)\n"
     ]
    },
    {
     "name": "stdout",
     "output_type": "stream",
     "text": [
      "Requirement already satisfied: ipython-genutils in /home/nbuser/anaconda3_501/lib/python3.6/site-packages (from traitlets>=4.2->nbconvert>=5.3.1->phik>=0.9.8->pandas_profiling) (0.2.0)\n",
      "Requirement already satisfied: decorator in /home/nbuser/anaconda3_501/lib/python3.6/site-packages (from traitlets>=4.2->nbconvert>=5.3.1->phik>=0.9.8->pandas_profiling) (4.3.0)\n",
      "Requirement already satisfied: jsonschema!=2.5.0,>=2.4 in /home/nbuser/anaconda3_501/lib/python3.6/site-packages (from nbformat>=4.4->nbconvert>=5.3.1->phik>=0.9.8->pandas_profiling) (2.6.0)\n",
      "Requirement already satisfied: astroid>=2.0.0 in /home/nbuser/anaconda3_501/lib/python3.6/site-packages (from pylint>=1.4.5->pytest-pylint>=0.13.0->phik>=0.9.8->pandas_profiling) (2.0.4)\n",
      "Requirement already satisfied: isort>=4.2.5 in /home/nbuser/anaconda3_501/lib/python3.6/site-packages (from pylint>=1.4.5->pytest-pylint>=0.13.0->phik>=0.9.8->pandas_profiling) (4.3.4)\n",
      "Requirement already satisfied: mccabe in /home/nbuser/anaconda3_501/lib/python3.6/site-packages (from pylint>=1.4.5->pytest-pylint>=0.13.0->phik>=0.9.8->pandas_profiling) (0.6.1)\n",
      "Collecting zipp>=0.5 (from importlib-metadata>=0.12; python_version < \"3.8\"->pytest>=4.0.2->phik>=0.9.8->pandas_profiling)\n",
      "  Downloading https://files.pythonhosted.org/packages/74/3d/1ee25a26411ba0401b43c6376d2316a71addcc72ef8690b101b4ea56d76a/zipp-0.6.0-py2.py3-none-any.whl\n",
      "Requirement already satisfied: lazy_object_proxy in /home/nbuser/anaconda3_501/lib/python3.6/site-packages (from astroid>=2.0.0->pylint>=1.4.5->pytest-pylint>=0.13.0->phik>=0.9.8->pandas_profiling) (1.3.1)\n",
      "Requirement already satisfied: wrapt in /home/nbuser/anaconda3_501/lib/python3.6/site-packages (from astroid>=2.0.0->pylint>=1.4.5->pytest-pylint>=0.13.0->phik>=0.9.8->pandas_profiling) (1.10.11)\n",
      "Requirement already satisfied: typed_ast in /home/nbuser/anaconda3_501/lib/python3.6/site-packages (from astroid>=2.0.0->pylint>=1.4.5->pytest-pylint>=0.13.0->phik>=0.9.8->pandas_profiling) (1.1.0)\n",
      "Building wheels for collected packages: pandas-profiling, htmlmin, confuse\n",
      "  Building wheel for pandas-profiling (setup.py) ... \u001b[?25ldone\n",
      "\u001b[?25h  Created wheel for pandas-profiling: filename=pandas_profiling-2.3.0-py2.py3-none-any.whl size=148431 sha256=c9d544f48f9a27c5da64ce3b2559b98078e519affaed74dc86a93fcd08578b13\n",
      "  Stored in directory: /home/nbuser/.cache/pip/wheels/ce/c7/f1/dbfef4848ebb048cb1d4a22d1ed0c62d8ff2523747235e19fe\n",
      "  Building wheel for htmlmin (setup.py) ... \u001b[?25ldone\n",
      "\u001b[?25h  Created wheel for htmlmin: filename=htmlmin-0.1.12-cp36-none-any.whl size=27185 sha256=71e34357e21dc2c7f8b8979c7cbc2da9da04f5a40616a5c2ce1e06463c0104f2\n",
      "  Stored in directory: /home/nbuser/.cache/pip/wheels/43/07/ac/7c5a9d708d65247ac1f94066cf1db075540b85716c30255459\n",
      "  Building wheel for confuse (setup.py) ... \u001b[?25ldone\n",
      "\u001b[?25h  Created wheel for confuse: filename=confuse-1.0.0-cp36-none-any.whl size=19566 sha256=4df49b6fc903c102387801682420e9f48a24aa9da694559df8bf430d65c3aa78\n",
      "  Stored in directory: /home/nbuser/.cache/pip/wheels/b0/b2/96/2074eee7dbf7b7df69d004c9b6ac4e32dad04fb7666cf943bd\n",
      "Successfully built pandas-profiling htmlmin confuse\n",
      "Installing collected packages: missingno, htmlmin, zipp, importlib-metadata, pluggy, pytest, pytest-pylint, phik, confuse, pandas-profiling\n",
      "  Found existing installation: pluggy 0.7.1\n",
      "    Uninstalling pluggy-0.7.1:\n",
      "      Successfully uninstalled pluggy-0.7.1\n",
      "  Found existing installation: pytest 3.8.2\n",
      "    Uninstalling pytest-3.8.2:\n",
      "      Successfully uninstalled pytest-3.8.2\n",
      "Successfully installed confuse-1.0.0 htmlmin-0.1.12 importlib-metadata-0.23 missingno-0.4.2 pandas-profiling-2.3.0 phik-0.9.8 pluggy-0.13.0 pytest-5.1.2 pytest-pylint-0.14.1 zipp-0.6.0\n",
      "\u001b[33mWARNING: You are using pip version 19.2.2, however version 19.2.3 is available.\n",
      "You should consider upgrading via the 'pip install --upgrade pip' command.\u001b[0m\n"
     ]
    }
   ],
   "source": [
    "import numpy as np                                                 # Implemennts milti-dimensional array and matrices\n",
    "import pandas as pd                                                # For data manipulation and analysis\n",
    "!pip install pandas_profiling\n",
    "import matplotlib.pyplot as plt                                    # Plotting library for Python programming language and it's numerical mathematics extension NumPy\n",
    "import seaborn as sns                                              # Provides a high level interface for drawing attractive and informative statistical graphics\n",
    "%matplotlib inline\n",
    "sns.set()\n",
    "import warnings                                                    # Ignore warning related to pandas_profiling\n",
    "warnings.filterwarnings('ignore') \n",
    "from subprocess import check_output\n"
   ]
  },
  {
   "cell_type": "code",
   "execution_count": 3,
   "metadata": {},
   "outputs": [
    {
     "data": {
      "text/html": [
       "<div>\n",
       "<style scoped>\n",
       "    .dataframe tbody tr th:only-of-type {\n",
       "        vertical-align: middle;\n",
       "    }\n",
       "\n",
       "    .dataframe tbody tr th {\n",
       "        vertical-align: top;\n",
       "    }\n",
       "\n",
       "    .dataframe thead th {\n",
       "        text-align: right;\n",
       "    }\n",
       "</style>\n",
       "<table border=\"1\" class=\"dataframe\">\n",
       "  <thead>\n",
       "    <tr style=\"text-align: right;\">\n",
       "      <th></th>\n",
       "      <th>Rank</th>\n",
       "      <th>Title</th>\n",
       "      <th>Genre</th>\n",
       "      <th>Description</th>\n",
       "      <th>Director</th>\n",
       "      <th>Actors</th>\n",
       "      <th>Year</th>\n",
       "      <th>Runtime (Minutes)</th>\n",
       "      <th>Rating</th>\n",
       "      <th>Votes</th>\n",
       "      <th>Revenue (Millions)</th>\n",
       "      <th>Metascore</th>\n",
       "    </tr>\n",
       "  </thead>\n",
       "  <tbody>\n",
       "    <tr>\n",
       "      <th>0</th>\n",
       "      <td>1</td>\n",
       "      <td>Guardians of the Galaxy</td>\n",
       "      <td>Action,Adventure,Sci-Fi</td>\n",
       "      <td>A group of intergalactic criminals are forced ...</td>\n",
       "      <td>James Gunn</td>\n",
       "      <td>Chris Pratt, Vin Diesel, Bradley Cooper, Zoe S...</td>\n",
       "      <td>2014</td>\n",
       "      <td>121</td>\n",
       "      <td>8.1</td>\n",
       "      <td>757074</td>\n",
       "      <td>333.13</td>\n",
       "      <td>76.0</td>\n",
       "    </tr>\n",
       "    <tr>\n",
       "      <th>1</th>\n",
       "      <td>2</td>\n",
       "      <td>Prometheus</td>\n",
       "      <td>Adventure,Mystery,Sci-Fi</td>\n",
       "      <td>Following clues to the origin of mankind, a te...</td>\n",
       "      <td>Ridley Scott</td>\n",
       "      <td>Noomi Rapace, Logan Marshall-Green, Michael Fa...</td>\n",
       "      <td>2012</td>\n",
       "      <td>124</td>\n",
       "      <td>7.0</td>\n",
       "      <td>485820</td>\n",
       "      <td>126.46</td>\n",
       "      <td>65.0</td>\n",
       "    </tr>\n",
       "    <tr>\n",
       "      <th>2</th>\n",
       "      <td>3</td>\n",
       "      <td>Split</td>\n",
       "      <td>Horror,Thriller</td>\n",
       "      <td>Three girls are kidnapped by a man with a diag...</td>\n",
       "      <td>M. Night Shyamalan</td>\n",
       "      <td>James McAvoy, Anya Taylor-Joy, Haley Lu Richar...</td>\n",
       "      <td>2016</td>\n",
       "      <td>117</td>\n",
       "      <td>7.3</td>\n",
       "      <td>157606</td>\n",
       "      <td>138.12</td>\n",
       "      <td>62.0</td>\n",
       "    </tr>\n",
       "    <tr>\n",
       "      <th>3</th>\n",
       "      <td>4</td>\n",
       "      <td>Sing</td>\n",
       "      <td>Animation,Comedy,Family</td>\n",
       "      <td>In a city of humanoid animals, a hustling thea...</td>\n",
       "      <td>Christophe Lourdelet</td>\n",
       "      <td>Matthew McConaughey,Reese Witherspoon, Seth Ma...</td>\n",
       "      <td>2016</td>\n",
       "      <td>108</td>\n",
       "      <td>7.2</td>\n",
       "      <td>60545</td>\n",
       "      <td>270.32</td>\n",
       "      <td>59.0</td>\n",
       "    </tr>\n",
       "    <tr>\n",
       "      <th>4</th>\n",
       "      <td>5</td>\n",
       "      <td>Suicide Squad</td>\n",
       "      <td>Action,Adventure,Fantasy</td>\n",
       "      <td>A secret government agency recruits some of th...</td>\n",
       "      <td>David Ayer</td>\n",
       "      <td>Will Smith, Jared Leto, Margot Robbie, Viola D...</td>\n",
       "      <td>2016</td>\n",
       "      <td>123</td>\n",
       "      <td>6.2</td>\n",
       "      <td>393727</td>\n",
       "      <td>325.02</td>\n",
       "      <td>40.0</td>\n",
       "    </tr>\n",
       "    <tr>\n",
       "      <th>5</th>\n",
       "      <td>6</td>\n",
       "      <td>The Great Wall</td>\n",
       "      <td>Action,Adventure,Fantasy</td>\n",
       "      <td>European mercenaries searching for black powde...</td>\n",
       "      <td>Yimou Zhang</td>\n",
       "      <td>Matt Damon, Tian Jing, Willem Dafoe, Andy Lau</td>\n",
       "      <td>2016</td>\n",
       "      <td>103</td>\n",
       "      <td>6.1</td>\n",
       "      <td>56036</td>\n",
       "      <td>45.13</td>\n",
       "      <td>42.0</td>\n",
       "    </tr>\n",
       "    <tr>\n",
       "      <th>6</th>\n",
       "      <td>7</td>\n",
       "      <td>La La Land</td>\n",
       "      <td>Comedy,Drama,Music</td>\n",
       "      <td>A jazz pianist falls for an aspiring actress i...</td>\n",
       "      <td>Damien Chazelle</td>\n",
       "      <td>Ryan Gosling, Emma Stone, Rosemarie DeWitt, J....</td>\n",
       "      <td>2016</td>\n",
       "      <td>128</td>\n",
       "      <td>8.3</td>\n",
       "      <td>258682</td>\n",
       "      <td>151.06</td>\n",
       "      <td>93.0</td>\n",
       "    </tr>\n",
       "    <tr>\n",
       "      <th>7</th>\n",
       "      <td>8</td>\n",
       "      <td>Mindhorn</td>\n",
       "      <td>Comedy</td>\n",
       "      <td>A has-been actor best known for playing the ti...</td>\n",
       "      <td>Sean Foley</td>\n",
       "      <td>Essie Davis, Andrea Riseborough, Julian Barrat...</td>\n",
       "      <td>2016</td>\n",
       "      <td>89</td>\n",
       "      <td>6.4</td>\n",
       "      <td>2490</td>\n",
       "      <td>NaN</td>\n",
       "      <td>71.0</td>\n",
       "    </tr>\n",
       "    <tr>\n",
       "      <th>8</th>\n",
       "      <td>9</td>\n",
       "      <td>The Lost City of Z</td>\n",
       "      <td>Action,Adventure,Biography</td>\n",
       "      <td>A true-life drama, centering on British explor...</td>\n",
       "      <td>James Gray</td>\n",
       "      <td>Charlie Hunnam, Robert Pattinson, Sienna Mille...</td>\n",
       "      <td>2016</td>\n",
       "      <td>141</td>\n",
       "      <td>7.1</td>\n",
       "      <td>7188</td>\n",
       "      <td>8.01</td>\n",
       "      <td>78.0</td>\n",
       "    </tr>\n",
       "    <tr>\n",
       "      <th>9</th>\n",
       "      <td>10</td>\n",
       "      <td>Passengers</td>\n",
       "      <td>Adventure,Drama,Romance</td>\n",
       "      <td>A spacecraft traveling to a distant colony pla...</td>\n",
       "      <td>Morten Tyldum</td>\n",
       "      <td>Jennifer Lawrence, Chris Pratt, Michael Sheen,...</td>\n",
       "      <td>2016</td>\n",
       "      <td>116</td>\n",
       "      <td>7.0</td>\n",
       "      <td>192177</td>\n",
       "      <td>100.01</td>\n",
       "      <td>41.0</td>\n",
       "    </tr>\n",
       "    <tr>\n",
       "      <th>10</th>\n",
       "      <td>11</td>\n",
       "      <td>Fantastic Beasts and Where to Find Them</td>\n",
       "      <td>Adventure,Family,Fantasy</td>\n",
       "      <td>The adventures of writer Newt Scamander in New...</td>\n",
       "      <td>David Yates</td>\n",
       "      <td>Eddie Redmayne, Katherine Waterston, Alison Su...</td>\n",
       "      <td>2016</td>\n",
       "      <td>133</td>\n",
       "      <td>7.5</td>\n",
       "      <td>232072</td>\n",
       "      <td>234.02</td>\n",
       "      <td>66.0</td>\n",
       "    </tr>\n",
       "    <tr>\n",
       "      <th>11</th>\n",
       "      <td>12</td>\n",
       "      <td>Hidden Figures</td>\n",
       "      <td>Biography,Drama,History</td>\n",
       "      <td>The story of a team of female African-American...</td>\n",
       "      <td>Theodore Melfi</td>\n",
       "      <td>Taraji P. Henson, Octavia Spencer, Janelle Mon...</td>\n",
       "      <td>2016</td>\n",
       "      <td>127</td>\n",
       "      <td>7.8</td>\n",
       "      <td>93103</td>\n",
       "      <td>169.27</td>\n",
       "      <td>74.0</td>\n",
       "    </tr>\n",
       "    <tr>\n",
       "      <th>12</th>\n",
       "      <td>13</td>\n",
       "      <td>Rogue One</td>\n",
       "      <td>Action,Adventure,Sci-Fi</td>\n",
       "      <td>The Rebel Alliance makes a risky move to steal...</td>\n",
       "      <td>Gareth Edwards</td>\n",
       "      <td>Felicity Jones, Diego Luna, Alan Tudyk, Donnie...</td>\n",
       "      <td>2016</td>\n",
       "      <td>133</td>\n",
       "      <td>7.9</td>\n",
       "      <td>323118</td>\n",
       "      <td>532.17</td>\n",
       "      <td>65.0</td>\n",
       "    </tr>\n",
       "    <tr>\n",
       "      <th>13</th>\n",
       "      <td>14</td>\n",
       "      <td>Moana</td>\n",
       "      <td>Animation,Adventure,Comedy</td>\n",
       "      <td>In Ancient Polynesia, when a terrible curse in...</td>\n",
       "      <td>Ron Clements</td>\n",
       "      <td>Auli'i Cravalho, Dwayne Johnson, Rachel House,...</td>\n",
       "      <td>2016</td>\n",
       "      <td>107</td>\n",
       "      <td>7.7</td>\n",
       "      <td>118151</td>\n",
       "      <td>248.75</td>\n",
       "      <td>81.0</td>\n",
       "    </tr>\n",
       "    <tr>\n",
       "      <th>14</th>\n",
       "      <td>15</td>\n",
       "      <td>Colossal</td>\n",
       "      <td>Action,Comedy,Drama</td>\n",
       "      <td>Gloria is an out-of-work party girl forced to ...</td>\n",
       "      <td>Nacho Vigalondo</td>\n",
       "      <td>Anne Hathaway, Jason Sudeikis, Austin Stowell,...</td>\n",
       "      <td>2016</td>\n",
       "      <td>109</td>\n",
       "      <td>6.4</td>\n",
       "      <td>8612</td>\n",
       "      <td>2.87</td>\n",
       "      <td>70.0</td>\n",
       "    </tr>\n",
       "    <tr>\n",
       "      <th>15</th>\n",
       "      <td>16</td>\n",
       "      <td>The Secret Life of Pets</td>\n",
       "      <td>Animation,Adventure,Comedy</td>\n",
       "      <td>The quiet life of a terrier named Max is upend...</td>\n",
       "      <td>Chris Renaud</td>\n",
       "      <td>Louis C.K., Eric Stonestreet, Kevin Hart, Lake...</td>\n",
       "      <td>2016</td>\n",
       "      <td>87</td>\n",
       "      <td>6.6</td>\n",
       "      <td>120259</td>\n",
       "      <td>368.31</td>\n",
       "      <td>61.0</td>\n",
       "    </tr>\n",
       "    <tr>\n",
       "      <th>16</th>\n",
       "      <td>17</td>\n",
       "      <td>Hacksaw Ridge</td>\n",
       "      <td>Biography,Drama,History</td>\n",
       "      <td>WWII American Army Medic Desmond T. Doss, who ...</td>\n",
       "      <td>Mel Gibson</td>\n",
       "      <td>Andrew Garfield, Sam Worthington, Luke Bracey,...</td>\n",
       "      <td>2016</td>\n",
       "      <td>139</td>\n",
       "      <td>8.2</td>\n",
       "      <td>211760</td>\n",
       "      <td>67.12</td>\n",
       "      <td>71.0</td>\n",
       "    </tr>\n",
       "    <tr>\n",
       "      <th>17</th>\n",
       "      <td>18</td>\n",
       "      <td>Jason Bourne</td>\n",
       "      <td>Action,Thriller</td>\n",
       "      <td>The CIA's most dangerous former operative is d...</td>\n",
       "      <td>Paul Greengrass</td>\n",
       "      <td>Matt Damon, Tommy Lee Jones, Alicia Vikander,V...</td>\n",
       "      <td>2016</td>\n",
       "      <td>123</td>\n",
       "      <td>6.7</td>\n",
       "      <td>150823</td>\n",
       "      <td>162.16</td>\n",
       "      <td>58.0</td>\n",
       "    </tr>\n",
       "    <tr>\n",
       "      <th>18</th>\n",
       "      <td>19</td>\n",
       "      <td>Lion</td>\n",
       "      <td>Biography,Drama</td>\n",
       "      <td>A five-year-old Indian boy gets lost on the st...</td>\n",
       "      <td>Garth Davis</td>\n",
       "      <td>Dev Patel, Nicole Kidman, Rooney Mara, Sunny P...</td>\n",
       "      <td>2016</td>\n",
       "      <td>118</td>\n",
       "      <td>8.1</td>\n",
       "      <td>102061</td>\n",
       "      <td>51.69</td>\n",
       "      <td>69.0</td>\n",
       "    </tr>\n",
       "    <tr>\n",
       "      <th>19</th>\n",
       "      <td>20</td>\n",
       "      <td>Arrival</td>\n",
       "      <td>Drama,Mystery,Sci-Fi</td>\n",
       "      <td>When twelve mysterious spacecraft appear aroun...</td>\n",
       "      <td>Denis Villeneuve</td>\n",
       "      <td>Amy Adams, Jeremy Renner, Forest Whitaker,Mich...</td>\n",
       "      <td>2016</td>\n",
       "      <td>116</td>\n",
       "      <td>8.0</td>\n",
       "      <td>340798</td>\n",
       "      <td>100.50</td>\n",
       "      <td>81.0</td>\n",
       "    </tr>\n",
       "    <tr>\n",
       "      <th>20</th>\n",
       "      <td>21</td>\n",
       "      <td>Gold</td>\n",
       "      <td>Adventure,Drama,Thriller</td>\n",
       "      <td>Kenny Wells, a prospector desperate for a luck...</td>\n",
       "      <td>Stephen Gaghan</td>\n",
       "      <td>Matthew McConaughey, Edgar Ramírez, Bryce Dall...</td>\n",
       "      <td>2016</td>\n",
       "      <td>120</td>\n",
       "      <td>6.7</td>\n",
       "      <td>19053</td>\n",
       "      <td>7.22</td>\n",
       "      <td>49.0</td>\n",
       "    </tr>\n",
       "    <tr>\n",
       "      <th>21</th>\n",
       "      <td>22</td>\n",
       "      <td>Manchester by the Sea</td>\n",
       "      <td>Drama</td>\n",
       "      <td>A depressed uncle is asked to take care of his...</td>\n",
       "      <td>Kenneth Lonergan</td>\n",
       "      <td>Casey Affleck, Michelle Williams, Kyle Chandle...</td>\n",
       "      <td>2016</td>\n",
       "      <td>137</td>\n",
       "      <td>7.9</td>\n",
       "      <td>134213</td>\n",
       "      <td>47.70</td>\n",
       "      <td>96.0</td>\n",
       "    </tr>\n",
       "    <tr>\n",
       "      <th>22</th>\n",
       "      <td>23</td>\n",
       "      <td>Hounds of Love</td>\n",
       "      <td>Crime,Drama,Horror</td>\n",
       "      <td>A cold-blooded predatory couple while cruising...</td>\n",
       "      <td>Ben Young</td>\n",
       "      <td>Emma Booth, Ashleigh Cummings, Stephen Curry,S...</td>\n",
       "      <td>2016</td>\n",
       "      <td>108</td>\n",
       "      <td>6.7</td>\n",
       "      <td>1115</td>\n",
       "      <td>NaN</td>\n",
       "      <td>72.0</td>\n",
       "    </tr>\n",
       "    <tr>\n",
       "      <th>23</th>\n",
       "      <td>24</td>\n",
       "      <td>Trolls</td>\n",
       "      <td>Animation,Adventure,Comedy</td>\n",
       "      <td>After the Bergens invade Troll Village, Poppy,...</td>\n",
       "      <td>Walt Dohrn</td>\n",
       "      <td>Anna Kendrick, Justin Timberlake,Zooey Deschan...</td>\n",
       "      <td>2016</td>\n",
       "      <td>92</td>\n",
       "      <td>6.5</td>\n",
       "      <td>38552</td>\n",
       "      <td>153.69</td>\n",
       "      <td>56.0</td>\n",
       "    </tr>\n",
       "    <tr>\n",
       "      <th>24</th>\n",
       "      <td>25</td>\n",
       "      <td>Independence Day: Resurgence</td>\n",
       "      <td>Action,Adventure,Sci-Fi</td>\n",
       "      <td>Two decades after the first Independence Day i...</td>\n",
       "      <td>Roland Emmerich</td>\n",
       "      <td>Liam Hemsworth, Jeff Goldblum, Bill Pullman,Ma...</td>\n",
       "      <td>2016</td>\n",
       "      <td>120</td>\n",
       "      <td>5.3</td>\n",
       "      <td>127553</td>\n",
       "      <td>103.14</td>\n",
       "      <td>32.0</td>\n",
       "    </tr>\n",
       "    <tr>\n",
       "      <th>25</th>\n",
       "      <td>26</td>\n",
       "      <td>Paris pieds nus</td>\n",
       "      <td>Comedy</td>\n",
       "      <td>Fiona visits Paris for the first time to assis...</td>\n",
       "      <td>Dominique Abel</td>\n",
       "      <td>Fiona Gordon, Dominique Abel,Emmanuelle Riva, ...</td>\n",
       "      <td>2016</td>\n",
       "      <td>83</td>\n",
       "      <td>6.8</td>\n",
       "      <td>222</td>\n",
       "      <td>NaN</td>\n",
       "      <td>NaN</td>\n",
       "    </tr>\n",
       "    <tr>\n",
       "      <th>26</th>\n",
       "      <td>27</td>\n",
       "      <td>Bahubali: The Beginning</td>\n",
       "      <td>Action,Adventure,Drama</td>\n",
       "      <td>In ancient India, an adventurous and daring ma...</td>\n",
       "      <td>S.S. Rajamouli</td>\n",
       "      <td>Prabhas, Rana Daggubati, Anushka Shetty,Tamann...</td>\n",
       "      <td>2015</td>\n",
       "      <td>159</td>\n",
       "      <td>8.3</td>\n",
       "      <td>76193</td>\n",
       "      <td>6.50</td>\n",
       "      <td>NaN</td>\n",
       "    </tr>\n",
       "    <tr>\n",
       "      <th>27</th>\n",
       "      <td>28</td>\n",
       "      <td>Dead Awake</td>\n",
       "      <td>Horror,Thriller</td>\n",
       "      <td>A young woman must save herself and her friend...</td>\n",
       "      <td>Phillip Guzman</td>\n",
       "      <td>Jocelin Donahue, Jesse Bradford, Jesse Borrego...</td>\n",
       "      <td>2016</td>\n",
       "      <td>99</td>\n",
       "      <td>4.7</td>\n",
       "      <td>523</td>\n",
       "      <td>0.01</td>\n",
       "      <td>NaN</td>\n",
       "    </tr>\n",
       "    <tr>\n",
       "      <th>28</th>\n",
       "      <td>29</td>\n",
       "      <td>Bad Moms</td>\n",
       "      <td>Comedy</td>\n",
       "      <td>When three overworked and under-appreciated mo...</td>\n",
       "      <td>Jon Lucas</td>\n",
       "      <td>Mila Kunis, Kathryn Hahn, Kristen Bell,Christi...</td>\n",
       "      <td>2016</td>\n",
       "      <td>100</td>\n",
       "      <td>6.2</td>\n",
       "      <td>66540</td>\n",
       "      <td>113.08</td>\n",
       "      <td>60.0</td>\n",
       "    </tr>\n",
       "    <tr>\n",
       "      <th>29</th>\n",
       "      <td>30</td>\n",
       "      <td>Assassin's Creed</td>\n",
       "      <td>Action,Adventure,Drama</td>\n",
       "      <td>When Callum Lynch explores the memories of his...</td>\n",
       "      <td>Justin Kurzel</td>\n",
       "      <td>Michael Fassbender, Marion Cotillard, Jeremy I...</td>\n",
       "      <td>2016</td>\n",
       "      <td>115</td>\n",
       "      <td>5.9</td>\n",
       "      <td>112813</td>\n",
       "      <td>54.65</td>\n",
       "      <td>36.0</td>\n",
       "    </tr>\n",
       "    <tr>\n",
       "      <th>...</th>\n",
       "      <td>...</td>\n",
       "      <td>...</td>\n",
       "      <td>...</td>\n",
       "      <td>...</td>\n",
       "      <td>...</td>\n",
       "      <td>...</td>\n",
       "      <td>...</td>\n",
       "      <td>...</td>\n",
       "      <td>...</td>\n",
       "      <td>...</td>\n",
       "      <td>...</td>\n",
       "      <td>...</td>\n",
       "    </tr>\n",
       "    <tr>\n",
       "      <th>970</th>\n",
       "      <td>971</td>\n",
       "      <td>Texas Chainsaw 3D</td>\n",
       "      <td>Horror,Thriller</td>\n",
       "      <td>A young woman travels to Texas to collect an i...</td>\n",
       "      <td>John Luessenhop</td>\n",
       "      <td>Alexandra Daddario, Tania Raymonde, Scott East...</td>\n",
       "      <td>2013</td>\n",
       "      <td>92</td>\n",
       "      <td>4.8</td>\n",
       "      <td>37060</td>\n",
       "      <td>34.33</td>\n",
       "      <td>62.0</td>\n",
       "    </tr>\n",
       "    <tr>\n",
       "      <th>971</th>\n",
       "      <td>972</td>\n",
       "      <td>Disturbia</td>\n",
       "      <td>Drama,Mystery,Thriller</td>\n",
       "      <td>A teen living under house arrest becomes convi...</td>\n",
       "      <td>D.J. Caruso</td>\n",
       "      <td>Shia LaBeouf, David Morse, Carrie-Anne Moss, S...</td>\n",
       "      <td>2007</td>\n",
       "      <td>105</td>\n",
       "      <td>6.9</td>\n",
       "      <td>193491</td>\n",
       "      <td>80.05</td>\n",
       "      <td>NaN</td>\n",
       "    </tr>\n",
       "    <tr>\n",
       "      <th>972</th>\n",
       "      <td>973</td>\n",
       "      <td>Rock of Ages</td>\n",
       "      <td>Comedy,Drama,Musical</td>\n",
       "      <td>A small town girl and a city boy meet on the S...</td>\n",
       "      <td>Adam Shankman</td>\n",
       "      <td>Julianne Hough, Diego Boneta, Tom Cruise, Alec...</td>\n",
       "      <td>2012</td>\n",
       "      <td>123</td>\n",
       "      <td>5.9</td>\n",
       "      <td>64513</td>\n",
       "      <td>38.51</td>\n",
       "      <td>47.0</td>\n",
       "    </tr>\n",
       "    <tr>\n",
       "      <th>973</th>\n",
       "      <td>974</td>\n",
       "      <td>Scream 4</td>\n",
       "      <td>Horror,Mystery</td>\n",
       "      <td>Ten years have passed, and Sidney Prescott, wh...</td>\n",
       "      <td>Wes Craven</td>\n",
       "      <td>Neve Campbell, Courteney Cox, David Arquette, ...</td>\n",
       "      <td>2011</td>\n",
       "      <td>111</td>\n",
       "      <td>6.2</td>\n",
       "      <td>108544</td>\n",
       "      <td>38.18</td>\n",
       "      <td>52.0</td>\n",
       "    </tr>\n",
       "    <tr>\n",
       "      <th>974</th>\n",
       "      <td>975</td>\n",
       "      <td>Queen of Katwe</td>\n",
       "      <td>Biography,Drama,Sport</td>\n",
       "      <td>A Ugandan girl sees her world rapidly change a...</td>\n",
       "      <td>Mira Nair</td>\n",
       "      <td>Madina Nalwanga, David Oyelowo, Lupita Nyong'o...</td>\n",
       "      <td>2016</td>\n",
       "      <td>124</td>\n",
       "      <td>7.4</td>\n",
       "      <td>6753</td>\n",
       "      <td>8.81</td>\n",
       "      <td>73.0</td>\n",
       "    </tr>\n",
       "    <tr>\n",
       "      <th>975</th>\n",
       "      <td>976</td>\n",
       "      <td>My Big Fat Greek Wedding 2</td>\n",
       "      <td>Comedy,Family,Romance</td>\n",
       "      <td>A Portokalos family secret brings the beloved ...</td>\n",
       "      <td>Kirk Jones</td>\n",
       "      <td>Nia Vardalos, John Corbett, Michael Constantin...</td>\n",
       "      <td>2016</td>\n",
       "      <td>94</td>\n",
       "      <td>6.0</td>\n",
       "      <td>20966</td>\n",
       "      <td>59.57</td>\n",
       "      <td>37.0</td>\n",
       "    </tr>\n",
       "    <tr>\n",
       "      <th>976</th>\n",
       "      <td>977</td>\n",
       "      <td>Dark Places</td>\n",
       "      <td>Drama,Mystery,Thriller</td>\n",
       "      <td>Libby Day was only eight years old when her fa...</td>\n",
       "      <td>Gilles Paquet-Brenner</td>\n",
       "      <td>Charlize Theron, Nicholas Hoult, Christina Hen...</td>\n",
       "      <td>2015</td>\n",
       "      <td>113</td>\n",
       "      <td>6.2</td>\n",
       "      <td>31634</td>\n",
       "      <td>NaN</td>\n",
       "      <td>39.0</td>\n",
       "    </tr>\n",
       "    <tr>\n",
       "      <th>977</th>\n",
       "      <td>978</td>\n",
       "      <td>Amateur Night</td>\n",
       "      <td>Comedy</td>\n",
       "      <td>Guy Carter is an award-winning graduate studen...</td>\n",
       "      <td>Lisa Addario</td>\n",
       "      <td>Jason Biggs, Janet Montgomery,Ashley Tisdale, ...</td>\n",
       "      <td>2016</td>\n",
       "      <td>92</td>\n",
       "      <td>5.0</td>\n",
       "      <td>2229</td>\n",
       "      <td>NaN</td>\n",
       "      <td>38.0</td>\n",
       "    </tr>\n",
       "    <tr>\n",
       "      <th>978</th>\n",
       "      <td>979</td>\n",
       "      <td>It's Only the End of the World</td>\n",
       "      <td>Drama</td>\n",
       "      <td>Louis (Gaspard Ulliel), a terminally ill write...</td>\n",
       "      <td>Xavier Dolan</td>\n",
       "      <td>Nathalie Baye, Vincent Cassel, Marion Cotillar...</td>\n",
       "      <td>2016</td>\n",
       "      <td>97</td>\n",
       "      <td>7.0</td>\n",
       "      <td>10658</td>\n",
       "      <td>NaN</td>\n",
       "      <td>48.0</td>\n",
       "    </tr>\n",
       "    <tr>\n",
       "      <th>979</th>\n",
       "      <td>980</td>\n",
       "      <td>The Skin I Live In</td>\n",
       "      <td>Drama,Thriller</td>\n",
       "      <td>A brilliant plastic surgeon, haunted by past t...</td>\n",
       "      <td>Pedro Almodóvar</td>\n",
       "      <td>Antonio Banderas, Elena Anaya, Jan Cornet,Mari...</td>\n",
       "      <td>2011</td>\n",
       "      <td>120</td>\n",
       "      <td>7.6</td>\n",
       "      <td>108772</td>\n",
       "      <td>3.19</td>\n",
       "      <td>70.0</td>\n",
       "    </tr>\n",
       "    <tr>\n",
       "      <th>980</th>\n",
       "      <td>981</td>\n",
       "      <td>Miracles from Heaven</td>\n",
       "      <td>Biography,Drama,Family</td>\n",
       "      <td>A young girl suffering from a rare digestive d...</td>\n",
       "      <td>Patricia Riggen</td>\n",
       "      <td>Jennifer Garner, Kylie Rogers, Martin Henderso...</td>\n",
       "      <td>2016</td>\n",
       "      <td>109</td>\n",
       "      <td>7.0</td>\n",
       "      <td>12048</td>\n",
       "      <td>61.69</td>\n",
       "      <td>44.0</td>\n",
       "    </tr>\n",
       "    <tr>\n",
       "      <th>981</th>\n",
       "      <td>982</td>\n",
       "      <td>Annie</td>\n",
       "      <td>Comedy,Drama,Family</td>\n",
       "      <td>A foster kid, who lives with her mean foster m...</td>\n",
       "      <td>Will Gluck</td>\n",
       "      <td>Quvenzhané Wallis, Cameron Diaz, Jamie Foxx, R...</td>\n",
       "      <td>2014</td>\n",
       "      <td>118</td>\n",
       "      <td>5.3</td>\n",
       "      <td>27312</td>\n",
       "      <td>85.91</td>\n",
       "      <td>33.0</td>\n",
       "    </tr>\n",
       "    <tr>\n",
       "      <th>982</th>\n",
       "      <td>983</td>\n",
       "      <td>Across the Universe</td>\n",
       "      <td>Drama,Fantasy,Musical</td>\n",
       "      <td>The music of the Beatles and the Vietnam War f...</td>\n",
       "      <td>Julie Taymor</td>\n",
       "      <td>Evan Rachel Wood, Jim Sturgess, Joe Anderson, ...</td>\n",
       "      <td>2007</td>\n",
       "      <td>133</td>\n",
       "      <td>7.4</td>\n",
       "      <td>95172</td>\n",
       "      <td>24.34</td>\n",
       "      <td>56.0</td>\n",
       "    </tr>\n",
       "    <tr>\n",
       "      <th>983</th>\n",
       "      <td>984</td>\n",
       "      <td>Let's Be Cops</td>\n",
       "      <td>Comedy</td>\n",
       "      <td>Two struggling pals dress as police officers f...</td>\n",
       "      <td>Luke Greenfield</td>\n",
       "      <td>Jake Johnson, Damon Wayans Jr., Rob Riggle, Ni...</td>\n",
       "      <td>2014</td>\n",
       "      <td>104</td>\n",
       "      <td>6.5</td>\n",
       "      <td>112729</td>\n",
       "      <td>82.39</td>\n",
       "      <td>30.0</td>\n",
       "    </tr>\n",
       "    <tr>\n",
       "      <th>984</th>\n",
       "      <td>985</td>\n",
       "      <td>Max</td>\n",
       "      <td>Adventure,Family</td>\n",
       "      <td>A Malinois dog that helped American Marines in...</td>\n",
       "      <td>Boaz Yakin</td>\n",
       "      <td>Thomas Haden Church, Josh Wiggins, Luke Kleint...</td>\n",
       "      <td>2015</td>\n",
       "      <td>111</td>\n",
       "      <td>6.8</td>\n",
       "      <td>21405</td>\n",
       "      <td>42.65</td>\n",
       "      <td>47.0</td>\n",
       "    </tr>\n",
       "    <tr>\n",
       "      <th>985</th>\n",
       "      <td>986</td>\n",
       "      <td>Your Highness</td>\n",
       "      <td>Adventure,Comedy,Fantasy</td>\n",
       "      <td>When Prince Fabious's bride is kidnapped, he g...</td>\n",
       "      <td>David Gordon Green</td>\n",
       "      <td>Danny McBride, Natalie Portman, James Franco, ...</td>\n",
       "      <td>2011</td>\n",
       "      <td>102</td>\n",
       "      <td>5.6</td>\n",
       "      <td>87904</td>\n",
       "      <td>21.56</td>\n",
       "      <td>31.0</td>\n",
       "    </tr>\n",
       "    <tr>\n",
       "      <th>986</th>\n",
       "      <td>987</td>\n",
       "      <td>Final Destination 5</td>\n",
       "      <td>Horror,Thriller</td>\n",
       "      <td>Survivors of a suspension-bridge collapse lear...</td>\n",
       "      <td>Steven Quale</td>\n",
       "      <td>Nicholas D'Agosto, Emma Bell, Arlen Escarpeta,...</td>\n",
       "      <td>2011</td>\n",
       "      <td>92</td>\n",
       "      <td>5.9</td>\n",
       "      <td>88000</td>\n",
       "      <td>42.58</td>\n",
       "      <td>50.0</td>\n",
       "    </tr>\n",
       "    <tr>\n",
       "      <th>987</th>\n",
       "      <td>988</td>\n",
       "      <td>Endless Love</td>\n",
       "      <td>Drama,Romance</td>\n",
       "      <td>The story of a privileged girl and a charismat...</td>\n",
       "      <td>Shana Feste</td>\n",
       "      <td>Gabriella Wilde, Alex Pettyfer, Bruce Greenwoo...</td>\n",
       "      <td>2014</td>\n",
       "      <td>104</td>\n",
       "      <td>6.3</td>\n",
       "      <td>33688</td>\n",
       "      <td>23.39</td>\n",
       "      <td>30.0</td>\n",
       "    </tr>\n",
       "    <tr>\n",
       "      <th>988</th>\n",
       "      <td>989</td>\n",
       "      <td>Martyrs</td>\n",
       "      <td>Horror</td>\n",
       "      <td>A young woman's quest for revenge against the ...</td>\n",
       "      <td>Pascal Laugier</td>\n",
       "      <td>Morjana Alaoui, Mylène Jampanoï, Catherine Bég...</td>\n",
       "      <td>2008</td>\n",
       "      <td>99</td>\n",
       "      <td>7.1</td>\n",
       "      <td>63785</td>\n",
       "      <td>NaN</td>\n",
       "      <td>89.0</td>\n",
       "    </tr>\n",
       "    <tr>\n",
       "      <th>989</th>\n",
       "      <td>990</td>\n",
       "      <td>Selma</td>\n",
       "      <td>Biography,Drama,History</td>\n",
       "      <td>A chronicle of Martin Luther King's campaign t...</td>\n",
       "      <td>Ava DuVernay</td>\n",
       "      <td>David Oyelowo, Carmen Ejogo, Tim Roth, Lorrain...</td>\n",
       "      <td>2014</td>\n",
       "      <td>128</td>\n",
       "      <td>7.5</td>\n",
       "      <td>67637</td>\n",
       "      <td>52.07</td>\n",
       "      <td>NaN</td>\n",
       "    </tr>\n",
       "    <tr>\n",
       "      <th>990</th>\n",
       "      <td>991</td>\n",
       "      <td>Underworld: Rise of the Lycans</td>\n",
       "      <td>Action,Adventure,Fantasy</td>\n",
       "      <td>An origins story centered on the centuries-old...</td>\n",
       "      <td>Patrick Tatopoulos</td>\n",
       "      <td>Rhona Mitra, Michael Sheen, Bill Nighy, Steven...</td>\n",
       "      <td>2009</td>\n",
       "      <td>92</td>\n",
       "      <td>6.6</td>\n",
       "      <td>129708</td>\n",
       "      <td>45.80</td>\n",
       "      <td>44.0</td>\n",
       "    </tr>\n",
       "    <tr>\n",
       "      <th>991</th>\n",
       "      <td>992</td>\n",
       "      <td>Taare Zameen Par</td>\n",
       "      <td>Drama,Family,Music</td>\n",
       "      <td>An eight-year-old boy is thought to be a lazy ...</td>\n",
       "      <td>Aamir Khan</td>\n",
       "      <td>Darsheel Safary, Aamir Khan, Tanay Chheda, Sac...</td>\n",
       "      <td>2007</td>\n",
       "      <td>165</td>\n",
       "      <td>8.5</td>\n",
       "      <td>102697</td>\n",
       "      <td>1.20</td>\n",
       "      <td>42.0</td>\n",
       "    </tr>\n",
       "    <tr>\n",
       "      <th>992</th>\n",
       "      <td>993</td>\n",
       "      <td>Take Me Home Tonight</td>\n",
       "      <td>Comedy,Drama,Romance</td>\n",
       "      <td>Four years after graduation, an awkward high s...</td>\n",
       "      <td>Michael Dowse</td>\n",
       "      <td>Topher Grace, Anna Faris, Dan Fogler, Teresa P...</td>\n",
       "      <td>2011</td>\n",
       "      <td>97</td>\n",
       "      <td>6.3</td>\n",
       "      <td>45419</td>\n",
       "      <td>6.92</td>\n",
       "      <td>NaN</td>\n",
       "    </tr>\n",
       "    <tr>\n",
       "      <th>993</th>\n",
       "      <td>994</td>\n",
       "      <td>Resident Evil: Afterlife</td>\n",
       "      <td>Action,Adventure,Horror</td>\n",
       "      <td>While still out to destroy the evil Umbrella C...</td>\n",
       "      <td>Paul W.S. Anderson</td>\n",
       "      <td>Milla Jovovich, Ali Larter, Wentworth Miller,K...</td>\n",
       "      <td>2010</td>\n",
       "      <td>97</td>\n",
       "      <td>5.9</td>\n",
       "      <td>140900</td>\n",
       "      <td>60.13</td>\n",
       "      <td>37.0</td>\n",
       "    </tr>\n",
       "    <tr>\n",
       "      <th>994</th>\n",
       "      <td>995</td>\n",
       "      <td>Project X</td>\n",
       "      <td>Comedy</td>\n",
       "      <td>3 high school seniors throw a birthday party t...</td>\n",
       "      <td>Nima Nourizadeh</td>\n",
       "      <td>Thomas Mann, Oliver Cooper, Jonathan Daniel Br...</td>\n",
       "      <td>2012</td>\n",
       "      <td>88</td>\n",
       "      <td>6.7</td>\n",
       "      <td>164088</td>\n",
       "      <td>54.72</td>\n",
       "      <td>48.0</td>\n",
       "    </tr>\n",
       "    <tr>\n",
       "      <th>995</th>\n",
       "      <td>996</td>\n",
       "      <td>Secret in Their Eyes</td>\n",
       "      <td>Crime,Drama,Mystery</td>\n",
       "      <td>A tight-knit team of rising investigators, alo...</td>\n",
       "      <td>Billy Ray</td>\n",
       "      <td>Chiwetel Ejiofor, Nicole Kidman, Julia Roberts...</td>\n",
       "      <td>2015</td>\n",
       "      <td>111</td>\n",
       "      <td>6.2</td>\n",
       "      <td>27585</td>\n",
       "      <td>NaN</td>\n",
       "      <td>45.0</td>\n",
       "    </tr>\n",
       "    <tr>\n",
       "      <th>996</th>\n",
       "      <td>997</td>\n",
       "      <td>Hostel: Part II</td>\n",
       "      <td>Horror</td>\n",
       "      <td>Three American college students studying abroa...</td>\n",
       "      <td>Eli Roth</td>\n",
       "      <td>Lauren German, Heather Matarazzo, Bijou Philli...</td>\n",
       "      <td>2007</td>\n",
       "      <td>94</td>\n",
       "      <td>5.5</td>\n",
       "      <td>73152</td>\n",
       "      <td>17.54</td>\n",
       "      <td>46.0</td>\n",
       "    </tr>\n",
       "    <tr>\n",
       "      <th>997</th>\n",
       "      <td>998</td>\n",
       "      <td>Step Up 2: The Streets</td>\n",
       "      <td>Drama,Music,Romance</td>\n",
       "      <td>Romantic sparks occur between two dance studen...</td>\n",
       "      <td>Jon M. Chu</td>\n",
       "      <td>Robert Hoffman, Briana Evigan, Cassie Ventura,...</td>\n",
       "      <td>2008</td>\n",
       "      <td>98</td>\n",
       "      <td>6.2</td>\n",
       "      <td>70699</td>\n",
       "      <td>58.01</td>\n",
       "      <td>50.0</td>\n",
       "    </tr>\n",
       "    <tr>\n",
       "      <th>998</th>\n",
       "      <td>999</td>\n",
       "      <td>Search Party</td>\n",
       "      <td>Adventure,Comedy</td>\n",
       "      <td>A pair of friends embark on a mission to reuni...</td>\n",
       "      <td>Scot Armstrong</td>\n",
       "      <td>Adam Pally, T.J. Miller, Thomas Middleditch,Sh...</td>\n",
       "      <td>2014</td>\n",
       "      <td>93</td>\n",
       "      <td>5.6</td>\n",
       "      <td>4881</td>\n",
       "      <td>NaN</td>\n",
       "      <td>22.0</td>\n",
       "    </tr>\n",
       "    <tr>\n",
       "      <th>999</th>\n",
       "      <td>1000</td>\n",
       "      <td>Nine Lives</td>\n",
       "      <td>Comedy,Family,Fantasy</td>\n",
       "      <td>A stuffy businessman finds himself trapped ins...</td>\n",
       "      <td>Barry Sonnenfeld</td>\n",
       "      <td>Kevin Spacey, Jennifer Garner, Robbie Amell,Ch...</td>\n",
       "      <td>2016</td>\n",
       "      <td>87</td>\n",
       "      <td>5.3</td>\n",
       "      <td>12435</td>\n",
       "      <td>19.64</td>\n",
       "      <td>11.0</td>\n",
       "    </tr>\n",
       "  </tbody>\n",
       "</table>\n",
       "<p>1000 rows × 12 columns</p>\n",
       "</div>"
      ],
      "text/plain": [
       "     Rank                                    Title  \\\n",
       "0       1                  Guardians of the Galaxy   \n",
       "1       2                               Prometheus   \n",
       "2       3                                    Split   \n",
       "3       4                                     Sing   \n",
       "4       5                            Suicide Squad   \n",
       "5       6                           The Great Wall   \n",
       "6       7                               La La Land   \n",
       "7       8                                 Mindhorn   \n",
       "8       9                       The Lost City of Z   \n",
       "9      10                               Passengers   \n",
       "10     11  Fantastic Beasts and Where to Find Them   \n",
       "11     12                           Hidden Figures   \n",
       "12     13                                Rogue One   \n",
       "13     14                                    Moana   \n",
       "14     15                                 Colossal   \n",
       "15     16                  The Secret Life of Pets   \n",
       "16     17                            Hacksaw Ridge   \n",
       "17     18                             Jason Bourne   \n",
       "18     19                                     Lion   \n",
       "19     20                                  Arrival   \n",
       "20     21                                     Gold   \n",
       "21     22                    Manchester by the Sea   \n",
       "22     23                           Hounds of Love   \n",
       "23     24                                   Trolls   \n",
       "24     25             Independence Day: Resurgence   \n",
       "25     26                          Paris pieds nus   \n",
       "26     27                  Bahubali: The Beginning   \n",
       "27     28                               Dead Awake   \n",
       "28     29                                 Bad Moms   \n",
       "29     30                         Assassin's Creed   \n",
       "..    ...                                      ...   \n",
       "970   971                        Texas Chainsaw 3D   \n",
       "971   972                                Disturbia   \n",
       "972   973                             Rock of Ages   \n",
       "973   974                                 Scream 4   \n",
       "974   975                           Queen of Katwe   \n",
       "975   976               My Big Fat Greek Wedding 2   \n",
       "976   977                              Dark Places   \n",
       "977   978                            Amateur Night   \n",
       "978   979           It's Only the End of the World   \n",
       "979   980                       The Skin I Live In   \n",
       "980   981                     Miracles from Heaven   \n",
       "981   982                                    Annie   \n",
       "982   983                      Across the Universe   \n",
       "983   984                            Let's Be Cops   \n",
       "984   985                                      Max   \n",
       "985   986                            Your Highness   \n",
       "986   987                      Final Destination 5   \n",
       "987   988                             Endless Love   \n",
       "988   989                                  Martyrs   \n",
       "989   990                                    Selma   \n",
       "990   991           Underworld: Rise of the Lycans   \n",
       "991   992                         Taare Zameen Par   \n",
       "992   993                     Take Me Home Tonight   \n",
       "993   994                 Resident Evil: Afterlife   \n",
       "994   995                                Project X   \n",
       "995   996                     Secret in Their Eyes   \n",
       "996   997                          Hostel: Part II   \n",
       "997   998                   Step Up 2: The Streets   \n",
       "998   999                             Search Party   \n",
       "999  1000                               Nine Lives   \n",
       "\n",
       "                          Genre  \\\n",
       "0       Action,Adventure,Sci-Fi   \n",
       "1      Adventure,Mystery,Sci-Fi   \n",
       "2               Horror,Thriller   \n",
       "3       Animation,Comedy,Family   \n",
       "4      Action,Adventure,Fantasy   \n",
       "5      Action,Adventure,Fantasy   \n",
       "6            Comedy,Drama,Music   \n",
       "7                        Comedy   \n",
       "8    Action,Adventure,Biography   \n",
       "9       Adventure,Drama,Romance   \n",
       "10     Adventure,Family,Fantasy   \n",
       "11      Biography,Drama,History   \n",
       "12      Action,Adventure,Sci-Fi   \n",
       "13   Animation,Adventure,Comedy   \n",
       "14          Action,Comedy,Drama   \n",
       "15   Animation,Adventure,Comedy   \n",
       "16      Biography,Drama,History   \n",
       "17              Action,Thriller   \n",
       "18              Biography,Drama   \n",
       "19         Drama,Mystery,Sci-Fi   \n",
       "20     Adventure,Drama,Thriller   \n",
       "21                        Drama   \n",
       "22           Crime,Drama,Horror   \n",
       "23   Animation,Adventure,Comedy   \n",
       "24      Action,Adventure,Sci-Fi   \n",
       "25                       Comedy   \n",
       "26       Action,Adventure,Drama   \n",
       "27              Horror,Thriller   \n",
       "28                       Comedy   \n",
       "29       Action,Adventure,Drama   \n",
       "..                          ...   \n",
       "970             Horror,Thriller   \n",
       "971      Drama,Mystery,Thriller   \n",
       "972        Comedy,Drama,Musical   \n",
       "973              Horror,Mystery   \n",
       "974       Biography,Drama,Sport   \n",
       "975       Comedy,Family,Romance   \n",
       "976      Drama,Mystery,Thriller   \n",
       "977                      Comedy   \n",
       "978                       Drama   \n",
       "979              Drama,Thriller   \n",
       "980      Biography,Drama,Family   \n",
       "981         Comedy,Drama,Family   \n",
       "982       Drama,Fantasy,Musical   \n",
       "983                      Comedy   \n",
       "984            Adventure,Family   \n",
       "985    Adventure,Comedy,Fantasy   \n",
       "986             Horror,Thriller   \n",
       "987               Drama,Romance   \n",
       "988                      Horror   \n",
       "989     Biography,Drama,History   \n",
       "990    Action,Adventure,Fantasy   \n",
       "991          Drama,Family,Music   \n",
       "992        Comedy,Drama,Romance   \n",
       "993     Action,Adventure,Horror   \n",
       "994                      Comedy   \n",
       "995         Crime,Drama,Mystery   \n",
       "996                      Horror   \n",
       "997         Drama,Music,Romance   \n",
       "998            Adventure,Comedy   \n",
       "999       Comedy,Family,Fantasy   \n",
       "\n",
       "                                           Description               Director  \\\n",
       "0    A group of intergalactic criminals are forced ...             James Gunn   \n",
       "1    Following clues to the origin of mankind, a te...           Ridley Scott   \n",
       "2    Three girls are kidnapped by a man with a diag...     M. Night Shyamalan   \n",
       "3    In a city of humanoid animals, a hustling thea...   Christophe Lourdelet   \n",
       "4    A secret government agency recruits some of th...             David Ayer   \n",
       "5    European mercenaries searching for black powde...            Yimou Zhang   \n",
       "6    A jazz pianist falls for an aspiring actress i...        Damien Chazelle   \n",
       "7    A has-been actor best known for playing the ti...             Sean Foley   \n",
       "8    A true-life drama, centering on British explor...             James Gray   \n",
       "9    A spacecraft traveling to a distant colony pla...          Morten Tyldum   \n",
       "10   The adventures of writer Newt Scamander in New...            David Yates   \n",
       "11   The story of a team of female African-American...         Theodore Melfi   \n",
       "12   The Rebel Alliance makes a risky move to steal...         Gareth Edwards   \n",
       "13   In Ancient Polynesia, when a terrible curse in...           Ron Clements   \n",
       "14   Gloria is an out-of-work party girl forced to ...        Nacho Vigalondo   \n",
       "15   The quiet life of a terrier named Max is upend...           Chris Renaud   \n",
       "16   WWII American Army Medic Desmond T. Doss, who ...             Mel Gibson   \n",
       "17   The CIA's most dangerous former operative is d...        Paul Greengrass   \n",
       "18   A five-year-old Indian boy gets lost on the st...            Garth Davis   \n",
       "19   When twelve mysterious spacecraft appear aroun...       Denis Villeneuve   \n",
       "20   Kenny Wells, a prospector desperate for a luck...         Stephen Gaghan   \n",
       "21   A depressed uncle is asked to take care of his...       Kenneth Lonergan   \n",
       "22   A cold-blooded predatory couple while cruising...              Ben Young   \n",
       "23   After the Bergens invade Troll Village, Poppy,...             Walt Dohrn   \n",
       "24   Two decades after the first Independence Day i...        Roland Emmerich   \n",
       "25   Fiona visits Paris for the first time to assis...         Dominique Abel   \n",
       "26   In ancient India, an adventurous and daring ma...         S.S. Rajamouli   \n",
       "27   A young woman must save herself and her friend...         Phillip Guzman   \n",
       "28   When three overworked and under-appreciated mo...              Jon Lucas   \n",
       "29   When Callum Lynch explores the memories of his...          Justin Kurzel   \n",
       "..                                                 ...                    ...   \n",
       "970  A young woman travels to Texas to collect an i...        John Luessenhop   \n",
       "971  A teen living under house arrest becomes convi...            D.J. Caruso   \n",
       "972  A small town girl and a city boy meet on the S...          Adam Shankman   \n",
       "973  Ten years have passed, and Sidney Prescott, wh...             Wes Craven   \n",
       "974  A Ugandan girl sees her world rapidly change a...              Mira Nair   \n",
       "975  A Portokalos family secret brings the beloved ...             Kirk Jones   \n",
       "976  Libby Day was only eight years old when her fa...  Gilles Paquet-Brenner   \n",
       "977  Guy Carter is an award-winning graduate studen...           Lisa Addario   \n",
       "978  Louis (Gaspard Ulliel), a terminally ill write...           Xavier Dolan   \n",
       "979  A brilliant plastic surgeon, haunted by past t...        Pedro Almodóvar   \n",
       "980  A young girl suffering from a rare digestive d...        Patricia Riggen   \n",
       "981  A foster kid, who lives with her mean foster m...             Will Gluck   \n",
       "982  The music of the Beatles and the Vietnam War f...           Julie Taymor   \n",
       "983  Two struggling pals dress as police officers f...        Luke Greenfield   \n",
       "984  A Malinois dog that helped American Marines in...             Boaz Yakin   \n",
       "985  When Prince Fabious's bride is kidnapped, he g...     David Gordon Green   \n",
       "986  Survivors of a suspension-bridge collapse lear...           Steven Quale   \n",
       "987  The story of a privileged girl and a charismat...            Shana Feste   \n",
       "988  A young woman's quest for revenge against the ...         Pascal Laugier   \n",
       "989  A chronicle of Martin Luther King's campaign t...           Ava DuVernay   \n",
       "990  An origins story centered on the centuries-old...     Patrick Tatopoulos   \n",
       "991  An eight-year-old boy is thought to be a lazy ...             Aamir Khan   \n",
       "992  Four years after graduation, an awkward high s...          Michael Dowse   \n",
       "993  While still out to destroy the evil Umbrella C...     Paul W.S. Anderson   \n",
       "994  3 high school seniors throw a birthday party t...        Nima Nourizadeh   \n",
       "995  A tight-knit team of rising investigators, alo...              Billy Ray   \n",
       "996  Three American college students studying abroa...               Eli Roth   \n",
       "997  Romantic sparks occur between two dance studen...             Jon M. Chu   \n",
       "998  A pair of friends embark on a mission to reuni...         Scot Armstrong   \n",
       "999  A stuffy businessman finds himself trapped ins...       Barry Sonnenfeld   \n",
       "\n",
       "                                                Actors  Year  \\\n",
       "0    Chris Pratt, Vin Diesel, Bradley Cooper, Zoe S...  2014   \n",
       "1    Noomi Rapace, Logan Marshall-Green, Michael Fa...  2012   \n",
       "2    James McAvoy, Anya Taylor-Joy, Haley Lu Richar...  2016   \n",
       "3    Matthew McConaughey,Reese Witherspoon, Seth Ma...  2016   \n",
       "4    Will Smith, Jared Leto, Margot Robbie, Viola D...  2016   \n",
       "5        Matt Damon, Tian Jing, Willem Dafoe, Andy Lau  2016   \n",
       "6    Ryan Gosling, Emma Stone, Rosemarie DeWitt, J....  2016   \n",
       "7    Essie Davis, Andrea Riseborough, Julian Barrat...  2016   \n",
       "8    Charlie Hunnam, Robert Pattinson, Sienna Mille...  2016   \n",
       "9    Jennifer Lawrence, Chris Pratt, Michael Sheen,...  2016   \n",
       "10   Eddie Redmayne, Katherine Waterston, Alison Su...  2016   \n",
       "11   Taraji P. Henson, Octavia Spencer, Janelle Mon...  2016   \n",
       "12   Felicity Jones, Diego Luna, Alan Tudyk, Donnie...  2016   \n",
       "13   Auli'i Cravalho, Dwayne Johnson, Rachel House,...  2016   \n",
       "14   Anne Hathaway, Jason Sudeikis, Austin Stowell,...  2016   \n",
       "15   Louis C.K., Eric Stonestreet, Kevin Hart, Lake...  2016   \n",
       "16   Andrew Garfield, Sam Worthington, Luke Bracey,...  2016   \n",
       "17   Matt Damon, Tommy Lee Jones, Alicia Vikander,V...  2016   \n",
       "18   Dev Patel, Nicole Kidman, Rooney Mara, Sunny P...  2016   \n",
       "19   Amy Adams, Jeremy Renner, Forest Whitaker,Mich...  2016   \n",
       "20   Matthew McConaughey, Edgar Ramírez, Bryce Dall...  2016   \n",
       "21   Casey Affleck, Michelle Williams, Kyle Chandle...  2016   \n",
       "22   Emma Booth, Ashleigh Cummings, Stephen Curry,S...  2016   \n",
       "23   Anna Kendrick, Justin Timberlake,Zooey Deschan...  2016   \n",
       "24   Liam Hemsworth, Jeff Goldblum, Bill Pullman,Ma...  2016   \n",
       "25   Fiona Gordon, Dominique Abel,Emmanuelle Riva, ...  2016   \n",
       "26   Prabhas, Rana Daggubati, Anushka Shetty,Tamann...  2015   \n",
       "27   Jocelin Donahue, Jesse Bradford, Jesse Borrego...  2016   \n",
       "28   Mila Kunis, Kathryn Hahn, Kristen Bell,Christi...  2016   \n",
       "29   Michael Fassbender, Marion Cotillard, Jeremy I...  2016   \n",
       "..                                                 ...   ...   \n",
       "970  Alexandra Daddario, Tania Raymonde, Scott East...  2013   \n",
       "971  Shia LaBeouf, David Morse, Carrie-Anne Moss, S...  2007   \n",
       "972  Julianne Hough, Diego Boneta, Tom Cruise, Alec...  2012   \n",
       "973  Neve Campbell, Courteney Cox, David Arquette, ...  2011   \n",
       "974  Madina Nalwanga, David Oyelowo, Lupita Nyong'o...  2016   \n",
       "975  Nia Vardalos, John Corbett, Michael Constantin...  2016   \n",
       "976  Charlize Theron, Nicholas Hoult, Christina Hen...  2015   \n",
       "977  Jason Biggs, Janet Montgomery,Ashley Tisdale, ...  2016   \n",
       "978  Nathalie Baye, Vincent Cassel, Marion Cotillar...  2016   \n",
       "979  Antonio Banderas, Elena Anaya, Jan Cornet,Mari...  2011   \n",
       "980  Jennifer Garner, Kylie Rogers, Martin Henderso...  2016   \n",
       "981  Quvenzhané Wallis, Cameron Diaz, Jamie Foxx, R...  2014   \n",
       "982  Evan Rachel Wood, Jim Sturgess, Joe Anderson, ...  2007   \n",
       "983  Jake Johnson, Damon Wayans Jr., Rob Riggle, Ni...  2014   \n",
       "984  Thomas Haden Church, Josh Wiggins, Luke Kleint...  2015   \n",
       "985  Danny McBride, Natalie Portman, James Franco, ...  2011   \n",
       "986  Nicholas D'Agosto, Emma Bell, Arlen Escarpeta,...  2011   \n",
       "987  Gabriella Wilde, Alex Pettyfer, Bruce Greenwoo...  2014   \n",
       "988  Morjana Alaoui, Mylène Jampanoï, Catherine Bég...  2008   \n",
       "989  David Oyelowo, Carmen Ejogo, Tim Roth, Lorrain...  2014   \n",
       "990  Rhona Mitra, Michael Sheen, Bill Nighy, Steven...  2009   \n",
       "991  Darsheel Safary, Aamir Khan, Tanay Chheda, Sac...  2007   \n",
       "992  Topher Grace, Anna Faris, Dan Fogler, Teresa P...  2011   \n",
       "993  Milla Jovovich, Ali Larter, Wentworth Miller,K...  2010   \n",
       "994  Thomas Mann, Oliver Cooper, Jonathan Daniel Br...  2012   \n",
       "995  Chiwetel Ejiofor, Nicole Kidman, Julia Roberts...  2015   \n",
       "996  Lauren German, Heather Matarazzo, Bijou Philli...  2007   \n",
       "997  Robert Hoffman, Briana Evigan, Cassie Ventura,...  2008   \n",
       "998  Adam Pally, T.J. Miller, Thomas Middleditch,Sh...  2014   \n",
       "999  Kevin Spacey, Jennifer Garner, Robbie Amell,Ch...  2016   \n",
       "\n",
       "     Runtime (Minutes)  Rating   Votes  Revenue (Millions)  Metascore  \n",
       "0                  121     8.1  757074              333.13       76.0  \n",
       "1                  124     7.0  485820              126.46       65.0  \n",
       "2                  117     7.3  157606              138.12       62.0  \n",
       "3                  108     7.2   60545              270.32       59.0  \n",
       "4                  123     6.2  393727              325.02       40.0  \n",
       "5                  103     6.1   56036               45.13       42.0  \n",
       "6                  128     8.3  258682              151.06       93.0  \n",
       "7                   89     6.4    2490                 NaN       71.0  \n",
       "8                  141     7.1    7188                8.01       78.0  \n",
       "9                  116     7.0  192177              100.01       41.0  \n",
       "10                 133     7.5  232072              234.02       66.0  \n",
       "11                 127     7.8   93103              169.27       74.0  \n",
       "12                 133     7.9  323118              532.17       65.0  \n",
       "13                 107     7.7  118151              248.75       81.0  \n",
       "14                 109     6.4    8612                2.87       70.0  \n",
       "15                  87     6.6  120259              368.31       61.0  \n",
       "16                 139     8.2  211760               67.12       71.0  \n",
       "17                 123     6.7  150823              162.16       58.0  \n",
       "18                 118     8.1  102061               51.69       69.0  \n",
       "19                 116     8.0  340798              100.50       81.0  \n",
       "20                 120     6.7   19053                7.22       49.0  \n",
       "21                 137     7.9  134213               47.70       96.0  \n",
       "22                 108     6.7    1115                 NaN       72.0  \n",
       "23                  92     6.5   38552              153.69       56.0  \n",
       "24                 120     5.3  127553              103.14       32.0  \n",
       "25                  83     6.8     222                 NaN        NaN  \n",
       "26                 159     8.3   76193                6.50        NaN  \n",
       "27                  99     4.7     523                0.01        NaN  \n",
       "28                 100     6.2   66540              113.08       60.0  \n",
       "29                 115     5.9  112813               54.65       36.0  \n",
       "..                 ...     ...     ...                 ...        ...  \n",
       "970                 92     4.8   37060               34.33       62.0  \n",
       "971                105     6.9  193491               80.05        NaN  \n",
       "972                123     5.9   64513               38.51       47.0  \n",
       "973                111     6.2  108544               38.18       52.0  \n",
       "974                124     7.4    6753                8.81       73.0  \n",
       "975                 94     6.0   20966               59.57       37.0  \n",
       "976                113     6.2   31634                 NaN       39.0  \n",
       "977                 92     5.0    2229                 NaN       38.0  \n",
       "978                 97     7.0   10658                 NaN       48.0  \n",
       "979                120     7.6  108772                3.19       70.0  \n",
       "980                109     7.0   12048               61.69       44.0  \n",
       "981                118     5.3   27312               85.91       33.0  \n",
       "982                133     7.4   95172               24.34       56.0  \n",
       "983                104     6.5  112729               82.39       30.0  \n",
       "984                111     6.8   21405               42.65       47.0  \n",
       "985                102     5.6   87904               21.56       31.0  \n",
       "986                 92     5.9   88000               42.58       50.0  \n",
       "987                104     6.3   33688               23.39       30.0  \n",
       "988                 99     7.1   63785                 NaN       89.0  \n",
       "989                128     7.5   67637               52.07        NaN  \n",
       "990                 92     6.6  129708               45.80       44.0  \n",
       "991                165     8.5  102697                1.20       42.0  \n",
       "992                 97     6.3   45419                6.92        NaN  \n",
       "993                 97     5.9  140900               60.13       37.0  \n",
       "994                 88     6.7  164088               54.72       48.0  \n",
       "995                111     6.2   27585                 NaN       45.0  \n",
       "996                 94     5.5   73152               17.54       46.0  \n",
       "997                 98     6.2   70699               58.01       50.0  \n",
       "998                 93     5.6    4881                 NaN       22.0  \n",
       "999                 87     5.3   12435               19.64       11.0  \n",
       "\n",
       "[1000 rows x 12 columns]"
      ]
     },
     "execution_count": 3,
     "metadata": {},
     "output_type": "execute_result"
    }
   ],
   "source": [
    "project_data = pd.read_csv(\"https://raw.githubusercontent.com/insaid2018/Term-1/master/Data/Projects/1000%20movies%20data.csv\")     # Importing training dataset using pd.read_csv\n",
    "project_data"
   ]
  },
  {
   "cell_type": "markdown",
   "metadata": {},
   "source": [
    "<a id='section3'></a>\n",
    "### 3. Data Profiling\n",
    "\n"
   ]
  },
  {
   "cell_type": "markdown",
   "metadata": {},
   "source": [
    "- In the upcoming sections we will first __understand our dataset__ using various pandas functionalities.\n",
    "- Then with the help of __pandas profiling__ we will find which columns of our dataset need preprocessing.\n",
    "- In __preprocessing__ we will deal with erronous and missing values of columns. \n",
    "- Again we will do __pandas profiling__ to see how preprocessing have transformed our dataset."
   ]
  },
  {
   "cell_type": "markdown",
   "metadata": {},
   "source": [
    "<a id='section301'></a>\n",
    "### 3.1 Understanding the Dataset"
   ]
  },
  {
   "cell_type": "markdown",
   "metadata": {},
   "source": [
    "To gain insights from data we must look into each aspect of it very carefully. We will start with observing few rows and columns of data both from the starting and from the end"
   ]
  },
  {
   "cell_type": "code",
   "execution_count": 5,
   "metadata": {},
   "outputs": [
    {
     "data": {
      "text/plain": [
       "(1000, 12)"
      ]
     },
     "execution_count": 5,
     "metadata": {},
     "output_type": "execute_result"
    }
   ],
   "source": [
    "project_data.shape # This will print the number of rows and comlumns of the Data Frame"
   ]
  },
  {
   "cell_type": "markdown",
   "metadata": {},
   "source": [
    "The project dataset has 1000 rows and 12 columns"
   ]
  },
  {
   "cell_type": "code",
   "execution_count": 6,
   "metadata": {},
   "outputs": [
    {
     "data": {
      "text/plain": [
       "Index(['Rank', 'Title', 'Genre', 'Description', 'Director', 'Actors', 'Year',\n",
       "       'Runtime (Minutes)', 'Rating', 'Votes', 'Revenue (Millions)',\n",
       "       'Metascore'],\n",
       "      dtype='object')"
      ]
     },
     "execution_count": 6,
     "metadata": {},
     "output_type": "execute_result"
    }
   ],
   "source": [
    "project_data.columns #This will print the column names"
   ]
  },
  {
   "cell_type": "code",
   "execution_count": 7,
   "metadata": {},
   "outputs": [
    {
     "data": {
      "text/html": [
       "<div>\n",
       "<style scoped>\n",
       "    .dataframe tbody tr th:only-of-type {\n",
       "        vertical-align: middle;\n",
       "    }\n",
       "\n",
       "    .dataframe tbody tr th {\n",
       "        vertical-align: top;\n",
       "    }\n",
       "\n",
       "    .dataframe thead th {\n",
       "        text-align: right;\n",
       "    }\n",
       "</style>\n",
       "<table border=\"1\" class=\"dataframe\">\n",
       "  <thead>\n",
       "    <tr style=\"text-align: right;\">\n",
       "      <th></th>\n",
       "      <th>Rank</th>\n",
       "      <th>Title</th>\n",
       "      <th>Genre</th>\n",
       "      <th>Description</th>\n",
       "      <th>Director</th>\n",
       "      <th>Actors</th>\n",
       "      <th>Year</th>\n",
       "      <th>Runtime (Minutes)</th>\n",
       "      <th>Rating</th>\n",
       "      <th>Votes</th>\n",
       "      <th>Revenue (Millions)</th>\n",
       "      <th>Metascore</th>\n",
       "    </tr>\n",
       "  </thead>\n",
       "  <tbody>\n",
       "    <tr>\n",
       "      <th>0</th>\n",
       "      <td>1</td>\n",
       "      <td>Guardians of the Galaxy</td>\n",
       "      <td>Action,Adventure,Sci-Fi</td>\n",
       "      <td>A group of intergalactic criminals are forced ...</td>\n",
       "      <td>James Gunn</td>\n",
       "      <td>Chris Pratt, Vin Diesel, Bradley Cooper, Zoe S...</td>\n",
       "      <td>2014</td>\n",
       "      <td>121</td>\n",
       "      <td>8.1</td>\n",
       "      <td>757074</td>\n",
       "      <td>333.13</td>\n",
       "      <td>76.0</td>\n",
       "    </tr>\n",
       "    <tr>\n",
       "      <th>1</th>\n",
       "      <td>2</td>\n",
       "      <td>Prometheus</td>\n",
       "      <td>Adventure,Mystery,Sci-Fi</td>\n",
       "      <td>Following clues to the origin of mankind, a te...</td>\n",
       "      <td>Ridley Scott</td>\n",
       "      <td>Noomi Rapace, Logan Marshall-Green, Michael Fa...</td>\n",
       "      <td>2012</td>\n",
       "      <td>124</td>\n",
       "      <td>7.0</td>\n",
       "      <td>485820</td>\n",
       "      <td>126.46</td>\n",
       "      <td>65.0</td>\n",
       "    </tr>\n",
       "    <tr>\n",
       "      <th>2</th>\n",
       "      <td>3</td>\n",
       "      <td>Split</td>\n",
       "      <td>Horror,Thriller</td>\n",
       "      <td>Three girls are kidnapped by a man with a diag...</td>\n",
       "      <td>M. Night Shyamalan</td>\n",
       "      <td>James McAvoy, Anya Taylor-Joy, Haley Lu Richar...</td>\n",
       "      <td>2016</td>\n",
       "      <td>117</td>\n",
       "      <td>7.3</td>\n",
       "      <td>157606</td>\n",
       "      <td>138.12</td>\n",
       "      <td>62.0</td>\n",
       "    </tr>\n",
       "    <tr>\n",
       "      <th>3</th>\n",
       "      <td>4</td>\n",
       "      <td>Sing</td>\n",
       "      <td>Animation,Comedy,Family</td>\n",
       "      <td>In a city of humanoid animals, a hustling thea...</td>\n",
       "      <td>Christophe Lourdelet</td>\n",
       "      <td>Matthew McConaughey,Reese Witherspoon, Seth Ma...</td>\n",
       "      <td>2016</td>\n",
       "      <td>108</td>\n",
       "      <td>7.2</td>\n",
       "      <td>60545</td>\n",
       "      <td>270.32</td>\n",
       "      <td>59.0</td>\n",
       "    </tr>\n",
       "    <tr>\n",
       "      <th>4</th>\n",
       "      <td>5</td>\n",
       "      <td>Suicide Squad</td>\n",
       "      <td>Action,Adventure,Fantasy</td>\n",
       "      <td>A secret government agency recruits some of th...</td>\n",
       "      <td>David Ayer</td>\n",
       "      <td>Will Smith, Jared Leto, Margot Robbie, Viola D...</td>\n",
       "      <td>2016</td>\n",
       "      <td>123</td>\n",
       "      <td>6.2</td>\n",
       "      <td>393727</td>\n",
       "      <td>325.02</td>\n",
       "      <td>40.0</td>\n",
       "    </tr>\n",
       "  </tbody>\n",
       "</table>\n",
       "</div>"
      ],
      "text/plain": [
       "   Rank                    Title                     Genre  \\\n",
       "0     1  Guardians of the Galaxy   Action,Adventure,Sci-Fi   \n",
       "1     2               Prometheus  Adventure,Mystery,Sci-Fi   \n",
       "2     3                    Split           Horror,Thriller   \n",
       "3     4                     Sing   Animation,Comedy,Family   \n",
       "4     5            Suicide Squad  Action,Adventure,Fantasy   \n",
       "\n",
       "                                         Description              Director  \\\n",
       "0  A group of intergalactic criminals are forced ...            James Gunn   \n",
       "1  Following clues to the origin of mankind, a te...          Ridley Scott   \n",
       "2  Three girls are kidnapped by a man with a diag...    M. Night Shyamalan   \n",
       "3  In a city of humanoid animals, a hustling thea...  Christophe Lourdelet   \n",
       "4  A secret government agency recruits some of th...            David Ayer   \n",
       "\n",
       "                                              Actors  Year  Runtime (Minutes)  \\\n",
       "0  Chris Pratt, Vin Diesel, Bradley Cooper, Zoe S...  2014                121   \n",
       "1  Noomi Rapace, Logan Marshall-Green, Michael Fa...  2012                124   \n",
       "2  James McAvoy, Anya Taylor-Joy, Haley Lu Richar...  2016                117   \n",
       "3  Matthew McConaughey,Reese Witherspoon, Seth Ma...  2016                108   \n",
       "4  Will Smith, Jared Leto, Margot Robbie, Viola D...  2016                123   \n",
       "\n",
       "   Rating   Votes  Revenue (Millions)  Metascore  \n",
       "0     8.1  757074              333.13       76.0  \n",
       "1     7.0  485820              126.46       65.0  \n",
       "2     7.3  157606              138.12       62.0  \n",
       "3     7.2   60545              270.32       59.0  \n",
       "4     6.2  393727              325.02       40.0  "
      ]
     },
     "execution_count": 7,
     "metadata": {},
     "output_type": "execute_result"
    }
   ],
   "source": [
    "project_data.head() #This will print the first n rows of the Data frame"
   ]
  },
  {
   "cell_type": "code",
   "execution_count": 8,
   "metadata": {},
   "outputs": [
    {
     "data": {
      "text/html": [
       "<div>\n",
       "<style scoped>\n",
       "    .dataframe tbody tr th:only-of-type {\n",
       "        vertical-align: middle;\n",
       "    }\n",
       "\n",
       "    .dataframe tbody tr th {\n",
       "        vertical-align: top;\n",
       "    }\n",
       "\n",
       "    .dataframe thead th {\n",
       "        text-align: right;\n",
       "    }\n",
       "</style>\n",
       "<table border=\"1\" class=\"dataframe\">\n",
       "  <thead>\n",
       "    <tr style=\"text-align: right;\">\n",
       "      <th></th>\n",
       "      <th>Rank</th>\n",
       "      <th>Title</th>\n",
       "      <th>Genre</th>\n",
       "      <th>Description</th>\n",
       "      <th>Director</th>\n",
       "      <th>Actors</th>\n",
       "      <th>Year</th>\n",
       "      <th>Runtime (Minutes)</th>\n",
       "      <th>Rating</th>\n",
       "      <th>Votes</th>\n",
       "      <th>Revenue (Millions)</th>\n",
       "      <th>Metascore</th>\n",
       "    </tr>\n",
       "  </thead>\n",
       "  <tbody>\n",
       "    <tr>\n",
       "      <th>995</th>\n",
       "      <td>996</td>\n",
       "      <td>Secret in Their Eyes</td>\n",
       "      <td>Crime,Drama,Mystery</td>\n",
       "      <td>A tight-knit team of rising investigators, alo...</td>\n",
       "      <td>Billy Ray</td>\n",
       "      <td>Chiwetel Ejiofor, Nicole Kidman, Julia Roberts...</td>\n",
       "      <td>2015</td>\n",
       "      <td>111</td>\n",
       "      <td>6.2</td>\n",
       "      <td>27585</td>\n",
       "      <td>NaN</td>\n",
       "      <td>45.0</td>\n",
       "    </tr>\n",
       "    <tr>\n",
       "      <th>996</th>\n",
       "      <td>997</td>\n",
       "      <td>Hostel: Part II</td>\n",
       "      <td>Horror</td>\n",
       "      <td>Three American college students studying abroa...</td>\n",
       "      <td>Eli Roth</td>\n",
       "      <td>Lauren German, Heather Matarazzo, Bijou Philli...</td>\n",
       "      <td>2007</td>\n",
       "      <td>94</td>\n",
       "      <td>5.5</td>\n",
       "      <td>73152</td>\n",
       "      <td>17.54</td>\n",
       "      <td>46.0</td>\n",
       "    </tr>\n",
       "    <tr>\n",
       "      <th>997</th>\n",
       "      <td>998</td>\n",
       "      <td>Step Up 2: The Streets</td>\n",
       "      <td>Drama,Music,Romance</td>\n",
       "      <td>Romantic sparks occur between two dance studen...</td>\n",
       "      <td>Jon M. Chu</td>\n",
       "      <td>Robert Hoffman, Briana Evigan, Cassie Ventura,...</td>\n",
       "      <td>2008</td>\n",
       "      <td>98</td>\n",
       "      <td>6.2</td>\n",
       "      <td>70699</td>\n",
       "      <td>58.01</td>\n",
       "      <td>50.0</td>\n",
       "    </tr>\n",
       "    <tr>\n",
       "      <th>998</th>\n",
       "      <td>999</td>\n",
       "      <td>Search Party</td>\n",
       "      <td>Adventure,Comedy</td>\n",
       "      <td>A pair of friends embark on a mission to reuni...</td>\n",
       "      <td>Scot Armstrong</td>\n",
       "      <td>Adam Pally, T.J. Miller, Thomas Middleditch,Sh...</td>\n",
       "      <td>2014</td>\n",
       "      <td>93</td>\n",
       "      <td>5.6</td>\n",
       "      <td>4881</td>\n",
       "      <td>NaN</td>\n",
       "      <td>22.0</td>\n",
       "    </tr>\n",
       "    <tr>\n",
       "      <th>999</th>\n",
       "      <td>1000</td>\n",
       "      <td>Nine Lives</td>\n",
       "      <td>Comedy,Family,Fantasy</td>\n",
       "      <td>A stuffy businessman finds himself trapped ins...</td>\n",
       "      <td>Barry Sonnenfeld</td>\n",
       "      <td>Kevin Spacey, Jennifer Garner, Robbie Amell,Ch...</td>\n",
       "      <td>2016</td>\n",
       "      <td>87</td>\n",
       "      <td>5.3</td>\n",
       "      <td>12435</td>\n",
       "      <td>19.64</td>\n",
       "      <td>11.0</td>\n",
       "    </tr>\n",
       "  </tbody>\n",
       "</table>\n",
       "</div>"
      ],
      "text/plain": [
       "     Rank                   Title                  Genre  \\\n",
       "995   996    Secret in Their Eyes    Crime,Drama,Mystery   \n",
       "996   997         Hostel: Part II                 Horror   \n",
       "997   998  Step Up 2: The Streets    Drama,Music,Romance   \n",
       "998   999            Search Party       Adventure,Comedy   \n",
       "999  1000              Nine Lives  Comedy,Family,Fantasy   \n",
       "\n",
       "                                           Description          Director  \\\n",
       "995  A tight-knit team of rising investigators, alo...         Billy Ray   \n",
       "996  Three American college students studying abroa...          Eli Roth   \n",
       "997  Romantic sparks occur between two dance studen...        Jon M. Chu   \n",
       "998  A pair of friends embark on a mission to reuni...    Scot Armstrong   \n",
       "999  A stuffy businessman finds himself trapped ins...  Barry Sonnenfeld   \n",
       "\n",
       "                                                Actors  Year  \\\n",
       "995  Chiwetel Ejiofor, Nicole Kidman, Julia Roberts...  2015   \n",
       "996  Lauren German, Heather Matarazzo, Bijou Philli...  2007   \n",
       "997  Robert Hoffman, Briana Evigan, Cassie Ventura,...  2008   \n",
       "998  Adam Pally, T.J. Miller, Thomas Middleditch,Sh...  2014   \n",
       "999  Kevin Spacey, Jennifer Garner, Robbie Amell,Ch...  2016   \n",
       "\n",
       "     Runtime (Minutes)  Rating  Votes  Revenue (Millions)  Metascore  \n",
       "995                111     6.2  27585                 NaN       45.0  \n",
       "996                 94     5.5  73152               17.54       46.0  \n",
       "997                 98     6.2  70699               58.01       50.0  \n",
       "998                 93     5.6   4881                 NaN       22.0  \n",
       "999                 87     5.3  12435               19.64       11.0  "
      ]
     },
     "execution_count": 8,
     "metadata": {},
     "output_type": "execute_result"
    }
   ],
   "source": [
    "project_data.tail() # This will print the last n rows of the data frame"
   ]
  },
  {
   "cell_type": "code",
   "execution_count": 9,
   "metadata": {},
   "outputs": [
    {
     "name": "stdout",
     "output_type": "stream",
     "text": [
      "<class 'pandas.core.frame.DataFrame'>\n",
      "RangeIndex: 1000 entries, 0 to 999\n",
      "Data columns (total 12 columns):\n",
      "Rank                  1000 non-null int64\n",
      "Title                 1000 non-null object\n",
      "Genre                 1000 non-null object\n",
      "Description           1000 non-null object\n",
      "Director              1000 non-null object\n",
      "Actors                1000 non-null object\n",
      "Year                  1000 non-null int64\n",
      "Runtime (Minutes)     1000 non-null int64\n",
      "Rating                1000 non-null float64\n",
      "Votes                 1000 non-null int64\n",
      "Revenue (Millions)    872 non-null float64\n",
      "Metascore             936 non-null float64\n",
      "dtypes: float64(3), int64(4), object(5)\n",
      "memory usage: 93.8+ KB\n"
     ]
    }
   ],
   "source": [
    "project_data.info() # This will give Index, Datatype and Memory information"
   ]
  },
  {
   "cell_type": "code",
   "execution_count": 10,
   "metadata": {},
   "outputs": [
    {
     "data": {
      "text/html": [
       "<div>\n",
       "<style scoped>\n",
       "    .dataframe tbody tr th:only-of-type {\n",
       "        vertical-align: middle;\n",
       "    }\n",
       "\n",
       "    .dataframe tbody tr th {\n",
       "        vertical-align: top;\n",
       "    }\n",
       "\n",
       "    .dataframe thead th {\n",
       "        text-align: right;\n",
       "    }\n",
       "</style>\n",
       "<table border=\"1\" class=\"dataframe\">\n",
       "  <thead>\n",
       "    <tr style=\"text-align: right;\">\n",
       "      <th></th>\n",
       "      <th>Rank</th>\n",
       "      <th>Year</th>\n",
       "      <th>Runtime (Minutes)</th>\n",
       "      <th>Rating</th>\n",
       "      <th>Votes</th>\n",
       "      <th>Revenue (Millions)</th>\n",
       "      <th>Metascore</th>\n",
       "    </tr>\n",
       "  </thead>\n",
       "  <tbody>\n",
       "    <tr>\n",
       "      <th>count</th>\n",
       "      <td>1000.000000</td>\n",
       "      <td>1000.000000</td>\n",
       "      <td>1000.000000</td>\n",
       "      <td>1000.000000</td>\n",
       "      <td>1.000000e+03</td>\n",
       "      <td>872.000000</td>\n",
       "      <td>936.000000</td>\n",
       "    </tr>\n",
       "    <tr>\n",
       "      <th>mean</th>\n",
       "      <td>500.500000</td>\n",
       "      <td>2012.783000</td>\n",
       "      <td>113.172000</td>\n",
       "      <td>6.723200</td>\n",
       "      <td>1.698083e+05</td>\n",
       "      <td>82.956376</td>\n",
       "      <td>58.985043</td>\n",
       "    </tr>\n",
       "    <tr>\n",
       "      <th>std</th>\n",
       "      <td>288.819436</td>\n",
       "      <td>3.205962</td>\n",
       "      <td>18.810908</td>\n",
       "      <td>0.945429</td>\n",
       "      <td>1.887626e+05</td>\n",
       "      <td>103.253540</td>\n",
       "      <td>17.194757</td>\n",
       "    </tr>\n",
       "    <tr>\n",
       "      <th>min</th>\n",
       "      <td>1.000000</td>\n",
       "      <td>2006.000000</td>\n",
       "      <td>66.000000</td>\n",
       "      <td>1.900000</td>\n",
       "      <td>6.100000e+01</td>\n",
       "      <td>0.000000</td>\n",
       "      <td>11.000000</td>\n",
       "    </tr>\n",
       "    <tr>\n",
       "      <th>25%</th>\n",
       "      <td>250.750000</td>\n",
       "      <td>2010.000000</td>\n",
       "      <td>100.000000</td>\n",
       "      <td>6.200000</td>\n",
       "      <td>3.630900e+04</td>\n",
       "      <td>13.270000</td>\n",
       "      <td>47.000000</td>\n",
       "    </tr>\n",
       "    <tr>\n",
       "      <th>50%</th>\n",
       "      <td>500.500000</td>\n",
       "      <td>2014.000000</td>\n",
       "      <td>111.000000</td>\n",
       "      <td>6.800000</td>\n",
       "      <td>1.107990e+05</td>\n",
       "      <td>47.985000</td>\n",
       "      <td>59.500000</td>\n",
       "    </tr>\n",
       "    <tr>\n",
       "      <th>75%</th>\n",
       "      <td>750.250000</td>\n",
       "      <td>2016.000000</td>\n",
       "      <td>123.000000</td>\n",
       "      <td>7.400000</td>\n",
       "      <td>2.399098e+05</td>\n",
       "      <td>113.715000</td>\n",
       "      <td>72.000000</td>\n",
       "    </tr>\n",
       "    <tr>\n",
       "      <th>max</th>\n",
       "      <td>1000.000000</td>\n",
       "      <td>2016.000000</td>\n",
       "      <td>191.000000</td>\n",
       "      <td>9.000000</td>\n",
       "      <td>1.791916e+06</td>\n",
       "      <td>936.630000</td>\n",
       "      <td>100.000000</td>\n",
       "    </tr>\n",
       "  </tbody>\n",
       "</table>\n",
       "</div>"
      ],
      "text/plain": [
       "              Rank         Year  Runtime (Minutes)       Rating         Votes  \\\n",
       "count  1000.000000  1000.000000        1000.000000  1000.000000  1.000000e+03   \n",
       "mean    500.500000  2012.783000         113.172000     6.723200  1.698083e+05   \n",
       "std     288.819436     3.205962          18.810908     0.945429  1.887626e+05   \n",
       "min       1.000000  2006.000000          66.000000     1.900000  6.100000e+01   \n",
       "25%     250.750000  2010.000000         100.000000     6.200000  3.630900e+04   \n",
       "50%     500.500000  2014.000000         111.000000     6.800000  1.107990e+05   \n",
       "75%     750.250000  2016.000000         123.000000     7.400000  2.399098e+05   \n",
       "max    1000.000000  2016.000000         191.000000     9.000000  1.791916e+06   \n",
       "\n",
       "       Revenue (Millions)   Metascore  \n",
       "count          872.000000  936.000000  \n",
       "mean            82.956376   58.985043  \n",
       "std            103.253540   17.194757  \n",
       "min              0.000000   11.000000  \n",
       "25%             13.270000   47.000000  \n",
       "50%             47.985000   59.500000  \n",
       "75%            113.715000   72.000000  \n",
       "max            936.630000  100.000000  "
      ]
     },
     "execution_count": 10,
     "metadata": {},
     "output_type": "execute_result"
    }
   ],
   "source": [
    "project_data.describe()"
   ]
  },
  {
   "cell_type": "code",
   "execution_count": 11,
   "metadata": {},
   "outputs": [
    {
     "data": {
      "text/plain": [
       "Rank                    0\n",
       "Title                   0\n",
       "Genre                   0\n",
       "Description             0\n",
       "Director                0\n",
       "Actors                  0\n",
       "Year                    0\n",
       "Runtime (Minutes)       0\n",
       "Rating                  0\n",
       "Votes                   0\n",
       "Revenue (Millions)    128\n",
       "Metascore              64\n",
       "dtype: int64"
      ]
     },
     "execution_count": 11,
     "metadata": {},
     "output_type": "execute_result"
    }
   ],
   "source": [
    "project_data.isnull().sum() # this will count the number of missing values in each column"
   ]
  },
  {
   "cell_type": "markdown",
   "metadata": {},
   "source": [
    "From the above output we can see that __Revenue(Millions)__ and __Metascore__ columns contains __null values__. We will see how to deal with them."
   ]
  },
  {
   "cell_type": "code",
   "execution_count": 12,
   "metadata": {},
   "outputs": [
    {
     "data": {
      "text/plain": [
       "999"
      ]
     },
     "execution_count": 12,
     "metadata": {},
     "output_type": "execute_result"
    }
   ],
   "source": [
    "# Check for number of unique values for the column 'Title'\n",
    "project_data.Title.nunique()"
   ]
  },
  {
   "cell_type": "markdown",
   "metadata": {},
   "source": [
    "Unique 'Title' count is not equal to the number of rows of the dataset. Are there any duplicate movies ?"
   ]
  },
  {
   "cell_type": "code",
   "execution_count": 13,
   "metadata": {},
   "outputs": [
    {
     "data": {
      "text/plain": [
       "True"
      ]
     },
     "execution_count": 13,
     "metadata": {},
     "output_type": "execute_result"
    }
   ],
   "source": [
    "# Check for duplicate values in the column 'Title'\n",
    "project_data.Title.duplicated().any()"
   ]
  },
  {
   "cell_type": "code",
   "execution_count": 14,
   "metadata": {},
   "outputs": [
    {
     "data": {
      "text/html": [
       "<div>\n",
       "<style scoped>\n",
       "    .dataframe tbody tr th:only-of-type {\n",
       "        vertical-align: middle;\n",
       "    }\n",
       "\n",
       "    .dataframe tbody tr th {\n",
       "        vertical-align: top;\n",
       "    }\n",
       "\n",
       "    .dataframe thead th {\n",
       "        text-align: right;\n",
       "    }\n",
       "</style>\n",
       "<table border=\"1\" class=\"dataframe\">\n",
       "  <thead>\n",
       "    <tr style=\"text-align: right;\">\n",
       "      <th></th>\n",
       "      <th>Rank</th>\n",
       "      <th>Title</th>\n",
       "      <th>Genre</th>\n",
       "      <th>Description</th>\n",
       "      <th>Director</th>\n",
       "      <th>Actors</th>\n",
       "      <th>Year</th>\n",
       "      <th>Runtime (Minutes)</th>\n",
       "      <th>Rating</th>\n",
       "      <th>Votes</th>\n",
       "      <th>Revenue (Millions)</th>\n",
       "      <th>Metascore</th>\n",
       "    </tr>\n",
       "  </thead>\n",
       "  <tbody>\n",
       "    <tr>\n",
       "      <th>239</th>\n",
       "      <td>240</td>\n",
       "      <td>The Host</td>\n",
       "      <td>Action,Adventure,Romance</td>\n",
       "      <td>When an unseen enemy threatens mankind by taki...</td>\n",
       "      <td>Andrew Niccol</td>\n",
       "      <td>Saoirse Ronan, Max Irons, Jake Abel, Diane Kruger</td>\n",
       "      <td>2013</td>\n",
       "      <td>125</td>\n",
       "      <td>5.9</td>\n",
       "      <td>96852</td>\n",
       "      <td>26.62</td>\n",
       "      <td>35.0</td>\n",
       "    </tr>\n",
       "    <tr>\n",
       "      <th>632</th>\n",
       "      <td>633</td>\n",
       "      <td>The Host</td>\n",
       "      <td>Comedy,Drama,Horror</td>\n",
       "      <td>A monster emerges from Seoul's Han River and f...</td>\n",
       "      <td>Bong Joon Ho</td>\n",
       "      <td>Kang-ho Song, Hee-Bong Byun, Hae-il Park, Doon...</td>\n",
       "      <td>2006</td>\n",
       "      <td>120</td>\n",
       "      <td>7.0</td>\n",
       "      <td>73491</td>\n",
       "      <td>2.20</td>\n",
       "      <td>85.0</td>\n",
       "    </tr>\n",
       "  </tbody>\n",
       "</table>\n",
       "</div>"
      ],
      "text/plain": [
       "     Rank     Title                     Genre  \\\n",
       "239   240  The Host  Action,Adventure,Romance   \n",
       "632   633  The Host       Comedy,Drama,Horror   \n",
       "\n",
       "                                           Description       Director  \\\n",
       "239  When an unseen enemy threatens mankind by taki...  Andrew Niccol   \n",
       "632  A monster emerges from Seoul's Han River and f...   Bong Joon Ho   \n",
       "\n",
       "                                                Actors  Year  \\\n",
       "239  Saoirse Ronan, Max Irons, Jake Abel, Diane Kruger  2013   \n",
       "632  Kang-ho Song, Hee-Bong Byun, Hae-il Park, Doon...  2006   \n",
       "\n",
       "     Runtime (Minutes)  Rating  Votes  Revenue (Millions)  Metascore  \n",
       "239                125     5.9  96852               26.62       35.0  \n",
       "632                120     7.0  73491                2.20       85.0  "
      ]
     },
     "execution_count": 14,
     "metadata": {},
     "output_type": "execute_result"
    }
   ],
   "source": [
    "# Find out the movies with duplicate 'Title'\n",
    "project_data.loc[project_data.Title.duplicated(keep=False)]"
   ]
  },
  {
   "cell_type": "markdown",
   "metadata": {},
   "source": [
    "Two different movies with the same Title 'The Host' were released on 2006 and 2013 respectively. So no duplicate values."
   ]
  },
  {
   "cell_type": "markdown",
   "metadata": {},
   "source": [
    "<a id='section302'></a>\n",
    "### 3.2 Pre Profiling"
   ]
  },
  {
   "cell_type": "code",
   "execution_count": null,
   "metadata": {},
   "outputs": [],
   "source": [
    "import pandas as pd\n",
    "import pandas_profiling\n",
    "profile = pandas_profiling.ProfileReport(project_data)\n",
    "profile.to_file(output_file=\"project_before_preprocessing.html\")"
   ]
  },
  {
   "cell_type": "markdown",
   "metadata": {},
   "source": [
    "### Initial observations:\n",
    "- Summary of data types in this dataset:\n",
    "- <em>Numeric</em>: <strong>7</strong> (integer & float)\n",
    "- <em>Categorical</em>: Everything else\n",
    "- <strong>comments</strong>-There are 192 missing values.The columns \"Revenue(Millions)\" and \"Metascore\" each have missing values '128' and '64' respectively. Since the percentage of rows that have missing values for \"Revenue (Millions) is high(12.8%), the missing values need to be filled while the percentage of rows that have missing values in \"Metascore\" is low(6.4%) and is likely to be dropped."
   ]
  },
  {
   "cell_type": "markdown",
   "metadata": {},
   "source": [
    "<a id='section303'></a>\n",
    "### 3.3 Preprocessing\n",
    "Pre-pofiling output shows the distribution of \"Revenue (Millions)\" is right skewed(due to extreme values). So let's replace these missing values with the median value.\n",
    "Dropping the rows that have missing values in the column \"Metascore\""
   ]
  },
  {
   "cell_type": "code",
   "execution_count": 15,
   "metadata": {},
   "outputs": [],
   "source": [
    "# Filling the missing values with the median value\n",
    "median_revenue = project_data['Revenue (Millions)'].median()\n",
    "project_data['Revenue (Millions)'].fillna(value=median_revenue, inplace=True)"
   ]
  },
  {
   "cell_type": "code",
   "execution_count": 16,
   "metadata": {},
   "outputs": [
    {
     "data": {
      "text/plain": [
       "False"
      ]
     },
     "execution_count": 16,
     "metadata": {},
     "output_type": "execute_result"
    }
   ],
   "source": [
    "# Check if there are anymore missing values\n",
    "project_data['Revenue (Millions)'].isnull().any()"
   ]
  },
  {
   "cell_type": "code",
   "execution_count": 17,
   "metadata": {},
   "outputs": [],
   "source": [
    "# Dropping the rows having missing values for 'Metascore'\n",
    "project_data.dropna(subset=['Metascore'], inplace=True)"
   ]
  },
  {
   "cell_type": "code",
   "execution_count": 18,
   "metadata": {},
   "outputs": [
    {
     "data": {
      "text/plain": [
       "False"
      ]
     },
     "execution_count": 18,
     "metadata": {},
     "output_type": "execute_result"
    }
   ],
   "source": [
    "# Check if there are anymore missing values\n",
    "project_data.Metascore.isnull().any()"
   ]
  },
  {
   "cell_type": "code",
   "execution_count": 19,
   "metadata": {},
   "outputs": [
    {
     "data": {
      "text/plain": [
       "(936, 12)"
      ]
     },
     "execution_count": 19,
     "metadata": {},
     "output_type": "execute_result"
    }
   ],
   "source": [
    "# Check the new shape of the dataset\n",
    "project_data.shape"
   ]
  },
  {
   "cell_type": "markdown",
   "metadata": {},
   "source": [
    "<a id='section304'></a>\n",
    "### 3.4 Post-profiling"
   ]
  },
  {
   "cell_type": "code",
   "execution_count": null,
   "metadata": {},
   "outputs": [],
   "source": [
    "# Using the pandas_profiling to generate report after pre-processing\n",
    "import pandas_profiling\n",
    "project_profile = pandas_profiling.ProfileReport(project_data)\n",
    "project_profile.to_file(output_file=\"project_postprocessing.html\")"
   ]
  },
  {
   "cell_type": "markdown",
   "metadata": {},
   "source": [
    "### Final observations:\n",
    "- Variables to transform prior to analysis:\n",
    " - <em>Setting the index of the DataFrame to movie title as the titles are unique.\n",
    " - <em>Rename the columns 'Runtime (Minutes) and 'Revenue (Millions)' for ease of accessing columns."
   ]
  },
  {
   "cell_type": "code",
   "execution_count": 20,
   "metadata": {},
   "outputs": [],
   "source": [
    "# Set the index of the DataFrame to the movie 'Title'\n",
    "project_data.set_index('Title', inplace=True)"
   ]
  },
  {
   "cell_type": "code",
   "execution_count": 21,
   "metadata": {},
   "outputs": [],
   "source": [
    "# Rename the columns 'Runtime (Minutes) and 'Revenue (Millions)' for ease of accessing columns\n",
    "project_data.rename(columns={'Runtime (Minutes)' : 'Runtime', 'Revenue (Millions)': 'Revenue'}, inplace=True)"
   ]
  },
  {
   "cell_type": "code",
   "execution_count": 22,
   "metadata": {},
   "outputs": [
    {
     "data": {
      "text/plain": [
       "Rank             int64\n",
       "Genre           object\n",
       "Description     object\n",
       "Director        object\n",
       "Actors          object\n",
       "Year             int64\n",
       "Runtime          int64\n",
       "Rating         float64\n",
       "Votes            int64\n",
       "Revenue        float64\n",
       "Metascore      float64\n",
       "dtype: object"
      ]
     },
     "execution_count": 22,
     "metadata": {},
     "output_type": "execute_result"
    }
   ],
   "source": [
    "#Checking for incorrect datatype\n",
    "project_data.dtypes"
   ]
  },
  {
   "cell_type": "code",
   "execution_count": 23,
   "metadata": {},
   "outputs": [
    {
     "data": {
      "text/html": [
       "<div>\n",
       "<style scoped>\n",
       "    .dataframe tbody tr th:only-of-type {\n",
       "        vertical-align: middle;\n",
       "    }\n",
       "\n",
       "    .dataframe tbody tr th {\n",
       "        vertical-align: top;\n",
       "    }\n",
       "\n",
       "    .dataframe thead th {\n",
       "        text-align: right;\n",
       "    }\n",
       "</style>\n",
       "<table border=\"1\" class=\"dataframe\">\n",
       "  <thead>\n",
       "    <tr style=\"text-align: right;\">\n",
       "      <th></th>\n",
       "      <th>Rank</th>\n",
       "      <th>Genre</th>\n",
       "      <th>Description</th>\n",
       "      <th>Director</th>\n",
       "      <th>Actors</th>\n",
       "      <th>Year</th>\n",
       "      <th>Runtime</th>\n",
       "      <th>Rating</th>\n",
       "      <th>Votes</th>\n",
       "      <th>Revenue</th>\n",
       "      <th>Metascore</th>\n",
       "    </tr>\n",
       "    <tr>\n",
       "      <th>Title</th>\n",
       "      <th></th>\n",
       "      <th></th>\n",
       "      <th></th>\n",
       "      <th></th>\n",
       "      <th></th>\n",
       "      <th></th>\n",
       "      <th></th>\n",
       "      <th></th>\n",
       "      <th></th>\n",
       "      <th></th>\n",
       "      <th></th>\n",
       "    </tr>\n",
       "  </thead>\n",
       "  <tbody>\n",
       "    <tr>\n",
       "      <th>Guardians of the Galaxy</th>\n",
       "      <td>1</td>\n",
       "      <td>Action,Adventure,Sci-Fi</td>\n",
       "      <td>A group of intergalactic criminals are forced ...</td>\n",
       "      <td>James Gunn</td>\n",
       "      <td>Chris Pratt, Vin Diesel, Bradley Cooper, Zoe S...</td>\n",
       "      <td>2014</td>\n",
       "      <td>121</td>\n",
       "      <td>8.1</td>\n",
       "      <td>757074</td>\n",
       "      <td>333.13</td>\n",
       "      <td>76.0</td>\n",
       "    </tr>\n",
       "    <tr>\n",
       "      <th>Prometheus</th>\n",
       "      <td>2</td>\n",
       "      <td>Adventure,Mystery,Sci-Fi</td>\n",
       "      <td>Following clues to the origin of mankind, a te...</td>\n",
       "      <td>Ridley Scott</td>\n",
       "      <td>Noomi Rapace, Logan Marshall-Green, Michael Fa...</td>\n",
       "      <td>2012</td>\n",
       "      <td>124</td>\n",
       "      <td>7.0</td>\n",
       "      <td>485820</td>\n",
       "      <td>126.46</td>\n",
       "      <td>65.0</td>\n",
       "    </tr>\n",
       "    <tr>\n",
       "      <th>Split</th>\n",
       "      <td>3</td>\n",
       "      <td>Horror,Thriller</td>\n",
       "      <td>Three girls are kidnapped by a man with a diag...</td>\n",
       "      <td>M. Night Shyamalan</td>\n",
       "      <td>James McAvoy, Anya Taylor-Joy, Haley Lu Richar...</td>\n",
       "      <td>2016</td>\n",
       "      <td>117</td>\n",
       "      <td>7.3</td>\n",
       "      <td>157606</td>\n",
       "      <td>138.12</td>\n",
       "      <td>62.0</td>\n",
       "    </tr>\n",
       "    <tr>\n",
       "      <th>Sing</th>\n",
       "      <td>4</td>\n",
       "      <td>Animation,Comedy,Family</td>\n",
       "      <td>In a city of humanoid animals, a hustling thea...</td>\n",
       "      <td>Christophe Lourdelet</td>\n",
       "      <td>Matthew McConaughey,Reese Witherspoon, Seth Ma...</td>\n",
       "      <td>2016</td>\n",
       "      <td>108</td>\n",
       "      <td>7.2</td>\n",
       "      <td>60545</td>\n",
       "      <td>270.32</td>\n",
       "      <td>59.0</td>\n",
       "    </tr>\n",
       "    <tr>\n",
       "      <th>Suicide Squad</th>\n",
       "      <td>5</td>\n",
       "      <td>Action,Adventure,Fantasy</td>\n",
       "      <td>A secret government agency recruits some of th...</td>\n",
       "      <td>David Ayer</td>\n",
       "      <td>Will Smith, Jared Leto, Margot Robbie, Viola D...</td>\n",
       "      <td>2016</td>\n",
       "      <td>123</td>\n",
       "      <td>6.2</td>\n",
       "      <td>393727</td>\n",
       "      <td>325.02</td>\n",
       "      <td>40.0</td>\n",
       "    </tr>\n",
       "  </tbody>\n",
       "</table>\n",
       "</div>"
      ],
      "text/plain": [
       "                         Rank                     Genre  \\\n",
       "Title                                                     \n",
       "Guardians of the Galaxy     1   Action,Adventure,Sci-Fi   \n",
       "Prometheus                  2  Adventure,Mystery,Sci-Fi   \n",
       "Split                       3           Horror,Thriller   \n",
       "Sing                        4   Animation,Comedy,Family   \n",
       "Suicide Squad               5  Action,Adventure,Fantasy   \n",
       "\n",
       "                                                               Description  \\\n",
       "Title                                                                        \n",
       "Guardians of the Galaxy  A group of intergalactic criminals are forced ...   \n",
       "Prometheus               Following clues to the origin of mankind, a te...   \n",
       "Split                    Three girls are kidnapped by a man with a diag...   \n",
       "Sing                     In a city of humanoid animals, a hustling thea...   \n",
       "Suicide Squad            A secret government agency recruits some of th...   \n",
       "\n",
       "                                     Director  \\\n",
       "Title                                           \n",
       "Guardians of the Galaxy            James Gunn   \n",
       "Prometheus                       Ridley Scott   \n",
       "Split                      M. Night Shyamalan   \n",
       "Sing                     Christophe Lourdelet   \n",
       "Suicide Squad                      David Ayer   \n",
       "\n",
       "                                                                    Actors  \\\n",
       "Title                                                                        \n",
       "Guardians of the Galaxy  Chris Pratt, Vin Diesel, Bradley Cooper, Zoe S...   \n",
       "Prometheus               Noomi Rapace, Logan Marshall-Green, Michael Fa...   \n",
       "Split                    James McAvoy, Anya Taylor-Joy, Haley Lu Richar...   \n",
       "Sing                     Matthew McConaughey,Reese Witherspoon, Seth Ma...   \n",
       "Suicide Squad            Will Smith, Jared Leto, Margot Robbie, Viola D...   \n",
       "\n",
       "                         Year  Runtime  Rating   Votes  Revenue  Metascore  \n",
       "Title                                                                       \n",
       "Guardians of the Galaxy  2014      121     8.1  757074   333.13       76.0  \n",
       "Prometheus               2012      124     7.0  485820   126.46       65.0  \n",
       "Split                    2016      117     7.3  157606   138.12       62.0  \n",
       "Sing                     2016      108     7.2   60545   270.32       59.0  \n",
       "Suicide Squad            2016      123     6.2  393727   325.02       40.0  "
      ]
     },
     "execution_count": 23,
     "metadata": {},
     "output_type": "execute_result"
    }
   ],
   "source": [
    "# Check the head entries to see the changes\n",
    "project_data.head()"
   ]
  },
  {
   "cell_type": "code",
   "execution_count": 24,
   "metadata": {},
   "outputs": [
    {
     "data": {
      "text/plain": [
       "False"
      ]
     },
     "execution_count": 24,
     "metadata": {},
     "output_type": "execute_result"
    }
   ],
   "source": [
    "# Finally check for any missing values in the whole DataFrame\n",
    "project_data.isnull().any().any()"
   ]
  },
  {
   "cell_type": "markdown",
   "metadata": {},
   "source": [
    "### The dataset is now ready for EDA"
   ]
  },
  {
   "cell_type": "markdown",
   "metadata": {},
   "source": [
    "<a id='section4'></a>\n",
    "### 4. Questions & EDA\n"
   ]
  },
  {
   "cell_type": "markdown",
   "metadata": {},
   "source": [
    "<a id='section401'></a>\n",
    "#### 4.1 How has the movie industry changed over the 10 years period(2006-2016)?"
   ]
  },
  {
   "cell_type": "markdown",
   "metadata": {},
   "source": [
    "<a id='section4011'></a>\n",
    "#### 4.1.1 Is the number of movies produced increasing over the years?\n"
   ]
  },
  {
   "cell_type": "code",
   "execution_count": 25,
   "metadata": {},
   "outputs": [
    {
     "data": {
      "text/plain": [
       "Year\n",
       "2006     41\n",
       "2007     46\n",
       "2008     49\n",
       "2009     49\n",
       "2010     59\n",
       "2011     58\n",
       "2012     62\n",
       "2013     86\n",
       "2014     95\n",
       "2015    123\n",
       "2016    268\n",
       "Name: Rank, dtype: int64"
      ]
     },
     "execution_count": 25,
     "metadata": {},
     "output_type": "execute_result"
    }
   ],
   "source": [
    "#Determine the amount of movies that were produced each year, from 2006-2016\n",
    "movies_year = project_data.groupby('Year')['Rank'].count()\n",
    "movies_year"
   ]
  },
  {
   "cell_type": "code",
   "execution_count": 26,
   "metadata": {},
   "outputs": [
    {
     "data": {
      "text/plain": [
       "Text(0, 0.5, 'Movies Count')"
      ]
     },
     "execution_count": 26,
     "metadata": {},
     "output_type": "execute_result"
    },
    {
     "data": {
      "image/png": "[encoded data removed]",
      "text/plain": [
       "<Figure size 432x288 with 1 Axes>"
      ]
     },
     "metadata": {
      "needs_background": "light"
     },
     "output_type": "display_data"
    }
   ],
   "source": [
    "# Plot the movies count per year\n",
    "ax = movies_year.plot.line();\n",
    "ax.set_title('Movies count per Year', y=1.04)\n",
    "ax.set_ylabel('Movies Count')"
   ]
  },
  {
   "cell_type": "markdown",
   "metadata": {},
   "source": [
    "The movies produced over the 10 years period is showing an upward trend.\n",
    "There is a significant increase(more than twice) in the movies produced in  the year 2016 in compararision with the year 2015. "
   ]
  },
  {
   "cell_type": "markdown",
   "metadata": {},
   "source": [
    "<a id='section4012'></a>\n",
    "#### 4.1.2 Is the revenue from movies increasing over the years ?"
   ]
  },
  {
   "cell_type": "code",
   "execution_count": 27,
   "metadata": {},
   "outputs": [
    {
     "data": {
      "text/plain": [
       "Year\n",
       "2006    3577.480\n",
       "2007    4191.230\n",
       "2008    4729.205\n",
       "2009    5400.330\n",
       "2010    6085.620\n",
       "Name: Revenue, dtype: float64"
      ]
     },
     "execution_count": 27,
     "metadata": {},
     "output_type": "execute_result"
    }
   ],
   "source": [
    "movies_revenue = project_data.groupby('Year')['Revenue'].sum()\n",
    "movies_revenue.head()"
   ]
  },
  {
   "cell_type": "code",
   "execution_count": 28,
   "metadata": {},
   "outputs": [
    {
     "data": {
      "image/png": "[encoded data removed]",
      "text/plain": [
       "<Figure size 432x288 with 1 Axes>"
      ]
     },
     "metadata": {
      "needs_background": "light"
     },
     "output_type": "display_data"
    }
   ],
   "source": [
    "# Plot the Revenue for each year\n",
    "ax = movies_revenue.plot.line();\n",
    "ax.set_title('Movie Revenue per Year', y=1.04)\n",
    "ax.set_ylabel('Revenue (in Millions)');"
   ]
  },
  {
   "cell_type": "markdown",
   "metadata": {},
   "source": [
    "The revenue from movies is seen to increase over the year although a slight decrease is observed in the year 2011. However this can be neglected as we are only considering the overall trend. A dramatic increase(more than double) of total revenue from movies is also seen in 2016 when compared with 2015.\n"
   ]
  },
  {
   "cell_type": "markdown",
   "metadata": {},
   "source": [
    "#### Is the average revenue of the movies increasing over the years ?"
   ]
  },
  {
   "cell_type": "code",
   "execution_count": 29,
   "metadata": {},
   "outputs": [
    {
     "data": {
      "image/png": "[encoded data removed]",
      "text/plain": [
       "<Figure size 432x288 with 1 Axes>"
      ]
     },
     "metadata": {
      "needs_background": "light"
     },
     "output_type": "display_data"
    }
   ],
   "source": [
    "movies_avg_revenue = project_data.groupby('Year')['Revenue'].mean()\n",
    "ax = movies_avg_revenue.plot.line();\n",
    "ax.set_title('Average Movie Revenue per Year', y=1.04)\n",
    "ax.set_ylabel('Revenue (in Millions)');"
   ]
  },
  {
   "cell_type": "markdown",
   "metadata": {},
   "source": [
    "The average revenue of movies is decreasing while the total revenue is increasing over the year. This is probably due to the fact that the total number of movies produced in a year is increasing."
   ]
  },
  {
   "cell_type": "markdown",
   "metadata": {},
   "source": [
    "<a id='section4013'></a>\n",
    "#### 4.1.3 Is the Popularity of movies increasing over the years?"
   ]
  },
  {
   "cell_type": "code",
   "execution_count": 30,
   "metadata": {},
   "outputs": [
    {
     "data": {
      "text/plain": [
       "Year\n",
       "2006    7.143902\n",
       "2007    7.130435\n",
       "2008    6.716327\n",
       "2009    6.944898\n",
       "2010    6.820339\n",
       "Name: Rating, dtype: float64"
      ]
     },
     "execution_count": 30,
     "metadata": {},
     "output_type": "execute_result"
    }
   ],
   "source": [
    "movies_rating = project_data.groupby('Year')['Rating'].mean()\n",
    "movies_rating.head()"
   ]
  },
  {
   "cell_type": "code",
   "execution_count": 31,
   "metadata": {},
   "outputs": [
    {
     "data": {
      "image/png": "[encoded data removed]",
      "text/plain": [
       "<Figure size 432x288 with 1 Axes>"
      ]
     },
     "metadata": {
      "needs_background": "light"
     },
     "output_type": "display_data"
    }
   ],
   "source": [
    "ax = movies_rating.plot.line();\n",
    "ax.set_title('Average Movie Rating per Year', y=1.04)\n",
    "ax.set_ylabel('Rating');"
   ]
  },
  {
   "cell_type": "code",
   "execution_count": 32,
   "metadata": {},
   "outputs": [
    {
     "data": {
      "text/plain": [
       "Year\n",
       "2006    277232.219512\n",
       "2007    259157.717391\n",
       "2008    262441.469388\n",
       "2009    256690.142857\n",
       "2010    255093.288136\n",
       "Name: Votes, dtype: float64"
      ]
     },
     "execution_count": 32,
     "metadata": {},
     "output_type": "execute_result"
    }
   ],
   "source": [
    "movies_votes = project_data.groupby('Year')['Votes'].mean()\n",
    "movies_votes.head()"
   ]
  },
  {
   "cell_type": "code",
   "execution_count": 33,
   "metadata": {},
   "outputs": [
    {
     "data": {
      "image/png": "[encoded data removed]",
      "text/plain": [
       "<Figure size 432x288 with 1 Axes>"
      ]
     },
     "metadata": {
      "needs_background": "light"
     },
     "output_type": "display_data"
    }
   ],
   "source": [
    "ax = movies_votes.plot.line();\n",
    "ax.set_title('Average Movie votes per Year', y=1.04)\n",
    "ax.set_ylabel('Votes');"
   ]
  },
  {
   "cell_type": "code",
   "execution_count": 34,
   "metadata": {},
   "outputs": [
    {
     "data": {
      "text/plain": [
       "Year\n",
       "2006    64.414634\n",
       "2007    64.500000\n",
       "2008    57.408163\n",
       "2009    57.122449\n",
       "2010    59.389831\n",
       "Name: Metascore, dtype: float64"
      ]
     },
     "execution_count": 34,
     "metadata": {},
     "output_type": "execute_result"
    }
   ],
   "source": [
    "movies_metascore = project_data.groupby('Year')['Metascore'].mean()\n",
    "movies_metascore.head()"
   ]
  },
  {
   "cell_type": "code",
   "execution_count": 35,
   "metadata": {},
   "outputs": [
    {
     "data": {
      "image/png": "[encoded data removed]",
      "text/plain": [
       "<Figure size 432x288 with 1 Axes>"
      ]
     },
     "metadata": {
      "needs_background": "light"
     },
     "output_type": "display_data"
    }
   ],
   "source": [
    "ax = movies_rating.plot.line();\n",
    "ax.set_title('Average Movie Metascore per Year', y=1.04)\n",
    "ax.set_ylabel('Metascore');"
   ]
  },
  {
   "cell_type": "markdown",
   "metadata": {},
   "source": [
    "The popularity of movies in terms of IMDB rating and metascore is seen to be drastically decreasing over the years although the revenue of movies is increasing. Let us dig deeper and analyze the characteristics of movies in the dataset."
   ]
  },
  {
   "cell_type": "markdown",
   "metadata": {},
   "source": [
    "<a id='section402'></a>\n",
    "#### 4.2 How does the Genre of a movie affect the outcome of the movie?"
   ]
  },
  {
   "cell_type": "markdown",
   "metadata": {},
   "source": [
    "<a id='section4021'></a>\n",
    "#### 4.2.1Does the total number of Genres in the movie affect the revenue, popularity, critical acclaim of the movie?"
   ]
  },
  {
   "cell_type": "code",
   "execution_count": 36,
   "metadata": {},
   "outputs": [],
   "source": [
    "# The Genre column contains Genre combination as string separated by comma\n",
    "project_data['Genre_count'] = project_data.Genre.str.split(',').str.len()"
   ]
  },
  {
   "cell_type": "code",
   "execution_count": 37,
   "metadata": {},
   "outputs": [
    {
     "data": {
      "text/plain": [
       "Title\n",
       "Guardians of the Galaxy    3\n",
       "Prometheus                 3\n",
       "Split                      2\n",
       "Sing                       3\n",
       "Suicide Squad              3\n",
       "Name: Genre_count, dtype: int64"
      ]
     },
     "execution_count": 37,
     "metadata": {},
     "output_type": "execute_result"
    }
   ],
   "source": [
    "project_data.Genre_count.head()"
   ]
  },
  {
   "cell_type": "code",
   "execution_count": 38,
   "metadata": {},
   "outputs": [
    {
     "data": {
      "text/html": [
       "<div>\n",
       "<style scoped>\n",
       "    .dataframe tbody tr th:only-of-type {\n",
       "        vertical-align: middle;\n",
       "    }\n",
       "\n",
       "    .dataframe tbody tr th {\n",
       "        vertical-align: top;\n",
       "    }\n",
       "\n",
       "    .dataframe thead th {\n",
       "        text-align: right;\n",
       "    }\n",
       "</style>\n",
       "<table border=\"1\" class=\"dataframe\">\n",
       "  <thead>\n",
       "    <tr style=\"text-align: right;\">\n",
       "      <th></th>\n",
       "      <th>Revenue</th>\n",
       "      <th>Rating</th>\n",
       "      <th>Metascore</th>\n",
       "    </tr>\n",
       "    <tr>\n",
       "      <th>Genre_count</th>\n",
       "      <th></th>\n",
       "      <th></th>\n",
       "      <th></th>\n",
       "    </tr>\n",
       "  </thead>\n",
       "  <tbody>\n",
       "    <tr>\n",
       "      <th>1</th>\n",
       "      <td>46.641848</td>\n",
       "      <td>6.365217</td>\n",
       "      <td>58.793478</td>\n",
       "    </tr>\n",
       "    <tr>\n",
       "      <th>2</th>\n",
       "      <td>55.710591</td>\n",
       "      <td>6.695455</td>\n",
       "      <td>58.677273</td>\n",
       "    </tr>\n",
       "    <tr>\n",
       "      <th>3</th>\n",
       "      <td>94.583734</td>\n",
       "      <td>6.794712</td>\n",
       "      <td>59.121795</td>\n",
       "    </tr>\n",
       "  </tbody>\n",
       "</table>\n",
       "</div>"
      ],
      "text/plain": [
       "               Revenue    Rating  Metascore\n",
       "Genre_count                                \n",
       "1            46.641848  6.365217  58.793478\n",
       "2            55.710591  6.695455  58.677273\n",
       "3            94.583734  6.794712  59.121795"
      ]
     },
     "execution_count": 38,
     "metadata": {},
     "output_type": "execute_result"
    }
   ],
   "source": [
    "# Calculate the Average Revenue, Rating and Metascore of movies based on the Genre_count\n",
    "genre_count_stats = project_data.groupby('Genre_count')['Revenue', 'Rating', 'Metascore'].mean()\n",
    "genre_count_stats"
   ]
  },
  {
   "cell_type": "code",
   "execution_count": 42,
   "metadata": {},
   "outputs": [
    {
     "data": {
      "image/png": "[encoded data removed]",
      "text/plain": [
       "<Figure size 720x720 with 3 Axes>"
      ]
     },
     "metadata": {
      "needs_background": "light"
     },
     "output_type": "display_data"
    }
   ],
   "source": [
    "# Plot the results above\n",
    "ax1, ax2, ax3 = genre_count_stats.plot.bar(subplots=True);\n",
    "fig = ax1.get_figure()\n",
    "fig.set_size_inches(10, 10)\n",
    "ax1.set_ylabel(\"Revenue\")\n",
    "ax1.legend(\"\")\n",
    "ax1.set_title(\"\")\n",
    "ax2.set_ylabel(\"Rating\")\n",
    "ax2.legend(\"\")\n",
    "ax2.set_title(\"\")\n",
    "ax3.set_ylabel(\"Metascore\")\n",
    "ax3.legend(\"\")\n",
    "ax3.set_title(\"\")\n",
    "ax3.set_xticklabels(genre_count_stats.index, rotation = 0.05);"
   ]
  },
  {
   "cell_type": "markdown",
   "metadata": {},
   "source": [
    "- It is observed that the revenue increases with increase in the Genre count. On average,movies with 3 Genres tends to earn double the revenue than movies with only 1 Genre.\n",
    "- Although slightly, but both the IMDB Rating and Metascore are on the rise when Genre count increases.\n"
   ]
  },
  {
   "cell_type": "markdown",
   "metadata": {},
   "source": [
    "<a id='section4022'></a>\n",
    "#### 4.2.2Which Genre combination bring higher Revenue, higher rating and higher Metascore for a movie?\n",
    "Since we know that a Genre count of 3 brings the best outcome for a movie, lets find out which combination of 3 Genres earns more Revenue, rating and critical acclaim."
   ]
  },
  {
   "cell_type": "code",
   "execution_count": 39,
   "metadata": {},
   "outputs": [
    {
     "data": {
      "text/html": [
       "<div>\n",
       "<style scoped>\n",
       "    .dataframe tbody tr th:only-of-type {\n",
       "        vertical-align: middle;\n",
       "    }\n",
       "\n",
       "    .dataframe tbody tr th {\n",
       "        vertical-align: top;\n",
       "    }\n",
       "\n",
       "    .dataframe thead th {\n",
       "        text-align: right;\n",
       "    }\n",
       "</style>\n",
       "<table border=\"1\" class=\"dataframe\">\n",
       "  <thead>\n",
       "    <tr style=\"text-align: right;\">\n",
       "      <th></th>\n",
       "      <th>Rank</th>\n",
       "      <th>Genre</th>\n",
       "      <th>Description</th>\n",
       "      <th>Director</th>\n",
       "      <th>Actors</th>\n",
       "      <th>Year</th>\n",
       "      <th>Runtime</th>\n",
       "      <th>Rating</th>\n",
       "      <th>Votes</th>\n",
       "      <th>Revenue</th>\n",
       "      <th>Metascore</th>\n",
       "      <th>Genre_count</th>\n",
       "    </tr>\n",
       "    <tr>\n",
       "      <th>Title</th>\n",
       "      <th></th>\n",
       "      <th></th>\n",
       "      <th></th>\n",
       "      <th></th>\n",
       "      <th></th>\n",
       "      <th></th>\n",
       "      <th></th>\n",
       "      <th></th>\n",
       "      <th></th>\n",
       "      <th></th>\n",
       "      <th></th>\n",
       "      <th></th>\n",
       "    </tr>\n",
       "  </thead>\n",
       "  <tbody>\n",
       "    <tr>\n",
       "      <th>Guardians of the Galaxy</th>\n",
       "      <td>1</td>\n",
       "      <td>Action,Adventure,Sci-Fi</td>\n",
       "      <td>A group of intergalactic criminals are forced ...</td>\n",
       "      <td>James Gunn</td>\n",
       "      <td>Chris Pratt, Vin Diesel, Bradley Cooper, Zoe S...</td>\n",
       "      <td>2014</td>\n",
       "      <td>121</td>\n",
       "      <td>8.1</td>\n",
       "      <td>757074</td>\n",
       "      <td>333.13</td>\n",
       "      <td>76.0</td>\n",
       "      <td>3</td>\n",
       "    </tr>\n",
       "    <tr>\n",
       "      <th>Prometheus</th>\n",
       "      <td>2</td>\n",
       "      <td>Adventure,Mystery,Sci-Fi</td>\n",
       "      <td>Following clues to the origin of mankind, a te...</td>\n",
       "      <td>Ridley Scott</td>\n",
       "      <td>Noomi Rapace, Logan Marshall-Green, Michael Fa...</td>\n",
       "      <td>2012</td>\n",
       "      <td>124</td>\n",
       "      <td>7.0</td>\n",
       "      <td>485820</td>\n",
       "      <td>126.46</td>\n",
       "      <td>65.0</td>\n",
       "      <td>3</td>\n",
       "    </tr>\n",
       "    <tr>\n",
       "      <th>Sing</th>\n",
       "      <td>4</td>\n",
       "      <td>Animation,Comedy,Family</td>\n",
       "      <td>In a city of humanoid animals, a hustling thea...</td>\n",
       "      <td>Christophe Lourdelet</td>\n",
       "      <td>Matthew McConaughey,Reese Witherspoon, Seth Ma...</td>\n",
       "      <td>2016</td>\n",
       "      <td>108</td>\n",
       "      <td>7.2</td>\n",
       "      <td>60545</td>\n",
       "      <td>270.32</td>\n",
       "      <td>59.0</td>\n",
       "      <td>3</td>\n",
       "    </tr>\n",
       "    <tr>\n",
       "      <th>Suicide Squad</th>\n",
       "      <td>5</td>\n",
       "      <td>Action,Adventure,Fantasy</td>\n",
       "      <td>A secret government agency recruits some of th...</td>\n",
       "      <td>David Ayer</td>\n",
       "      <td>Will Smith, Jared Leto, Margot Robbie, Viola D...</td>\n",
       "      <td>2016</td>\n",
       "      <td>123</td>\n",
       "      <td>6.2</td>\n",
       "      <td>393727</td>\n",
       "      <td>325.02</td>\n",
       "      <td>40.0</td>\n",
       "      <td>3</td>\n",
       "    </tr>\n",
       "    <tr>\n",
       "      <th>The Great Wall</th>\n",
       "      <td>6</td>\n",
       "      <td>Action,Adventure,Fantasy</td>\n",
       "      <td>European mercenaries searching for black powde...</td>\n",
       "      <td>Yimou Zhang</td>\n",
       "      <td>Matt Damon, Tian Jing, Willem Dafoe, Andy Lau</td>\n",
       "      <td>2016</td>\n",
       "      <td>103</td>\n",
       "      <td>6.1</td>\n",
       "      <td>56036</td>\n",
       "      <td>45.13</td>\n",
       "      <td>42.0</td>\n",
       "      <td>3</td>\n",
       "    </tr>\n",
       "  </tbody>\n",
       "</table>\n",
       "</div>"
      ],
      "text/plain": [
       "                         Rank                     Genre  \\\n",
       "Title                                                     \n",
       "Guardians of the Galaxy     1   Action,Adventure,Sci-Fi   \n",
       "Prometheus                  2  Adventure,Mystery,Sci-Fi   \n",
       "Sing                        4   Animation,Comedy,Family   \n",
       "Suicide Squad               5  Action,Adventure,Fantasy   \n",
       "The Great Wall              6  Action,Adventure,Fantasy   \n",
       "\n",
       "                                                               Description  \\\n",
       "Title                                                                        \n",
       "Guardians of the Galaxy  A group of intergalactic criminals are forced ...   \n",
       "Prometheus               Following clues to the origin of mankind, a te...   \n",
       "Sing                     In a city of humanoid animals, a hustling thea...   \n",
       "Suicide Squad            A secret government agency recruits some of th...   \n",
       "The Great Wall           European mercenaries searching for black powde...   \n",
       "\n",
       "                                     Director  \\\n",
       "Title                                           \n",
       "Guardians of the Galaxy            James Gunn   \n",
       "Prometheus                       Ridley Scott   \n",
       "Sing                     Christophe Lourdelet   \n",
       "Suicide Squad                      David Ayer   \n",
       "The Great Wall                    Yimou Zhang   \n",
       "\n",
       "                                                                    Actors  \\\n",
       "Title                                                                        \n",
       "Guardians of the Galaxy  Chris Pratt, Vin Diesel, Bradley Cooper, Zoe S...   \n",
       "Prometheus               Noomi Rapace, Logan Marshall-Green, Michael Fa...   \n",
       "Sing                     Matthew McConaughey,Reese Witherspoon, Seth Ma...   \n",
       "Suicide Squad            Will Smith, Jared Leto, Margot Robbie, Viola D...   \n",
       "The Great Wall               Matt Damon, Tian Jing, Willem Dafoe, Andy Lau   \n",
       "\n",
       "                         Year  Runtime  Rating   Votes  Revenue  Metascore  \\\n",
       "Title                                                                        \n",
       "Guardians of the Galaxy  2014      121     8.1  757074   333.13       76.0   \n",
       "Prometheus               2012      124     7.0  485820   126.46       65.0   \n",
       "Sing                     2016      108     7.2   60545   270.32       59.0   \n",
       "Suicide Squad            2016      123     6.2  393727   325.02       40.0   \n",
       "The Great Wall           2016      103     6.1   56036    45.13       42.0   \n",
       "\n",
       "                         Genre_count  \n",
       "Title                                 \n",
       "Guardians of the Galaxy            3  \n",
       "Prometheus                         3  \n",
       "Sing                               3  \n",
       "Suicide Squad                      3  \n",
       "The Great Wall                     3  "
      ]
     },
     "execution_count": 39,
     "metadata": {},
     "output_type": "execute_result"
    }
   ],
   "source": [
    "genre_3_movies = project_data[project_data.Genre_count == 3]\n",
    "genre_3_movies.head()"
   ]
  },
  {
   "cell_type": "code",
   "execution_count": 40,
   "metadata": {},
   "outputs": [
    {
     "data": {
      "text/html": [
       "<div>\n",
       "<style scoped>\n",
       "    .dataframe tbody tr th:only-of-type {\n",
       "        vertical-align: middle;\n",
       "    }\n",
       "\n",
       "    .dataframe tbody tr th {\n",
       "        vertical-align: top;\n",
       "    }\n",
       "\n",
       "    .dataframe thead th {\n",
       "        text-align: right;\n",
       "    }\n",
       "</style>\n",
       "<table border=\"1\" class=\"dataframe\">\n",
       "  <thead>\n",
       "    <tr style=\"text-align: right;\">\n",
       "      <th></th>\n",
       "      <th>Revenue</th>\n",
       "      <th>Rating</th>\n",
       "      <th>Metascore</th>\n",
       "    </tr>\n",
       "    <tr>\n",
       "      <th>Genre</th>\n",
       "      <th></th>\n",
       "      <th></th>\n",
       "      <th></th>\n",
       "    </tr>\n",
       "  </thead>\n",
       "  <tbody>\n",
       "    <tr>\n",
       "      <th>Action,Adventure,Biography</th>\n",
       "      <td>16.500000</td>\n",
       "      <td>7.000000</td>\n",
       "      <td>62.500000</td>\n",
       "    </tr>\n",
       "    <tr>\n",
       "      <th>Action,Adventure,Comedy</th>\n",
       "      <td>95.733571</td>\n",
       "      <td>6.592857</td>\n",
       "      <td>47.214286</td>\n",
       "    </tr>\n",
       "    <tr>\n",
       "      <th>Action,Adventure,Crime</th>\n",
       "      <td>90.620000</td>\n",
       "      <td>6.433333</td>\n",
       "      <td>48.333333</td>\n",
       "    </tr>\n",
       "    <tr>\n",
       "      <th>Action,Adventure,Drama</th>\n",
       "      <td>81.487647</td>\n",
       "      <td>6.441176</td>\n",
       "      <td>53.411765</td>\n",
       "    </tr>\n",
       "    <tr>\n",
       "      <th>Action,Adventure,Family</th>\n",
       "      <td>96.646250</td>\n",
       "      <td>5.575000</td>\n",
       "      <td>39.500000</td>\n",
       "    </tr>\n",
       "  </tbody>\n",
       "</table>\n",
       "</div>"
      ],
      "text/plain": [
       "                              Revenue    Rating  Metascore\n",
       "Genre                                                     \n",
       "Action,Adventure,Biography  16.500000  7.000000  62.500000\n",
       "Action,Adventure,Comedy     95.733571  6.592857  47.214286\n",
       "Action,Adventure,Crime      90.620000  6.433333  48.333333\n",
       "Action,Adventure,Drama      81.487647  6.441176  53.411765\n",
       "Action,Adventure,Family     96.646250  5.575000  39.500000"
      ]
     },
     "execution_count": 40,
     "metadata": {},
     "output_type": "execute_result"
    }
   ],
   "source": [
    "genre_3_movies = genre_3_movies.groupby('Genre')['Revenue', 'Rating', 'Metascore'].mean()\n",
    "genre_3_movies.head()"
   ]
  },
  {
   "cell_type": "code",
   "execution_count": 41,
   "metadata": {},
   "outputs": [
    {
     "data": {
      "image/png": "[encoded data removed]",
      "text/plain": [
       "<Figure size 432x288 with 1 Axes>"
      ]
     },
     "metadata": {
      "needs_background": "light"
     },
     "output_type": "display_data"
    }
   ],
   "source": [
    "ax = genre_3_movies.Revenue.sort_values(ascending=False).head(5).plot.barh();\n",
    "ax.set_xlabel('Revenue');"
   ]
  },
  {
   "cell_type": "code",
   "execution_count": 42,
   "metadata": {},
   "outputs": [
    {
     "data": {
      "image/png": "[encoded data removed]",
      "text/plain": [
       "<Figure size 432x288 with 1 Axes>"
      ]
     },
     "metadata": {
      "needs_background": "light"
     },
     "output_type": "display_data"
    }
   ],
   "source": [
    "ax = genre_3_movies.Rating.sort_values(ascending=False).head(5).plot.barh();\n",
    "ax.set_xlabel('Rating');"
   ]
  },
  {
   "cell_type": "code",
   "execution_count": 43,
   "metadata": {},
   "outputs": [
    {
     "data": {
      "image/png": "[encoded data removed]",
      "text/plain": [
       "<Figure size 432x288 with 1 Axes>"
      ]
     },
     "metadata": {
      "needs_background": "light"
     },
     "output_type": "display_data"
    }
   ],
   "source": [
    "ax = genre_3_movies.Metascore.sort_values(ascending=False).head(5).plot.barh();\n",
    "ax.set_xlabel('Metascore');"
   ]
  },
  {
   "cell_type": "markdown",
   "metadata": {},
   "source": [
    "The following points can be noted from the above observations:-\n",
    "- The combination of Genres: Animation, Drama and Fantasy produces the highest Revenue and has most rating as well. \n",
    "- while Drama, Fantasy and War is highly popular among the critics."
   ]
  },
  {
   "cell_type": "markdown",
   "metadata": {},
   "source": [
    "<a id='section403'></a>\n",
    "#### 4.3 How does the runtime of movies affect the outcome of the movie?"
   ]
  },
  {
   "cell_type": "code",
   "execution_count": 44,
   "metadata": {},
   "outputs": [
    {
     "data": {
      "text/plain": [
       "count    936.000000\n",
       "mean     113.272436\n",
       "std       18.550798\n",
       "min       66.000000\n",
       "25%      100.000000\n",
       "50%      111.000000\n",
       "75%      123.000000\n",
       "max      187.000000\n",
       "Name: Runtime, dtype: float64"
      ]
     },
     "execution_count": 44,
     "metadata": {},
     "output_type": "execute_result"
    }
   ],
   "source": [
    "# Find out the percentiles of the Runtime column\n",
    "project_data.Runtime.describe()"
   ]
  },
  {
   "cell_type": "code",
   "execution_count": 45,
   "metadata": {},
   "outputs": [
    {
     "data": {
      "text/plain": [
       "<matplotlib.axes._subplots.AxesSubplot at 0x7fa69bb5eb70>"
      ]
     },
     "execution_count": 45,
     "metadata": {},
     "output_type": "execute_result"
    },
    {
     "data": {
      "image/png": "[encoded data removed]",
      "text/plain": [
       "<Figure size 432x288 with 1 Axes>"
      ]
     },
     "metadata": {
      "needs_background": "light"
     },
     "output_type": "display_data"
    }
   ],
   "source": [
    "# Plot the distribution of the runtime column\n",
    "project_data.Runtime.plot.hist()"
   ]
  },
  {
   "cell_type": "markdown",
   "metadata": {},
   "source": [
    "Let us now classify the Runtime into different levels based on the ouput from the above describe method\n",
    "\n",
    "> | Runtime(in minutes) | Level     |\n",
    "|---------|-----------------|\n",
    "|   66-100  | Short|\n",
    "| 100-111   |Medium|\n",
    "| 111-123   | Moderately Long|\n",
    "| 123-187   | Long|"
   ]
  },
  {
   "cell_type": "code",
   "execution_count": 46,
   "metadata": {},
   "outputs": [
    {
     "data": {
      "text/html": [
       "<div>\n",
       "<style scoped>\n",
       "    .dataframe tbody tr th:only-of-type {\n",
       "        vertical-align: middle;\n",
       "    }\n",
       "\n",
       "    .dataframe tbody tr th {\n",
       "        vertical-align: top;\n",
       "    }\n",
       "\n",
       "    .dataframe thead th {\n",
       "        text-align: right;\n",
       "    }\n",
       "</style>\n",
       "<table border=\"1\" class=\"dataframe\">\n",
       "  <thead>\n",
       "    <tr style=\"text-align: right;\">\n",
       "      <th></th>\n",
       "      <th>Rank</th>\n",
       "      <th>Genre</th>\n",
       "      <th>Description</th>\n",
       "      <th>Director</th>\n",
       "      <th>Actors</th>\n",
       "      <th>Year</th>\n",
       "      <th>Runtime</th>\n",
       "      <th>Rating</th>\n",
       "      <th>Votes</th>\n",
       "      <th>Revenue</th>\n",
       "      <th>Metascore</th>\n",
       "      <th>Genre_count</th>\n",
       "      <th>Runtime_levels</th>\n",
       "    </tr>\n",
       "    <tr>\n",
       "      <th>Title</th>\n",
       "      <th></th>\n",
       "      <th></th>\n",
       "      <th></th>\n",
       "      <th></th>\n",
       "      <th></th>\n",
       "      <th></th>\n",
       "      <th></th>\n",
       "      <th></th>\n",
       "      <th></th>\n",
       "      <th></th>\n",
       "      <th></th>\n",
       "      <th></th>\n",
       "      <th></th>\n",
       "    </tr>\n",
       "  </thead>\n",
       "  <tbody>\n",
       "    <tr>\n",
       "      <th>Guardians of the Galaxy</th>\n",
       "      <td>1</td>\n",
       "      <td>Action,Adventure,Sci-Fi</td>\n",
       "      <td>A group of intergalactic criminals are forced ...</td>\n",
       "      <td>James Gunn</td>\n",
       "      <td>Chris Pratt, Vin Diesel, Bradley Cooper, Zoe S...</td>\n",
       "      <td>2014</td>\n",
       "      <td>121</td>\n",
       "      <td>8.1</td>\n",
       "      <td>757074</td>\n",
       "      <td>333.13</td>\n",
       "      <td>76.0</td>\n",
       "      <td>3</td>\n",
       "      <td>Moderately Long</td>\n",
       "    </tr>\n",
       "    <tr>\n",
       "      <th>Prometheus</th>\n",
       "      <td>2</td>\n",
       "      <td>Adventure,Mystery,Sci-Fi</td>\n",
       "      <td>Following clues to the origin of mankind, a te...</td>\n",
       "      <td>Ridley Scott</td>\n",
       "      <td>Noomi Rapace, Logan Marshall-Green, Michael Fa...</td>\n",
       "      <td>2012</td>\n",
       "      <td>124</td>\n",
       "      <td>7.0</td>\n",
       "      <td>485820</td>\n",
       "      <td>126.46</td>\n",
       "      <td>65.0</td>\n",
       "      <td>3</td>\n",
       "      <td>Long</td>\n",
       "    </tr>\n",
       "    <tr>\n",
       "      <th>Split</th>\n",
       "      <td>3</td>\n",
       "      <td>Horror,Thriller</td>\n",
       "      <td>Three girls are kidnapped by a man with a diag...</td>\n",
       "      <td>M. Night Shyamalan</td>\n",
       "      <td>James McAvoy, Anya Taylor-Joy, Haley Lu Richar...</td>\n",
       "      <td>2016</td>\n",
       "      <td>117</td>\n",
       "      <td>7.3</td>\n",
       "      <td>157606</td>\n",
       "      <td>138.12</td>\n",
       "      <td>62.0</td>\n",
       "      <td>2</td>\n",
       "      <td>Moderately Long</td>\n",
       "    </tr>\n",
       "    <tr>\n",
       "      <th>Sing</th>\n",
       "      <td>4</td>\n",
       "      <td>Animation,Comedy,Family</td>\n",
       "      <td>In a city of humanoid animals, a hustling thea...</td>\n",
       "      <td>Christophe Lourdelet</td>\n",
       "      <td>Matthew McConaughey,Reese Witherspoon, Seth Ma...</td>\n",
       "      <td>2016</td>\n",
       "      <td>108</td>\n",
       "      <td>7.2</td>\n",
       "      <td>60545</td>\n",
       "      <td>270.32</td>\n",
       "      <td>59.0</td>\n",
       "      <td>3</td>\n",
       "      <td>Medium</td>\n",
       "    </tr>\n",
       "    <tr>\n",
       "      <th>Suicide Squad</th>\n",
       "      <td>5</td>\n",
       "      <td>Action,Adventure,Fantasy</td>\n",
       "      <td>A secret government agency recruits some of th...</td>\n",
       "      <td>David Ayer</td>\n",
       "      <td>Will Smith, Jared Leto, Margot Robbie, Viola D...</td>\n",
       "      <td>2016</td>\n",
       "      <td>123</td>\n",
       "      <td>6.2</td>\n",
       "      <td>393727</td>\n",
       "      <td>325.02</td>\n",
       "      <td>40.0</td>\n",
       "      <td>3</td>\n",
       "      <td>Moderately Long</td>\n",
       "    </tr>\n",
       "  </tbody>\n",
       "</table>\n",
       "</div>"
      ],
      "text/plain": [
       "                         Rank                     Genre  \\\n",
       "Title                                                     \n",
       "Guardians of the Galaxy     1   Action,Adventure,Sci-Fi   \n",
       "Prometheus                  2  Adventure,Mystery,Sci-Fi   \n",
       "Split                       3           Horror,Thriller   \n",
       "Sing                        4   Animation,Comedy,Family   \n",
       "Suicide Squad               5  Action,Adventure,Fantasy   \n",
       "\n",
       "                                                               Description  \\\n",
       "Title                                                                        \n",
       "Guardians of the Galaxy  A group of intergalactic criminals are forced ...   \n",
       "Prometheus               Following clues to the origin of mankind, a te...   \n",
       "Split                    Three girls are kidnapped by a man with a diag...   \n",
       "Sing                     In a city of humanoid animals, a hustling thea...   \n",
       "Suicide Squad            A secret government agency recruits some of th...   \n",
       "\n",
       "                                     Director  \\\n",
       "Title                                           \n",
       "Guardians of the Galaxy            James Gunn   \n",
       "Prometheus                       Ridley Scott   \n",
       "Split                      M. Night Shyamalan   \n",
       "Sing                     Christophe Lourdelet   \n",
       "Suicide Squad                      David Ayer   \n",
       "\n",
       "                                                                    Actors  \\\n",
       "Title                                                                        \n",
       "Guardians of the Galaxy  Chris Pratt, Vin Diesel, Bradley Cooper, Zoe S...   \n",
       "Prometheus               Noomi Rapace, Logan Marshall-Green, Michael Fa...   \n",
       "Split                    James McAvoy, Anya Taylor-Joy, Haley Lu Richar...   \n",
       "Sing                     Matthew McConaughey,Reese Witherspoon, Seth Ma...   \n",
       "Suicide Squad            Will Smith, Jared Leto, Margot Robbie, Viola D...   \n",
       "\n",
       "                         Year  Runtime  Rating   Votes  Revenue  Metascore  \\\n",
       "Title                                                                        \n",
       "Guardians of the Galaxy  2014      121     8.1  757074   333.13       76.0   \n",
       "Prometheus               2012      124     7.0  485820   126.46       65.0   \n",
       "Split                    2016      117     7.3  157606   138.12       62.0   \n",
       "Sing                     2016      108     7.2   60545   270.32       59.0   \n",
       "Suicide Squad            2016      123     6.2  393727   325.02       40.0   \n",
       "\n",
       "                         Genre_count   Runtime_levels  \n",
       "Title                                                  \n",
       "Guardians of the Galaxy            3  Moderately Long  \n",
       "Prometheus                         3             Long  \n",
       "Split                              2  Moderately Long  \n",
       "Sing                               3           Medium  \n",
       "Suicide Squad                      3  Moderately Long  "
      ]
     },
     "execution_count": 46,
     "metadata": {},
     "output_type": "execute_result"
    }
   ],
   "source": [
    "# Use the Pandas cut method to map the Runtime into the above levels\n",
    "runtime_bin_edges = [66, 100, 111, 123, 187]\n",
    "runtime_bin_names = ['Short', 'Medium', 'Moderately Long', 'Long']\n",
    "project_data['Runtime_levels'] = pd.cut(project_data.Runtime, runtime_bin_edges, labels=runtime_bin_names)\n",
    "project_data.head()"
   ]
  },
  {
   "cell_type": "markdown",
   "metadata": {},
   "source": [
    "#### Let us now change the order of the columns"
   ]
  },
  {
   "cell_type": "code",
   "execution_count": 47,
   "metadata": {},
   "outputs": [
    {
     "data": {
      "text/html": [
       "<div>\n",
       "<style scoped>\n",
       "    .dataframe tbody tr th:only-of-type {\n",
       "        vertical-align: middle;\n",
       "    }\n",
       "\n",
       "    .dataframe tbody tr th {\n",
       "        vertical-align: top;\n",
       "    }\n",
       "\n",
       "    .dataframe thead th {\n",
       "        text-align: right;\n",
       "    }\n",
       "</style>\n",
       "<table border=\"1\" class=\"dataframe\">\n",
       "  <thead>\n",
       "    <tr style=\"text-align: right;\">\n",
       "      <th></th>\n",
       "      <th>Rank</th>\n",
       "      <th>Genre</th>\n",
       "      <th>Description</th>\n",
       "      <th>Director</th>\n",
       "      <th>Actors</th>\n",
       "      <th>Year</th>\n",
       "      <th>Runtime</th>\n",
       "      <th>Runtime_levels</th>\n",
       "      <th>Rating</th>\n",
       "      <th>Votes</th>\n",
       "      <th>Revenue</th>\n",
       "      <th>Metascore</th>\n",
       "    </tr>\n",
       "    <tr>\n",
       "      <th>Title</th>\n",
       "      <th></th>\n",
       "      <th></th>\n",
       "      <th></th>\n",
       "      <th></th>\n",
       "      <th></th>\n",
       "      <th></th>\n",
       "      <th></th>\n",
       "      <th></th>\n",
       "      <th></th>\n",
       "      <th></th>\n",
       "      <th></th>\n",
       "      <th></th>\n",
       "    </tr>\n",
       "  </thead>\n",
       "  <tbody>\n",
       "    <tr>\n",
       "      <th>Guardians of the Galaxy</th>\n",
       "      <td>1</td>\n",
       "      <td>Action,Adventure,Sci-Fi</td>\n",
       "      <td>A group of intergalactic criminals are forced ...</td>\n",
       "      <td>James Gunn</td>\n",
       "      <td>Chris Pratt, Vin Diesel, Bradley Cooper, Zoe S...</td>\n",
       "      <td>2014</td>\n",
       "      <td>121</td>\n",
       "      <td>Moderately Long</td>\n",
       "      <td>8.1</td>\n",
       "      <td>757074</td>\n",
       "      <td>333.13</td>\n",
       "      <td>76.0</td>\n",
       "    </tr>\n",
       "    <tr>\n",
       "      <th>Prometheus</th>\n",
       "      <td>2</td>\n",
       "      <td>Adventure,Mystery,Sci-Fi</td>\n",
       "      <td>Following clues to the origin of mankind, a te...</td>\n",
       "      <td>Ridley Scott</td>\n",
       "      <td>Noomi Rapace, Logan Marshall-Green, Michael Fa...</td>\n",
       "      <td>2012</td>\n",
       "      <td>124</td>\n",
       "      <td>Long</td>\n",
       "      <td>7.0</td>\n",
       "      <td>485820</td>\n",
       "      <td>126.46</td>\n",
       "      <td>65.0</td>\n",
       "    </tr>\n",
       "    <tr>\n",
       "      <th>Split</th>\n",
       "      <td>3</td>\n",
       "      <td>Horror,Thriller</td>\n",
       "      <td>Three girls are kidnapped by a man with a diag...</td>\n",
       "      <td>M. Night Shyamalan</td>\n",
       "      <td>James McAvoy, Anya Taylor-Joy, Haley Lu Richar...</td>\n",
       "      <td>2016</td>\n",
       "      <td>117</td>\n",
       "      <td>Moderately Long</td>\n",
       "      <td>7.3</td>\n",
       "      <td>157606</td>\n",
       "      <td>138.12</td>\n",
       "      <td>62.0</td>\n",
       "    </tr>\n",
       "    <tr>\n",
       "      <th>Sing</th>\n",
       "      <td>4</td>\n",
       "      <td>Animation,Comedy,Family</td>\n",
       "      <td>In a city of humanoid animals, a hustling thea...</td>\n",
       "      <td>Christophe Lourdelet</td>\n",
       "      <td>Matthew McConaughey,Reese Witherspoon, Seth Ma...</td>\n",
       "      <td>2016</td>\n",
       "      <td>108</td>\n",
       "      <td>Medium</td>\n",
       "      <td>7.2</td>\n",
       "      <td>60545</td>\n",
       "      <td>270.32</td>\n",
       "      <td>59.0</td>\n",
       "    </tr>\n",
       "    <tr>\n",
       "      <th>Suicide Squad</th>\n",
       "      <td>5</td>\n",
       "      <td>Action,Adventure,Fantasy</td>\n",
       "      <td>A secret government agency recruits some of th...</td>\n",
       "      <td>David Ayer</td>\n",
       "      <td>Will Smith, Jared Leto, Margot Robbie, Viola D...</td>\n",
       "      <td>2016</td>\n",
       "      <td>123</td>\n",
       "      <td>Moderately Long</td>\n",
       "      <td>6.2</td>\n",
       "      <td>393727</td>\n",
       "      <td>325.02</td>\n",
       "      <td>40.0</td>\n",
       "    </tr>\n",
       "  </tbody>\n",
       "</table>\n",
       "</div>"
      ],
      "text/plain": [
       "                         Rank                     Genre  \\\n",
       "Title                                                     \n",
       "Guardians of the Galaxy     1   Action,Adventure,Sci-Fi   \n",
       "Prometheus                  2  Adventure,Mystery,Sci-Fi   \n",
       "Split                       3           Horror,Thriller   \n",
       "Sing                        4   Animation,Comedy,Family   \n",
       "Suicide Squad               5  Action,Adventure,Fantasy   \n",
       "\n",
       "                                                               Description  \\\n",
       "Title                                                                        \n",
       "Guardians of the Galaxy  A group of intergalactic criminals are forced ...   \n",
       "Prometheus               Following clues to the origin of mankind, a te...   \n",
       "Split                    Three girls are kidnapped by a man with a diag...   \n",
       "Sing                     In a city of humanoid animals, a hustling thea...   \n",
       "Suicide Squad            A secret government agency recruits some of th...   \n",
       "\n",
       "                                     Director  \\\n",
       "Title                                           \n",
       "Guardians of the Galaxy            James Gunn   \n",
       "Prometheus                       Ridley Scott   \n",
       "Split                      M. Night Shyamalan   \n",
       "Sing                     Christophe Lourdelet   \n",
       "Suicide Squad                      David Ayer   \n",
       "\n",
       "                                                                    Actors  \\\n",
       "Title                                                                        \n",
       "Guardians of the Galaxy  Chris Pratt, Vin Diesel, Bradley Cooper, Zoe S...   \n",
       "Prometheus               Noomi Rapace, Logan Marshall-Green, Michael Fa...   \n",
       "Split                    James McAvoy, Anya Taylor-Joy, Haley Lu Richar...   \n",
       "Sing                     Matthew McConaughey,Reese Witherspoon, Seth Ma...   \n",
       "Suicide Squad            Will Smith, Jared Leto, Margot Robbie, Viola D...   \n",
       "\n",
       "                         Year  Runtime   Runtime_levels  Rating   Votes  \\\n",
       "Title                                                                     \n",
       "Guardians of the Galaxy  2014      121  Moderately Long     8.1  757074   \n",
       "Prometheus               2012      124             Long     7.0  485820   \n",
       "Split                    2016      117  Moderately Long     7.3  157606   \n",
       "Sing                     2016      108           Medium     7.2   60545   \n",
       "Suicide Squad            2016      123  Moderately Long     6.2  393727   \n",
       "\n",
       "                         Revenue  Metascore  \n",
       "Title                                        \n",
       "Guardians of the Galaxy   333.13       76.0  \n",
       "Prometheus                126.46       65.0  \n",
       "Split                     138.12       62.0  \n",
       "Sing                      270.32       59.0  \n",
       "Suicide Squad             325.02       40.0  "
      ]
     },
     "execution_count": 47,
     "metadata": {},
     "output_type": "execute_result"
    }
   ],
   "source": [
    "df=project_data[['Rank','Genre','Description','Director','Actors','Year','Runtime','Runtime_levels','Rating','Votes','Revenue','Metascore']]\n",
    "df.head()"
   ]
  },
  {
   "cell_type": "code",
   "execution_count": 48,
   "metadata": {},
   "outputs": [
    {
     "data": {
      "text/plain": [
       "Short              252\n",
       "Long               232\n",
       "Medium             230\n",
       "Moderately Long    221\n",
       "Name: Runtime_levels, dtype: int64"
      ]
     },
     "execution_count": 48,
     "metadata": {},
     "output_type": "execute_result"
    }
   ],
   "source": [
    "#Finding the count of different Runtime_levels\n",
    "df['Runtime_levels'].value_counts()"
   ]
  },
  {
   "cell_type": "code",
   "execution_count": 54,
   "metadata": {},
   "outputs": [
    {
     "data": {
      "text/plain": [
       "Text(0.5, 1.0, 'Donut Plot showing the different Runtime levels')"
      ]
     },
     "execution_count": 54,
     "metadata": {},
     "output_type": "execute_result"
    },
    {
     "data": {
      "image/png": "[encoded data removed]",
      "text/plain": [
       "<Figure size 720x720 with 1 Axes>"
      ]
     },
     "metadata": {},
     "output_type": "display_data"
    }
   ],
   "source": [
    "# Plot the count of different Runtime levels in percentile\n",
    "# Using pandas plot function to plot a donut plot of the Runtime_levels column.\n",
    "# Using kind='pie' to plot a donut plot, also setting explode values so that it takes a donut shape instead of a pie shape.\n",
    "import numpy as np\n",
    "space = np.ones(4)/50\n",
    "df['Runtime_levels'].value_counts().plot(kind='pie',explode=space,fontsize=14, autopct='%3.1f%%', wedgeprops=dict(width=0.20), \n",
    "                                       shadow=True, startangle=160, figsize=(10,10), cmap='inferno', legend=True)\n",
    "\n",
    "plt.ylabel('Runtime_levels')\n",
    "plt.title('Donut Plot showing the different Runtime levels')"
   ]
  },
  {
   "cell_type": "markdown",
   "metadata": {},
   "source": [
    "<a id='section4031'></a>\n",
    "#### 4.3.1 Which interval of Runtime receives higher revenue,rating and metascore ?"
   ]
  },
  {
   "cell_type": "code",
   "execution_count": 55,
   "metadata": {},
   "outputs": [
    {
     "data": {
      "text/html": [
       "<div>\n",
       "<style scoped>\n",
       "    .dataframe tbody tr th:only-of-type {\n",
       "        vertical-align: middle;\n",
       "    }\n",
       "\n",
       "    .dataframe tbody tr th {\n",
       "        vertical-align: top;\n",
       "    }\n",
       "\n",
       "    .dataframe thead th {\n",
       "        text-align: right;\n",
       "    }\n",
       "</style>\n",
       "<table border=\"1\" class=\"dataframe\">\n",
       "  <thead>\n",
       "    <tr style=\"text-align: right;\">\n",
       "      <th></th>\n",
       "      <th>Revenue</th>\n",
       "      <th>Rating</th>\n",
       "      <th>Metascore</th>\n",
       "    </tr>\n",
       "    <tr>\n",
       "      <th>Runtime_levels</th>\n",
       "      <th></th>\n",
       "      <th></th>\n",
       "      <th></th>\n",
       "    </tr>\n",
       "  </thead>\n",
       "  <tbody>\n",
       "    <tr>\n",
       "      <th>Short</th>\n",
       "      <td>58.164940</td>\n",
       "      <td>6.327381</td>\n",
       "      <td>56.456349</td>\n",
       "    </tr>\n",
       "    <tr>\n",
       "      <th>Medium</th>\n",
       "      <td>66.974196</td>\n",
       "      <td>6.579130</td>\n",
       "      <td>55.273913</td>\n",
       "    </tr>\n",
       "    <tr>\n",
       "      <th>Moderately Long</th>\n",
       "      <td>66.366244</td>\n",
       "      <td>6.848869</td>\n",
       "      <td>59.276018</td>\n",
       "    </tr>\n",
       "    <tr>\n",
       "      <th>Long</th>\n",
       "      <td>132.925733</td>\n",
       "      <td>7.195690</td>\n",
       "      <td>65.021552</td>\n",
       "    </tr>\n",
       "  </tbody>\n",
       "</table>\n",
       "</div>"
      ],
      "text/plain": [
       "                    Revenue    Rating  Metascore\n",
       "Runtime_levels                                  \n",
       "Short             58.164940  6.327381  56.456349\n",
       "Medium            66.974196  6.579130  55.273913\n",
       "Moderately Long   66.366244  6.848869  59.276018\n",
       "Long             132.925733  7.195690  65.021552"
      ]
     },
     "execution_count": 55,
     "metadata": {},
     "output_type": "execute_result"
    }
   ],
   "source": [
    "# Finding the Runtime level that receives the highest mean revenue, mean Rating and mean Metascore\n",
    "runtime_stats = df.groupby('Runtime_levels')['Revenue', 'Rating', 'Metascore'].mean()\n",
    "runtime_stats"
   ]
  },
  {
   "cell_type": "code",
   "execution_count": 58,
   "metadata": {},
   "outputs": [
    {
     "data": {
      "image/png": "[encoded data removed]",
      "text/plain": [
       "<Figure size 720x720 with 3 Axes>"
      ]
     },
     "metadata": {
      "needs_background": "light"
     },
     "output_type": "display_data"
    }
   ],
   "source": [
    "# Plot the above results\n",
    "ax1, ax2, ax3 = runtime_stats.plot.bar(subplots=True);\n",
    "fig = ax1.get_figure()\n",
    "fig.set_size_inches(10, 10)\n",
    "ax1.set_title(\"\")\n",
    "ax2.set_title(\"\")\n",
    "ax3.set_title(\"\")\n",
    "ax3.set_xticklabels(runtime_stats.index, rotation = 45);"
   ]
  },
  {
   "cell_type": "markdown",
   "metadata": {},
   "source": [
    "The following points can be noted from the above observations:-\n",
    "- In general, movies that have Long Runtimes (greater than 123 minutes) have higher revenue, more popularity and are critically acclaimed as well.\n",
    "- It is also noted that, movies with long Runtime (greater than 123 minutes) beats other movies in terms of Revenue by a significant margin."
   ]
  },
  {
   "cell_type": "markdown",
   "metadata": {},
   "source": [
    "<a id='section404'></a>\n",
    "#### 4.4 what is the impact of directors on the movie?"
   ]
  },
  {
   "cell_type": "markdown",
   "metadata": {},
   "source": [
    "<a id='section4041'></a>\n",
    "#### 4.4.1which director's movies receive higher Revenue?"
   ]
  },
  {
   "cell_type": "code",
   "execution_count": 59,
   "metadata": {},
   "outputs": [
    {
     "data": {
      "text/plain": [
       "Ridley Scott          8\n",
       "Paul W.S. Anderson    6\n",
       "Michael Bay           6\n",
       "David Yates           6\n",
       "M. Night Shyamalan    6\n",
       "Denis Villeneuve      5\n",
       "David Fincher         5\n",
       "Zack Snyder           5\n",
       "Christopher Nolan     5\n",
       "Martin Scorsese       5\n",
       "Name: Director, dtype: int64"
      ]
     },
     "execution_count": 59,
     "metadata": {},
     "output_type": "execute_result"
    }
   ],
   "source": [
    "# let us find the number of movies directed by each director over the 10 year period\n",
    "project_data.Director.value_counts().head(10)"
   ]
  },
  {
   "cell_type": "code",
   "execution_count": 60,
   "metadata": {},
   "outputs": [
    {
     "data": {
      "text/html": [
       "<div>\n",
       "<style scoped>\n",
       "    .dataframe tbody tr th:only-of-type {\n",
       "        vertical-align: middle;\n",
       "    }\n",
       "\n",
       "    .dataframe tbody tr th {\n",
       "        vertical-align: top;\n",
       "    }\n",
       "\n",
       "    .dataframe thead th {\n",
       "        text-align: right;\n",
       "    }\n",
       "</style>\n",
       "<table border=\"1\" class=\"dataframe\">\n",
       "  <thead>\n",
       "    <tr style=\"text-align: right;\">\n",
       "      <th></th>\n",
       "      <th>Revenue</th>\n",
       "      <th>Movies Count</th>\n",
       "    </tr>\n",
       "    <tr>\n",
       "      <th>Director</th>\n",
       "      <th></th>\n",
       "      <th></th>\n",
       "    </tr>\n",
       "  </thead>\n",
       "  <tbody>\n",
       "    <tr>\n",
       "      <th>James Cameron</th>\n",
       "      <td>760.510</td>\n",
       "      <td>1</td>\n",
       "    </tr>\n",
       "    <tr>\n",
       "      <th>Colin Trevorrow</th>\n",
       "      <td>652.180</td>\n",
       "      <td>1</td>\n",
       "    </tr>\n",
       "    <tr>\n",
       "      <th>Joss Whedon</th>\n",
       "      <td>541.135</td>\n",
       "      <td>2</td>\n",
       "    </tr>\n",
       "    <tr>\n",
       "      <th>Lee Unkrich</th>\n",
       "      <td>414.980</td>\n",
       "      <td>1</td>\n",
       "    </tr>\n",
       "    <tr>\n",
       "      <th>Gary Ross</th>\n",
       "      <td>408.000</td>\n",
       "      <td>1</td>\n",
       "    </tr>\n",
       "  </tbody>\n",
       "</table>\n",
       "</div>"
      ],
      "text/plain": [
       "                 Revenue  Movies Count\n",
       "Director                              \n",
       "James Cameron    760.510             1\n",
       "Colin Trevorrow  652.180             1\n",
       "Joss Whedon      541.135             2\n",
       "Lee Unkrich      414.980             1\n",
       "Gary Ross        408.000             1"
      ]
     },
     "execution_count": 60,
     "metadata": {},
     "output_type": "execute_result"
    }
   ],
   "source": [
    "# Find out the top 5 directors by Revenue\n",
    "revenue_directors = project_data.groupby('Director').agg({'Revenue': 'mean', 'Rank': 'count'})\n",
    "top_5_revenue_directors = revenue_directors.rename(columns={'Rank': 'Movies Count'}).sort_values('Revenue', ascending=False)[:5]\n",
    "top_5_revenue_directors"
   ]
  },
  {
   "cell_type": "code",
   "execution_count": 61,
   "metadata": {},
   "outputs": [
    {
     "data": {
      "image/png": "[encoded data removed]",
      "text/plain": [
       "<Figure size 432x288 with 1 Axes>"
      ]
     },
     "metadata": {
      "needs_background": "light"
     },
     "output_type": "display_data"
    }
   ],
   "source": [
    "# Plot the result\n",
    "ax = top_5_revenue_directors['Revenue'].plot.bar();\n",
    "ax.set_ylabel('Revenue in Millions')\n",
    "ax.set_title('Average Revenue of Top 5 Directors by Revenue', y=1.02)\n",
    "ax.set_xticklabels(top_5_revenue_directors.index,rotation=45);"
   ]
  },
  {
   "cell_type": "markdown",
   "metadata": {},
   "source": [
    "<a id='section4042'></a>\n",
    "#### 4.4.2 which director's movies receive higher Rating?"
   ]
  },
  {
   "cell_type": "code",
   "execution_count": 62,
   "metadata": {},
   "outputs": [
    {
     "data": {
      "text/html": [
       "<div>\n",
       "<style scoped>\n",
       "    .dataframe tbody tr th:only-of-type {\n",
       "        vertical-align: middle;\n",
       "    }\n",
       "\n",
       "    .dataframe tbody tr th {\n",
       "        vertical-align: top;\n",
       "    }\n",
       "\n",
       "    .dataframe thead th {\n",
       "        text-align: right;\n",
       "    }\n",
       "</style>\n",
       "<table border=\"1\" class=\"dataframe\">\n",
       "  <thead>\n",
       "    <tr style=\"text-align: right;\">\n",
       "      <th></th>\n",
       "      <th>Rating</th>\n",
       "      <th>Movies Count</th>\n",
       "    </tr>\n",
       "    <tr>\n",
       "      <th>Director</th>\n",
       "      <th></th>\n",
       "      <th></th>\n",
       "    </tr>\n",
       "  </thead>\n",
       "  <tbody>\n",
       "    <tr>\n",
       "      <th>Christopher Nolan</th>\n",
       "      <td>8.68</td>\n",
       "      <td>5</td>\n",
       "    </tr>\n",
       "    <tr>\n",
       "      <th>Makoto Shinkai</th>\n",
       "      <td>8.60</td>\n",
       "      <td>1</td>\n",
       "    </tr>\n",
       "    <tr>\n",
       "      <th>Olivier Nakache</th>\n",
       "      <td>8.60</td>\n",
       "      <td>1</td>\n",
       "    </tr>\n",
       "    <tr>\n",
       "      <th>Aamir Khan</th>\n",
       "      <td>8.50</td>\n",
       "      <td>1</td>\n",
       "    </tr>\n",
       "    <tr>\n",
       "      <th>Florian Henckel von Donnersmarck</th>\n",
       "      <td>8.50</td>\n",
       "      <td>1</td>\n",
       "    </tr>\n",
       "  </tbody>\n",
       "</table>\n",
       "</div>"
      ],
      "text/plain": [
       "                                  Rating  Movies Count\n",
       "Director                                              \n",
       "Christopher Nolan                   8.68             5\n",
       "Makoto Shinkai                      8.60             1\n",
       "Olivier Nakache                     8.60             1\n",
       "Aamir Khan                          8.50             1\n",
       "Florian Henckel von Donnersmarck    8.50             1"
      ]
     },
     "execution_count": 62,
     "metadata": {},
     "output_type": "execute_result"
    }
   ],
   "source": [
    "rating_directors = project_data.groupby('Director').agg({'Rating': 'mean', 'Rank': 'count'})\n",
    "top_5_rating_directors = rating_directors.rename(columns={'Rank': 'Movies Count'}).sort_values('Rating', ascending=False)[:5]\n",
    "top_5_rating_directors"
   ]
  },
  {
   "cell_type": "code",
   "execution_count": 64,
   "metadata": {},
   "outputs": [
    {
     "data": {
      "image/png": "[encoded data removed]",
      "text/plain": [
       "<Figure size 432x288 with 1 Axes>"
      ]
     },
     "metadata": {
      "needs_background": "light"
     },
     "output_type": "display_data"
    }
   ],
   "source": [
    "# Plot the result\n",
    "ax = top_5_rating_directors['Rating'].plot.bar();\n",
    "ax.set_ylabel('IMDB Rating')\n",
    "ax.set_title('Average IMDB Rating of Top 5 Directors by IMDB Rating', y=1.02)\n",
    "ax.set_xticklabels(top_5_rating_directors.index, rotation = 45);"
   ]
  },
  {
   "cell_type": "markdown",
   "metadata": {},
   "source": [
    "<a id='section4043'></a>\n",
    "#### 4.4.3 Does a particular director's movies receive higher Metacritic score ?"
   ]
  },
  {
   "cell_type": "code",
   "execution_count": 65,
   "metadata": {},
   "outputs": [
    {
     "data": {
      "text/html": [
       "<div>\n",
       "<style scoped>\n",
       "    .dataframe tbody tr th:only-of-type {\n",
       "        vertical-align: middle;\n",
       "    }\n",
       "\n",
       "    .dataframe tbody tr th {\n",
       "        vertical-align: top;\n",
       "    }\n",
       "\n",
       "    .dataframe thead th {\n",
       "        text-align: right;\n",
       "    }\n",
       "</style>\n",
       "<table border=\"1\" class=\"dataframe\">\n",
       "  <thead>\n",
       "    <tr style=\"text-align: right;\">\n",
       "      <th></th>\n",
       "      <th>Metascore</th>\n",
       "      <th>Movies Count</th>\n",
       "    </tr>\n",
       "    <tr>\n",
       "      <th>Director</th>\n",
       "      <th></th>\n",
       "      <th></th>\n",
       "    </tr>\n",
       "  </thead>\n",
       "  <tbody>\n",
       "    <tr>\n",
       "      <th>Barry Jenkins</th>\n",
       "      <td>99.0</td>\n",
       "      <td>1</td>\n",
       "    </tr>\n",
       "    <tr>\n",
       "      <th>Kenneth Lonergan</th>\n",
       "      <td>96.0</td>\n",
       "      <td>1</td>\n",
       "    </tr>\n",
       "    <tr>\n",
       "      <th>Todd Haynes</th>\n",
       "      <td>95.0</td>\n",
       "      <td>1</td>\n",
       "    </tr>\n",
       "    <tr>\n",
       "      <th>Kathryn Bigelow</th>\n",
       "      <td>94.5</td>\n",
       "      <td>2</td>\n",
       "    </tr>\n",
       "    <tr>\n",
       "      <th>Michael Goi</th>\n",
       "      <td>94.0</td>\n",
       "      <td>1</td>\n",
       "    </tr>\n",
       "  </tbody>\n",
       "</table>\n",
       "</div>"
      ],
      "text/plain": [
       "                  Metascore  Movies Count\n",
       "Director                                 \n",
       "Barry Jenkins          99.0             1\n",
       "Kenneth Lonergan       96.0             1\n",
       "Todd Haynes            95.0             1\n",
       "Kathryn Bigelow        94.5             2\n",
       "Michael Goi            94.0             1"
      ]
     },
     "execution_count": 65,
     "metadata": {},
     "output_type": "execute_result"
    }
   ],
   "source": [
    "# Find out the top 5 directors by Metacritic Score\n",
    "meta_directors = project_data.groupby('Director').agg({'Metascore': 'mean', 'Rank': 'count'})\n",
    "top_5_meta_directors = meta_directors.rename(columns={'Rank': 'Movies Count'}).sort_values('Metascore', ascending=False)[:5]\n",
    "top_5_meta_directors"
   ]
  },
  {
   "cell_type": "code",
   "execution_count": 69,
   "metadata": {},
   "outputs": [
    {
     "data": {
      "image/png": "[encoded data removed]",
      "text/plain": [
       "<Figure size 432x288 with 1 Axes>"
      ]
     },
     "metadata": {
      "needs_background": "light"
     },
     "output_type": "display_data"
    }
   ],
   "source": [
    "# Plot the result\n",
    "ax = top_5_meta_directors['Metascore'].plot.barh();\n",
    "ax.set_xlabel('Metascore')\n",
    "ax.set_title('Average Metascore of Top 5 Directors by Metascore', y=1.02)\n",
    "ax.set_yticklabels(top_5_meta_directors.index);"
   ]
  },
  {
   "cell_type": "markdown",
   "metadata": {},
   "source": [
    "The above observations shows the top 5 Directors in terms of Revenue, Rating and Metascore.\n"
   ]
  },
  {
   "cell_type": "code",
   "execution_count": 70,
   "metadata": {},
   "outputs": [
    {
     "data": {
      "text/plain": [
       "Ridley Scott          8\n",
       "Paul W.S. Anderson    6\n",
       "Michael Bay           6\n",
       "David Yates           6\n",
       "M. Night Shyamalan    6\n",
       "Denis Villeneuve      5\n",
       "David Fincher         5\n",
       "Zack Snyder           5\n",
       "Christopher Nolan     5\n",
       "Martin Scorsese       5\n",
       "J.J. Abrams           5\n",
       "Woody Allen           5\n",
       "Peter Berg            5\n",
       "Danny Boyle           5\n",
       "Antoine Fuqua         5\n",
       "Justin Lin            5\n",
       "Name: Director, dtype: int64"
      ]
     },
     "execution_count": 70,
     "metadata": {},
     "output_type": "execute_result"
    }
   ],
   "source": [
    "# Let us also find the list of all directors who have directed total number of movies more than or equal 5.\n",
    "most_active_directors = project_data['Director'].value_counts()[project_data['Director'].value_counts() >= 5]\n",
    "most_active_directors"
   ]
  },
  {
   "cell_type": "code",
   "execution_count": 71,
   "metadata": {},
   "outputs": [
    {
     "data": {
      "text/html": [
       "<div>\n",
       "<style scoped>\n",
       "    .dataframe tbody tr th:only-of-type {\n",
       "        vertical-align: middle;\n",
       "    }\n",
       "\n",
       "    .dataframe tbody tr th {\n",
       "        vertical-align: top;\n",
       "    }\n",
       "\n",
       "    .dataframe thead th {\n",
       "        text-align: right;\n",
       "    }\n",
       "</style>\n",
       "<table border=\"1\" class=\"dataframe\">\n",
       "  <thead>\n",
       "    <tr style=\"text-align: right;\">\n",
       "      <th></th>\n",
       "      <th>Rank</th>\n",
       "      <th>Genre</th>\n",
       "      <th>Description</th>\n",
       "      <th>Director</th>\n",
       "      <th>Actors</th>\n",
       "      <th>Year</th>\n",
       "      <th>Runtime</th>\n",
       "      <th>Runtime_levels</th>\n",
       "      <th>Rating</th>\n",
       "      <th>Votes</th>\n",
       "      <th>Revenue</th>\n",
       "      <th>Metascore</th>\n",
       "    </tr>\n",
       "    <tr>\n",
       "      <th>Title</th>\n",
       "      <th></th>\n",
       "      <th></th>\n",
       "      <th></th>\n",
       "      <th></th>\n",
       "      <th></th>\n",
       "      <th></th>\n",
       "      <th></th>\n",
       "      <th></th>\n",
       "      <th></th>\n",
       "      <th></th>\n",
       "      <th></th>\n",
       "      <th></th>\n",
       "    </tr>\n",
       "  </thead>\n",
       "  <tbody>\n",
       "    <tr>\n",
       "      <th>Prometheus</th>\n",
       "      <td>2</td>\n",
       "      <td>Adventure,Mystery,Sci-Fi</td>\n",
       "      <td>Following clues to the origin of mankind, a te...</td>\n",
       "      <td>Ridley Scott</td>\n",
       "      <td>Noomi Rapace, Logan Marshall-Green, Michael Fa...</td>\n",
       "      <td>2012</td>\n",
       "      <td>124</td>\n",
       "      <td>Long</td>\n",
       "      <td>7.0</td>\n",
       "      <td>485820</td>\n",
       "      <td>126.46</td>\n",
       "      <td>65.0</td>\n",
       "    </tr>\n",
       "    <tr>\n",
       "      <th>Split</th>\n",
       "      <td>3</td>\n",
       "      <td>Horror,Thriller</td>\n",
       "      <td>Three girls are kidnapped by a man with a diag...</td>\n",
       "      <td>M. Night Shyamalan</td>\n",
       "      <td>James McAvoy, Anya Taylor-Joy, Haley Lu Richar...</td>\n",
       "      <td>2016</td>\n",
       "      <td>117</td>\n",
       "      <td>Moderately Long</td>\n",
       "      <td>7.3</td>\n",
       "      <td>157606</td>\n",
       "      <td>138.12</td>\n",
       "      <td>62.0</td>\n",
       "    </tr>\n",
       "    <tr>\n",
       "      <th>Fantastic Beasts and Where to Find Them</th>\n",
       "      <td>11</td>\n",
       "      <td>Adventure,Family,Fantasy</td>\n",
       "      <td>The adventures of writer Newt Scamander in New...</td>\n",
       "      <td>David Yates</td>\n",
       "      <td>Eddie Redmayne, Katherine Waterston, Alison Su...</td>\n",
       "      <td>2016</td>\n",
       "      <td>133</td>\n",
       "      <td>Long</td>\n",
       "      <td>7.5</td>\n",
       "      <td>232072</td>\n",
       "      <td>234.02</td>\n",
       "      <td>66.0</td>\n",
       "    </tr>\n",
       "    <tr>\n",
       "      <th>Arrival</th>\n",
       "      <td>20</td>\n",
       "      <td>Drama,Mystery,Sci-Fi</td>\n",
       "      <td>When twelve mysterious spacecraft appear aroun...</td>\n",
       "      <td>Denis Villeneuve</td>\n",
       "      <td>Amy Adams, Jeremy Renner, Forest Whitaker,Mich...</td>\n",
       "      <td>2016</td>\n",
       "      <td>116</td>\n",
       "      <td>Moderately Long</td>\n",
       "      <td>8.0</td>\n",
       "      <td>340798</td>\n",
       "      <td>100.50</td>\n",
       "      <td>81.0</td>\n",
       "    </tr>\n",
       "    <tr>\n",
       "      <th>Resident Evil: The Final Chapter</th>\n",
       "      <td>35</td>\n",
       "      <td>Action,Horror,Sci-Fi</td>\n",
       "      <td>Alice returns to where the nightmare began: Th...</td>\n",
       "      <td>Paul W.S. Anderson</td>\n",
       "      <td>Milla Jovovich, Iain Glen, Ali Larter, Shawn R...</td>\n",
       "      <td>2016</td>\n",
       "      <td>107</td>\n",
       "      <td>Medium</td>\n",
       "      <td>5.6</td>\n",
       "      <td>46165</td>\n",
       "      <td>26.84</td>\n",
       "      <td>49.0</td>\n",
       "    </tr>\n",
       "  </tbody>\n",
       "</table>\n",
       "</div>"
      ],
      "text/plain": [
       "                                         Rank                     Genre  \\\n",
       "Title                                                                     \n",
       "Prometheus                                  2  Adventure,Mystery,Sci-Fi   \n",
       "Split                                       3           Horror,Thriller   \n",
       "Fantastic Beasts and Where to Find Them    11  Adventure,Family,Fantasy   \n",
       "Arrival                                    20      Drama,Mystery,Sci-Fi   \n",
       "Resident Evil: The Final Chapter           35      Action,Horror,Sci-Fi   \n",
       "\n",
       "                                                                               Description  \\\n",
       "Title                                                                                        \n",
       "Prometheus                               Following clues to the origin of mankind, a te...   \n",
       "Split                                    Three girls are kidnapped by a man with a diag...   \n",
       "Fantastic Beasts and Where to Find Them  The adventures of writer Newt Scamander in New...   \n",
       "Arrival                                  When twelve mysterious spacecraft appear aroun...   \n",
       "Resident Evil: The Final Chapter         Alice returns to where the nightmare began: Th...   \n",
       "\n",
       "                                                   Director  \\\n",
       "Title                                                         \n",
       "Prometheus                                     Ridley Scott   \n",
       "Split                                    M. Night Shyamalan   \n",
       "Fantastic Beasts and Where to Find Them         David Yates   \n",
       "Arrival                                    Denis Villeneuve   \n",
       "Resident Evil: The Final Chapter         Paul W.S. Anderson   \n",
       "\n",
       "                                                                                    Actors  \\\n",
       "Title                                                                                        \n",
       "Prometheus                               Noomi Rapace, Logan Marshall-Green, Michael Fa...   \n",
       "Split                                    James McAvoy, Anya Taylor-Joy, Haley Lu Richar...   \n",
       "Fantastic Beasts and Where to Find Them  Eddie Redmayne, Katherine Waterston, Alison Su...   \n",
       "Arrival                                  Amy Adams, Jeremy Renner, Forest Whitaker,Mich...   \n",
       "Resident Evil: The Final Chapter         Milla Jovovich, Iain Glen, Ali Larter, Shawn R...   \n",
       "\n",
       "                                         Year  Runtime   Runtime_levels  \\\n",
       "Title                                                                     \n",
       "Prometheus                               2012      124             Long   \n",
       "Split                                    2016      117  Moderately Long   \n",
       "Fantastic Beasts and Where to Find Them  2016      133             Long   \n",
       "Arrival                                  2016      116  Moderately Long   \n",
       "Resident Evil: The Final Chapter         2016      107           Medium   \n",
       "\n",
       "                                         Rating   Votes  Revenue  Metascore  \n",
       "Title                                                                        \n",
       "Prometheus                                  7.0  485820   126.46       65.0  \n",
       "Split                                       7.3  157606   138.12       62.0  \n",
       "Fantastic Beasts and Where to Find Them     7.5  232072   234.02       66.0  \n",
       "Arrival                                     8.0  340798   100.50       81.0  \n",
       "Resident Evil: The Final Chapter            5.6   46165    26.84       49.0  "
      ]
     },
     "execution_count": 71,
     "metadata": {},
     "output_type": "execute_result"
    }
   ],
   "source": [
    "# Find out the movies of these active directors\n",
    "active_director_movies = df[df.Director.isin(most_active_directors.index.tolist())]\n",
    "active_director_movies.head()"
   ]
  },
  {
   "cell_type": "code",
   "execution_count": 72,
   "metadata": {},
   "outputs": [
    {
     "data": {
      "text/html": [
       "<div>\n",
       "<style scoped>\n",
       "    .dataframe tbody tr th:only-of-type {\n",
       "        vertical-align: middle;\n",
       "    }\n",
       "\n",
       "    .dataframe tbody tr th {\n",
       "        vertical-align: top;\n",
       "    }\n",
       "\n",
       "    .dataframe thead th {\n",
       "        text-align: right;\n",
       "    }\n",
       "</style>\n",
       "<table border=\"1\" class=\"dataframe\">\n",
       "  <thead>\n",
       "    <tr style=\"text-align: right;\">\n",
       "      <th></th>\n",
       "      <th>Revenue</th>\n",
       "      <th>Rating</th>\n",
       "      <th>Metascore</th>\n",
       "    </tr>\n",
       "    <tr>\n",
       "      <th>Director</th>\n",
       "      <th></th>\n",
       "      <th></th>\n",
       "      <th></th>\n",
       "    </tr>\n",
       "  </thead>\n",
       "  <tbody>\n",
       "    <tr>\n",
       "      <th>Antoine Fuqua</th>\n",
       "      <td>78.642000</td>\n",
       "      <td>7.040000</td>\n",
       "      <td>52.400000</td>\n",
       "    </tr>\n",
       "    <tr>\n",
       "      <th>Christopher Nolan</th>\n",
       "      <td>303.018000</td>\n",
       "      <td>8.680000</td>\n",
       "      <td>74.800000</td>\n",
       "    </tr>\n",
       "    <tr>\n",
       "      <th>Danny Boyle</th>\n",
       "      <td>36.680000</td>\n",
       "      <td>7.420000</td>\n",
       "      <td>75.000000</td>\n",
       "    </tr>\n",
       "    <tr>\n",
       "      <th>David Fincher</th>\n",
       "      <td>105.544000</td>\n",
       "      <td>7.820000</td>\n",
       "      <td>78.600000</td>\n",
       "    </tr>\n",
       "    <tr>\n",
       "      <th>David Yates</th>\n",
       "      <td>271.751667</td>\n",
       "      <td>7.433333</td>\n",
       "      <td>68.500000</td>\n",
       "    </tr>\n",
       "    <tr>\n",
       "      <th>Denis Villeneuve</th>\n",
       "      <td>43.242000</td>\n",
       "      <td>7.760000</td>\n",
       "      <td>75.600000</td>\n",
       "    </tr>\n",
       "    <tr>\n",
       "      <th>J.J. Abrams</th>\n",
       "      <td>336.690000</td>\n",
       "      <td>7.580000</td>\n",
       "      <td>74.600000</td>\n",
       "    </tr>\n",
       "    <tr>\n",
       "      <th>Justin Lin</th>\n",
       "      <td>164.958000</td>\n",
       "      <td>6.820000</td>\n",
       "      <td>57.200000</td>\n",
       "    </tr>\n",
       "    <tr>\n",
       "      <th>M. Night Shyamalan</th>\n",
       "      <td>69.745833</td>\n",
       "      <td>5.533333</td>\n",
       "      <td>40.000000</td>\n",
       "    </tr>\n",
       "    <tr>\n",
       "      <th>Martin Scorsese</th>\n",
       "      <td>91.622000</td>\n",
       "      <td>7.920000</td>\n",
       "      <td>77.000000</td>\n",
       "    </tr>\n",
       "    <tr>\n",
       "      <th>Michael Bay</th>\n",
       "      <td>236.886667</td>\n",
       "      <td>6.483333</td>\n",
       "      <td>43.833333</td>\n",
       "    </tr>\n",
       "    <tr>\n",
       "      <th>Paul W.S. Anderson</th>\n",
       "      <td>34.820000</td>\n",
       "      <td>5.766667</td>\n",
       "      <td>40.333333</td>\n",
       "    </tr>\n",
       "    <tr>\n",
       "      <th>Peter Berg</th>\n",
       "      <td>102.266000</td>\n",
       "      <td>6.860000</td>\n",
       "      <td>57.400000</td>\n",
       "    </tr>\n",
       "    <tr>\n",
       "      <th>Ridley Scott</th>\n",
       "      <td>89.882500</td>\n",
       "      <td>6.850000</td>\n",
       "      <td>59.750000</td>\n",
       "    </tr>\n",
       "    <tr>\n",
       "      <th>Woody Allen</th>\n",
       "      <td>28.238000</td>\n",
       "      <td>7.020000</td>\n",
       "      <td>69.400000</td>\n",
       "    </tr>\n",
       "    <tr>\n",
       "      <th>Zack Snyder</th>\n",
       "      <td>195.148000</td>\n",
       "      <td>7.040000</td>\n",
       "      <td>48.000000</td>\n",
       "    </tr>\n",
       "  </tbody>\n",
       "</table>\n",
       "</div>"
      ],
      "text/plain": [
       "                       Revenue    Rating  Metascore\n",
       "Director                                           \n",
       "Antoine Fuqua        78.642000  7.040000  52.400000\n",
       "Christopher Nolan   303.018000  8.680000  74.800000\n",
       "Danny Boyle          36.680000  7.420000  75.000000\n",
       "David Fincher       105.544000  7.820000  78.600000\n",
       "David Yates         271.751667  7.433333  68.500000\n",
       "Denis Villeneuve     43.242000  7.760000  75.600000\n",
       "J.J. Abrams         336.690000  7.580000  74.600000\n",
       "Justin Lin          164.958000  6.820000  57.200000\n",
       "M. Night Shyamalan   69.745833  5.533333  40.000000\n",
       "Martin Scorsese      91.622000  7.920000  77.000000\n",
       "Michael Bay         236.886667  6.483333  43.833333\n",
       "Paul W.S. Anderson   34.820000  5.766667  40.333333\n",
       "Peter Berg          102.266000  6.860000  57.400000\n",
       "Ridley Scott         89.882500  6.850000  59.750000\n",
       "Woody Allen          28.238000  7.020000  69.400000\n",
       "Zack Snyder         195.148000  7.040000  48.000000"
      ]
     },
     "execution_count": 72,
     "metadata": {},
     "output_type": "execute_result"
    }
   ],
   "source": [
    "# Find out the Average Revenue, Rating and Metascore of movies directed by the above Directors\n",
    "active_director_stats = active_director_movies.groupby('Director')['Revenue', 'Rating', 'Metascore'].mean()\n",
    "active_director_stats"
   ]
  },
  {
   "cell_type": "code",
   "execution_count": 73,
   "metadata": {},
   "outputs": [
    {
     "data": {
      "text/html": [
       "<div>\n",
       "<style scoped>\n",
       "    .dataframe tbody tr th:only-of-type {\n",
       "        vertical-align: middle;\n",
       "    }\n",
       "\n",
       "    .dataframe tbody tr th {\n",
       "        vertical-align: top;\n",
       "    }\n",
       "\n",
       "    .dataframe thead th {\n",
       "        text-align: right;\n",
       "    }\n",
       "</style>\n",
       "<table border=\"1\" class=\"dataframe\">\n",
       "  <thead>\n",
       "    <tr style=\"text-align: right;\">\n",
       "      <th></th>\n",
       "      <th>Revenue</th>\n",
       "      <th>Rating</th>\n",
       "      <th>Metascore</th>\n",
       "    </tr>\n",
       "    <tr>\n",
       "      <th>Director</th>\n",
       "      <th></th>\n",
       "      <th></th>\n",
       "      <th></th>\n",
       "    </tr>\n",
       "  </thead>\n",
       "  <tbody>\n",
       "    <tr>\n",
       "      <th>J.J. Abrams</th>\n",
       "      <td>336.690000</td>\n",
       "      <td>7.580000</td>\n",
       "      <td>74.600000</td>\n",
       "    </tr>\n",
       "    <tr>\n",
       "      <th>Christopher Nolan</th>\n",
       "      <td>303.018000</td>\n",
       "      <td>8.680000</td>\n",
       "      <td>74.800000</td>\n",
       "    </tr>\n",
       "    <tr>\n",
       "      <th>David Yates</th>\n",
       "      <td>271.751667</td>\n",
       "      <td>7.433333</td>\n",
       "      <td>68.500000</td>\n",
       "    </tr>\n",
       "    <tr>\n",
       "      <th>Michael Bay</th>\n",
       "      <td>236.886667</td>\n",
       "      <td>6.483333</td>\n",
       "      <td>43.833333</td>\n",
       "    </tr>\n",
       "    <tr>\n",
       "      <th>Zack Snyder</th>\n",
       "      <td>195.148000</td>\n",
       "      <td>7.040000</td>\n",
       "      <td>48.000000</td>\n",
       "    </tr>\n",
       "  </tbody>\n",
       "</table>\n",
       "</div>"
      ],
      "text/plain": [
       "                      Revenue    Rating  Metascore\n",
       "Director                                          \n",
       "J.J. Abrams        336.690000  7.580000  74.600000\n",
       "Christopher Nolan  303.018000  8.680000  74.800000\n",
       "David Yates        271.751667  7.433333  68.500000\n",
       "Michael Bay        236.886667  6.483333  43.833333\n",
       "Zack Snyder        195.148000  7.040000  48.000000"
      ]
     },
     "execution_count": 73,
     "metadata": {},
     "output_type": "execute_result"
    }
   ],
   "source": [
    "# Lets find out the top 5 active directors by average revenue\n",
    "top_5_active_directors_by_revenue = active_director_stats.sort_values('Revenue', ascending=False)\n",
    "top_5_active_directors_by_revenue[:5]"
   ]
  },
  {
   "cell_type": "code",
   "execution_count": 74,
   "metadata": {},
   "outputs": [
    {
     "data": {
      "image/png": "[encoded data removed]",
      "text/plain": [
       "<Figure size 432x288 with 1 Axes>"
      ]
     },
     "metadata": {
      "needs_background": "light"
     },
     "output_type": "display_data"
    }
   ],
   "source": [
    "#plot the result\n",
    "ax = top_5_active_directors_by_revenue[:5].Revenue.plot.barh();\n",
    "ax.set_title(\"Top 5 active directors by Average Revenue\")\n",
    "ax.set_xlabel('Average Revenue');"
   ]
  },
  {
   "cell_type": "code",
   "execution_count": 75,
   "metadata": {},
   "outputs": [
    {
     "data": {
      "text/html": [
       "<div>\n",
       "<style scoped>\n",
       "    .dataframe tbody tr th:only-of-type {\n",
       "        vertical-align: middle;\n",
       "    }\n",
       "\n",
       "    .dataframe tbody tr th {\n",
       "        vertical-align: top;\n",
       "    }\n",
       "\n",
       "    .dataframe thead th {\n",
       "        text-align: right;\n",
       "    }\n",
       "</style>\n",
       "<table border=\"1\" class=\"dataframe\">\n",
       "  <thead>\n",
       "    <tr style=\"text-align: right;\">\n",
       "      <th></th>\n",
       "      <th>Revenue</th>\n",
       "      <th>Rating</th>\n",
       "      <th>Metascore</th>\n",
       "    </tr>\n",
       "    <tr>\n",
       "      <th>Director</th>\n",
       "      <th></th>\n",
       "      <th></th>\n",
       "      <th></th>\n",
       "    </tr>\n",
       "  </thead>\n",
       "  <tbody>\n",
       "    <tr>\n",
       "      <th>Christopher Nolan</th>\n",
       "      <td>303.018</td>\n",
       "      <td>8.68</td>\n",
       "      <td>74.8</td>\n",
       "    </tr>\n",
       "    <tr>\n",
       "      <th>Martin Scorsese</th>\n",
       "      <td>91.622</td>\n",
       "      <td>7.92</td>\n",
       "      <td>77.0</td>\n",
       "    </tr>\n",
       "    <tr>\n",
       "      <th>David Fincher</th>\n",
       "      <td>105.544</td>\n",
       "      <td>7.82</td>\n",
       "      <td>78.6</td>\n",
       "    </tr>\n",
       "    <tr>\n",
       "      <th>Denis Villeneuve</th>\n",
       "      <td>43.242</td>\n",
       "      <td>7.76</td>\n",
       "      <td>75.6</td>\n",
       "    </tr>\n",
       "    <tr>\n",
       "      <th>J.J. Abrams</th>\n",
       "      <td>336.690</td>\n",
       "      <td>7.58</td>\n",
       "      <td>74.6</td>\n",
       "    </tr>\n",
       "  </tbody>\n",
       "</table>\n",
       "</div>"
      ],
      "text/plain": [
       "                   Revenue  Rating  Metascore\n",
       "Director                                     \n",
       "Christopher Nolan  303.018    8.68       74.8\n",
       "Martin Scorsese     91.622    7.92       77.0\n",
       "David Fincher      105.544    7.82       78.6\n",
       "Denis Villeneuve    43.242    7.76       75.6\n",
       "J.J. Abrams        336.690    7.58       74.6"
      ]
     },
     "execution_count": 75,
     "metadata": {},
     "output_type": "execute_result"
    }
   ],
   "source": [
    "# Lets find out the top 5 active directors by average rating\n",
    "top_5_active_directors_by_rating = active_director_stats.sort_values('Rating', ascending=False)\n",
    "top_5_active_directors_by_rating[:5]"
   ]
  },
  {
   "cell_type": "code",
   "execution_count": 78,
   "metadata": {},
   "outputs": [
    {
     "data": {
      "image/png": "[encoded data removed]",
      "text/plain": [
       "<Figure size 432x288 with 1 Axes>"
      ]
     },
     "metadata": {
      "needs_background": "light"
     },
     "output_type": "display_data"
    }
   ],
   "source": [
    "# plot the result\n",
    "ax = top_5_active_directors_by_rating[:5].Rating.plot.barh();\n",
    "ax.set_title(\"Top 5 active directors by Average Rating\")\n",
    "ax.set_xlabel('Average Rating');"
   ]
  },
  {
   "cell_type": "code",
   "execution_count": 79,
   "metadata": {},
   "outputs": [
    {
     "data": {
      "text/html": [
       "<div>\n",
       "<style scoped>\n",
       "    .dataframe tbody tr th:only-of-type {\n",
       "        vertical-align: middle;\n",
       "    }\n",
       "\n",
       "    .dataframe tbody tr th {\n",
       "        vertical-align: top;\n",
       "    }\n",
       "\n",
       "    .dataframe thead th {\n",
       "        text-align: right;\n",
       "    }\n",
       "</style>\n",
       "<table border=\"1\" class=\"dataframe\">\n",
       "  <thead>\n",
       "    <tr style=\"text-align: right;\">\n",
       "      <th></th>\n",
       "      <th>Revenue</th>\n",
       "      <th>Rating</th>\n",
       "      <th>Metascore</th>\n",
       "    </tr>\n",
       "    <tr>\n",
       "      <th>Director</th>\n",
       "      <th></th>\n",
       "      <th></th>\n",
       "      <th></th>\n",
       "    </tr>\n",
       "  </thead>\n",
       "  <tbody>\n",
       "    <tr>\n",
       "      <th>David Fincher</th>\n",
       "      <td>105.544</td>\n",
       "      <td>7.82</td>\n",
       "      <td>78.6</td>\n",
       "    </tr>\n",
       "    <tr>\n",
       "      <th>Martin Scorsese</th>\n",
       "      <td>91.622</td>\n",
       "      <td>7.92</td>\n",
       "      <td>77.0</td>\n",
       "    </tr>\n",
       "    <tr>\n",
       "      <th>Denis Villeneuve</th>\n",
       "      <td>43.242</td>\n",
       "      <td>7.76</td>\n",
       "      <td>75.6</td>\n",
       "    </tr>\n",
       "    <tr>\n",
       "      <th>Danny Boyle</th>\n",
       "      <td>36.680</td>\n",
       "      <td>7.42</td>\n",
       "      <td>75.0</td>\n",
       "    </tr>\n",
       "    <tr>\n",
       "      <th>Christopher Nolan</th>\n",
       "      <td>303.018</td>\n",
       "      <td>8.68</td>\n",
       "      <td>74.8</td>\n",
       "    </tr>\n",
       "  </tbody>\n",
       "</table>\n",
       "</div>"
      ],
      "text/plain": [
       "                   Revenue  Rating  Metascore\n",
       "Director                                     \n",
       "David Fincher      105.544    7.82       78.6\n",
       "Martin Scorsese     91.622    7.92       77.0\n",
       "Denis Villeneuve    43.242    7.76       75.6\n",
       "Danny Boyle         36.680    7.42       75.0\n",
       "Christopher Nolan  303.018    8.68       74.8"
      ]
     },
     "execution_count": 79,
     "metadata": {},
     "output_type": "execute_result"
    }
   ],
   "source": [
    "# Lets find out the top 5 active directors by average metascore\n",
    "top_5_active_directors_by_metascore = active_director_stats.sort_values('Metascore', ascending=False)\n",
    "top_5_active_directors_by_metascore[:5]"
   ]
  },
  {
   "cell_type": "code",
   "execution_count": 77,
   "metadata": {},
   "outputs": [
    {
     "data": {
      "image/png": "[encoded data removed]",
      "text/plain": [
       "<Figure size 432x288 with 1 Axes>"
      ]
     },
     "metadata": {
      "needs_background": "light"
     },
     "output_type": "display_data"
    }
   ],
   "source": [
    "# plot the result\n",
    "ax = top_5_active_directors_by_metascore[:5].Metascore.plot.barh();\n",
    "ax.set_title(\"Top 5 active directors by Average Metascore\")\n",
    "ax.set_xlabel('Average Metascore');"
   ]
  },
  {
   "cell_type": "markdown",
   "metadata": {},
   "source": [
    "##### In section 4.1  we observed \n",
    "-significant increase(more than twice) in the movies produced in  the year 2016 in compararision with the year 2015.\n",
    "-increase in total revenue from movies while decrease in average revenue.\n",
    "-drastic decrease in the popularity of movies in terms of IMbd rating.\n",
    "So, let us dig deeper into the characteristics of movies in 2006and 2016 and compare them.  "
   ]
  },
  {
   "cell_type": "code",
   "execution_count": 80,
   "metadata": {},
   "outputs": [
    {
     "data": {
      "text/plain": [
       "3    157\n",
       "2     64\n",
       "1     47\n",
       "Name: Genre_count, dtype: int64"
      ]
     },
     "execution_count": 80,
     "metadata": {},
     "output_type": "execute_result"
    }
   ],
   "source": [
    "#find the Genre count of movies produced in 2016\n",
    "project_data.query('Year == 2016').Genre_count.value_counts()"
   ]
  },
  {
   "cell_type": "code",
   "execution_count": 81,
   "metadata": {},
   "outputs": [
    {
     "data": {
      "text/plain": [
       "Drama                         23\n",
       "Comedy                        13\n",
       "Comedy,Drama                  10\n",
       "Horror,Thriller               10\n",
       "Animation,Adventure,Comedy     9\n",
       "Action,Adventure,Fantasy       7\n",
       "Comedy,Drama,Romance           7\n",
       "Action,Adventure,Sci-Fi        7\n",
       "Action,Crime,Drama             7\n",
       "Crime,Drama,Thriller           7\n",
       "Name: Genre, dtype: int64"
      ]
     },
     "execution_count": 81,
     "metadata": {},
     "output_type": "execute_result"
    }
   ],
   "source": [
    "project_data.query('Year == 2016').Genre.value_counts().head(10)"
   ]
  },
  {
   "cell_type": "markdown",
   "metadata": {},
   "source": [
    "The 3 most popular Genre combinations are (as found in section 4.2.2):\n",
    "1. 'Animation,Drama, Fantasy'\n",
    "2. 'Drama,Family,Music'\n",
    "3. 'Animation,Comedy,Drama'\n",
    "\n",
    "Let's analyze the movie counts of these Genre combinations in 2016"
   ]
  },
  {
   "cell_type": "code",
   "execution_count": 82,
   "metadata": {},
   "outputs": [
    {
     "data": {
      "text/plain": [
       "1"
      ]
     },
     "execution_count": 82,
     "metadata": {},
     "output_type": "execute_result"
    }
   ],
   "source": [
    "project_data.query('Year == 2016').Genre.value_counts().loc['Animation,Drama,Fantasy']"
   ]
  },
  {
   "cell_type": "code",
   "execution_count": 83,
   "metadata": {},
   "outputs": [
    {
     "data": {
      "text/plain": [
       "False"
      ]
     },
     "execution_count": 83,
     "metadata": {},
     "output_type": "execute_result"
    }
   ],
   "source": [
    "'Drama,Family,Music' in project_data.query('Year == 2016').Genre.value_counts().index"
   ]
  },
  {
   "cell_type": "code",
   "execution_count": 84,
   "metadata": {},
   "outputs": [
    {
     "data": {
      "text/plain": [
       "True"
      ]
     },
     "execution_count": 84,
     "metadata": {},
     "output_type": "execute_result"
    }
   ],
   "source": [
    "'Animation,Comedy,Drama' in project_data.query('Year == 2016').Genre.value_counts().index"
   ]
  },
  {
   "cell_type": "code",
   "execution_count": 85,
   "metadata": {},
   "outputs": [
    {
     "data": {
      "text/plain": [
       "1"
      ]
     },
     "execution_count": 85,
     "metadata": {},
     "output_type": "execute_result"
    }
   ],
   "source": [
    "project_data.query('Year == 2016').Genre.value_counts().loc['Animation,Comedy,Drama']"
   ]
  },
  {
   "cell_type": "markdown",
   "metadata": {},
   "source": [
    "In section 4.3 we saw that movies with 'Long' runtime tends to get more IMDB Rating. So Let's analyze the runtime levels for movies in 2016"
   ]
  },
  {
   "cell_type": "code",
   "execution_count": 86,
   "metadata": {},
   "outputs": [
    {
     "data": {
      "text/plain": [
       "Short              100\n",
       "Medium              69\n",
       "Moderately Long     53\n",
       "Long                45\n",
       "Name: Runtime_levels, dtype: int64"
      ]
     },
     "execution_count": 86,
     "metadata": {},
     "output_type": "execute_result"
    }
   ],
   "source": [
    "project_data.query('Year == 2016').Runtime_levels.value_counts()"
   ]
  },
  {
   "cell_type": "code",
   "execution_count": 87,
   "metadata": {},
   "outputs": [
    {
     "data": {
      "text/plain": [
       "Medium             16\n",
       "Long               13\n",
       "Moderately Long     9\n",
       "Short               3\n",
       "Name: Runtime_levels, dtype: int64"
      ]
     },
     "execution_count": 87,
     "metadata": {},
     "output_type": "execute_result"
    }
   ],
   "source": [
    "project_data.query('Year == 2006').Runtime_levels.value_counts()"
   ]
  },
  {
   "cell_type": "markdown",
   "metadata": {},
   "source": [
    "> ##### 1. So it seems the popularity of movies in terms of IMDB rating is decreasing because of fewer number of movies with the Genre combination that could earn more rating.\n",
    "> ##### 2. Also the Runtime levels for movies in 2016 is more on the shorter sided. We have seen in section 4.2 that movies with 'Long' runtime level brings more rating."
   ]
  },
  {
   "cell_type": "markdown",
   "metadata": {},
   "source": [
    "<a id='section405'></a>\n",
    "#### 4.5  Relationship between Revenue, Rating and Metascore of movies "
   ]
  },
  {
   "cell_type": "code",
   "execution_count": 88,
   "metadata": {},
   "outputs": [
    {
     "data": {
      "image/png": "[encoded data removed]",
      "text/plain": [
       "<Figure size 540x540 with 12 Axes>"
      ]
     },
     "metadata": {
      "needs_background": "light"
     },
     "output_type": "display_data"
    }
   ],
   "source": [
    "a=sns.pairplot(project_data, palette=\"muted\",height=2.5,vars=['Revenue', 'Rating', 'Metascore'], kind='reg');\n",
    "\n",
    "#to change the size of scatterpoints\n",
    "a=a.map_offdiag(plt.scatter,s=35,alpha=0.9)\n",
    "\n",
    "#additional line to adjust some appearance issues\n",
    "plt.subplots_adjust(top=0.9);\n",
    "\n",
    "#set the title of the graph\n",
    "a.fig.suptitle('Relationship between Revenue, Rating and Metascore of Movies',fontsize=20,color='b',alpha=0.5);"
   ]
  },
  {
   "cell_type": "markdown",
   "metadata": {},
   "source": [
    "> ##### We observe that Rating and Metascore have strong correlation. So it means the Registered users on IMDB and Critics on Metacritic tend to agree with each other for most movies.\n"
   ]
  },
  {
   "cell_type": "markdown",
   "metadata": {},
   "source": [
    "<a id='section5'></a>\n",
    "### 5. Conclusion\n",
    "This section draws the conclusion from the exploration done on the dataset in Section 4.\n"
   ]
  },
  {
   "cell_type": "markdown",
   "metadata": {},
   "source": [
    "<strong>Industry Growth</strong>\n",
    "- The movie Industry is growing in terms of the total number of movies released and the total revenue gained year on year.\n",
    "- However, the average revenue of movies year on year is showing a negative trend. This is probably because of increased competition and more movies released in the industry.\n",
    "- The popularity of movies is also showing a negative trend year on year. This is probably because of more movies released with Genre combinations which are unpopular among viewers.\n",
    "\n",
    "<strong>Genre</Strong>\n",
    "- The Revenue, Rating and Metascore of movies increases with the increase in Genre count.    \n",
    "- Movies with Genre count of 3 has a significantly high revenue.\n",
    "- The Genre 'Adventure' is most common for movies which bring more revenue and \"Animation, Drama, Fantasy\" is the Genre combination with the highest Revenue.\n",
    "- The most popular Genre is 'Drama' and the Genre combination \"Animation, Drama, Fantasy\" earns the highest Rating.\n",
    "- The Genre 'Drama' is also highly popular among the critics as well.The Genre combination \"Drama, Fantasy, War\" has the highest Metascore.\n",
    "- The Genre 'Fantasy' and 'Drama' is most common for movies with high Revenue, Rating and Metascore.\n",
    "\n",
    "<strong>Runtime</Strong>\n",
    "- Movies with Long runtimes (> 123 minutes) earn more in terms of Revenue, Rating and Metascore. \n",
    "- Revenue is dramatically high for movies with Long runtimes.\n",
    "\n",
    "<strong>Director</Strong>\n",
    "- James Cameron is the director with the highest average Revenue. However he has directed only 1 movie in the 10 year period.\n",
    "- Christopher Nolan's movies are the most popular among viewers as the average rating for his movies is the highest in the 10 year period. \n",
    "- Barry Jenkins's movie has the highest Metascore. He too have directed only 1 movie in the 10 year period. \n",
    "- Among the most active directors, J J Abrams's movies earn highest in terms of Average Revenue.\n",
    "- Christopher Nolan is the most popular active director in terms of Average Rating among people.\n",
    "- Among the most active directors, critics favor David Fincher in terms of Average Metascore.\n",
    "\n",
    "<strong>Rating of movies in General</strong>\n",
    "- From the correlation graph, it is clear that People and Critics rate movies in a similar manner.\n",
    "- In general, movies with higher rating and metascore tend to earn more revenue as well.\n"
   ]
  },
  {
   "cell_type": "markdown",
   "metadata": {},
   "source": [
    "<a id='section6'></a>\n",
    "### 6. Actionable Insights\n",
    "\n"
   ]
  },
  {
   "cell_type": "markdown",
   "metadata": {},
   "source": [
    "1.<strong>Produce multiple movies with the best features</strong> - The movie Industry is on the rise and growing fast. More and more movies are released every year and the competition is very high. As the Revenue is distributed among the movies released, the average revenue of movies year on year is decreasing.So, production of  more movies using the best features (explained below) will be a good strategy achieving maximum benefits.\n",
    "\n",
    "2.<strong>Produce movies with 3 Genre combination</strong> - Include a mix of Drama, Animation, Adventure, Sci-Fi, Fantasy. As these Genres are most popular in terms of Rating and Metascore and also earns higher Revenue.\n",
    "\n",
    "3.<strong>Produce movies that have Long runtimes</strong> - Runtime greater than 2 hrs.\n",
    "\n",
    "\n",
    "4.<strong>Produce movies with active directors</strong> - Director's making multiple movies. For instance, Christopher Nolan movies is certain to bring in more Revenue, Rating and Metascore.\n",
    "\n",
    "5.<strong>Produce movies that will satisfy both People and Critics</strong> - These movies will earn higher Revenue more often than not.\n"
   ]
  },
  {
   "cell_type": "code",
   "execution_count": null,
   "metadata": {},
   "outputs": [],
   "source": []
  }
 ],
 "metadata": {
  "kernelspec": {
   "display_name": "Python 3",
   "language": "python",
   "name": "python3"
  },
  "language_info": {
   "codemirror_mode": {
    "name": "ipython",
    "version": 3
   },
   "file_extension": ".py",
   "mimetype": "text/x-python",
   "name": "python",
   "nbconvert_exporter": "python",
   "pygments_lexer": "ipython3",
   "version": "3.7.3"
  }
 },
 "nbformat": 4,
 "nbformat_minor": 2
}
